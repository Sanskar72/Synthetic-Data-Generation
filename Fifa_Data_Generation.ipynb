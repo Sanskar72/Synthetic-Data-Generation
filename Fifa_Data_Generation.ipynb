{
  "nbformat": 4,
  "nbformat_minor": 0,
  "metadata": {
    "kernelspec": {
      "display_name": "Python 3",
      "language": "python",
      "name": "python3"
    },
    "language_info": {
      "codemirror_mode": {
        "name": "ipython",
        "version": 3
      },
      "file_extension": ".py",
      "mimetype": "text/x-python",
      "name": "python",
      "nbconvert_exporter": "python",
      "pygments_lexer": "ipython3",
      "version": "3.8.3"
    },
    "colab": {
      "name": "Fifa Data Generation.ipynb",
      "provenance": [],
      "collapsed_sections": []
    }
  },
  "cells": [
    {
      "cell_type": "code",
      "metadata": {
        "id": "ERed_2RuwU_e"
      },
      "source": [
        "import matplotlib.pyplot as plt\n",
        "from sklearn import linear_model\n",
        "from sklearn.metrics import r2_score\n",
        "import pandas as pd\n",
        "import pylab as pl\n",
        "import numpy as np"
      ],
      "execution_count": null,
      "outputs": []
    },
    {
      "cell_type": "code",
      "metadata": {
        "id": "BY0a2vFZwVAF"
      },
      "source": [
        "df=pd.read_csv('fifa.csv')"
      ],
      "execution_count": null,
      "outputs": []
    },
    {
      "cell_type": "code",
      "metadata": {
        "id": "iEUQnb0kwVAP",
        "colab": {
          "base_uri": "https://localhost:8080/",
          "height": 531
        },
        "outputId": "62e291cd-b5db-4cf5-ab01-b04256da6e6c"
      },
      "source": [
        "df.head(10)"
      ],
      "execution_count": null,
      "outputs": [
        {
          "output_type": "execute_result",
          "data": {
            "text/html": [
              "<div>\n",
              "<style scoped>\n",
              "    .dataframe tbody tr th:only-of-type {\n",
              "        vertical-align: middle;\n",
              "    }\n",
              "\n",
              "    .dataframe tbody tr th {\n",
              "        vertical-align: top;\n",
              "    }\n",
              "\n",
              "    .dataframe thead th {\n",
              "        text-align: right;\n",
              "    }\n",
              "</style>\n",
              "<table border=\"1\" class=\"dataframe\">\n",
              "  <thead>\n",
              "    <tr style=\"text-align: right;\">\n",
              "      <th></th>\n",
              "      <th>Name</th>\n",
              "      <th>Age</th>\n",
              "      <th>Photo</th>\n",
              "      <th>Nationality</th>\n",
              "      <th>Flag</th>\n",
              "      <th>Overall</th>\n",
              "      <th>Potential</th>\n",
              "      <th>Club</th>\n",
              "      <th>Club Logo</th>\n",
              "      <th>Value</th>\n",
              "      <th>Wage</th>\n",
              "      <th>Special</th>\n",
              "      <th>Acceleration</th>\n",
              "      <th>Aggression</th>\n",
              "      <th>Agility</th>\n",
              "      <th>Balance</th>\n",
              "      <th>Ball Control</th>\n",
              "      <th>Composure</th>\n",
              "      <th>Crossing</th>\n",
              "      <th>Curve</th>\n",
              "      <th>Dribbling</th>\n",
              "      <th>FK Accuracy</th>\n",
              "      <th>Finishing</th>\n",
              "      <th>GK Diving</th>\n",
              "      <th>GK Handling</th>\n",
              "      <th>GK Kicking</th>\n",
              "      <th>GK Positioning</th>\n",
              "      <th>GK Reflexes</th>\n",
              "      <th>Heading Accuracy</th>\n",
              "      <th>Interceptions</th>\n",
              "      <th>Jumping</th>\n",
              "      <th>Long Passing</th>\n",
              "      <th>Long Shots</th>\n",
              "      <th>Marking</th>\n",
              "      <th>Penalties</th>\n",
              "      <th>Positioning</th>\n",
              "      <th>Reactions</th>\n",
              "      <th>Short Passing</th>\n",
              "      <th>Shot Power</th>\n",
              "      <th>Sliding Tackle</th>\n",
              "      <th>Sprint Speed</th>\n",
              "      <th>Stamina</th>\n",
              "      <th>Standing Tackle</th>\n",
              "      <th>Strength</th>\n",
              "      <th>Vision</th>\n",
              "      <th>Volleys</th>\n",
              "    </tr>\n",
              "  </thead>\n",
              "  <tbody>\n",
              "    <tr>\n",
              "      <th>0</th>\n",
              "      <td>L. Messi</td>\n",
              "      <td>30</td>\n",
              "      <td>https://cdn.sofifa.org/sm/18/players/158023.png</td>\n",
              "      <td>Argentina</td>\n",
              "      <td>https://cdn.sofifa.org/flags/52.png</td>\n",
              "      <td>94</td>\n",
              "      <td>94</td>\n",
              "      <td>FC Barcelona</td>\n",
              "      <td>https://cdn.sofifa.org/xs/18/teams/241.png</td>\n",
              "      <td>118500000.0</td>\n",
              "      <td>565000.0</td>\n",
              "      <td>2161</td>\n",
              "      <td>92</td>\n",
              "      <td>48</td>\n",
              "      <td>90</td>\n",
              "      <td>95</td>\n",
              "      <td>96</td>\n",
              "      <td>97</td>\n",
              "      <td>77</td>\n",
              "      <td>90</td>\n",
              "      <td>97</td>\n",
              "      <td>92</td>\n",
              "      <td>95</td>\n",
              "      <td>6</td>\n",
              "      <td>11</td>\n",
              "      <td>15</td>\n",
              "      <td>14</td>\n",
              "      <td>8</td>\n",
              "      <td>71</td>\n",
              "      <td>22</td>\n",
              "      <td>67</td>\n",
              "      <td>87</td>\n",
              "      <td>88</td>\n",
              "      <td>13</td>\n",
              "      <td>75</td>\n",
              "      <td>93</td>\n",
              "      <td>95</td>\n",
              "      <td>88</td>\n",
              "      <td>85</td>\n",
              "      <td>26</td>\n",
              "      <td>87</td>\n",
              "      <td>73</td>\n",
              "      <td>28</td>\n",
              "      <td>59</td>\n",
              "      <td>92</td>\n",
              "      <td>86</td>\n",
              "    </tr>\n",
              "    <tr>\n",
              "      <th>1</th>\n",
              "      <td>Cristiano Ronaldo</td>\n",
              "      <td>32</td>\n",
              "      <td>https://cdn.sofifa.org/sm/18/players/20801.png</td>\n",
              "      <td>Portugal</td>\n",
              "      <td>https://cdn.sofifa.org/flags/38.png</td>\n",
              "      <td>94</td>\n",
              "      <td>94</td>\n",
              "      <td>Real Madrid CF</td>\n",
              "      <td>https://cdn.sofifa.org/xs/18/teams/243.png</td>\n",
              "      <td>95500000.0</td>\n",
              "      <td>565000.0</td>\n",
              "      <td>2228</td>\n",
              "      <td>89</td>\n",
              "      <td>63</td>\n",
              "      <td>89</td>\n",
              "      <td>63</td>\n",
              "      <td>93</td>\n",
              "      <td>95</td>\n",
              "      <td>85</td>\n",
              "      <td>81</td>\n",
              "      <td>91</td>\n",
              "      <td>76</td>\n",
              "      <td>94</td>\n",
              "      <td>7</td>\n",
              "      <td>11</td>\n",
              "      <td>15</td>\n",
              "      <td>14</td>\n",
              "      <td>11</td>\n",
              "      <td>88</td>\n",
              "      <td>29</td>\n",
              "      <td>95</td>\n",
              "      <td>77</td>\n",
              "      <td>92</td>\n",
              "      <td>22</td>\n",
              "      <td>85</td>\n",
              "      <td>95</td>\n",
              "      <td>96</td>\n",
              "      <td>83</td>\n",
              "      <td>94</td>\n",
              "      <td>23</td>\n",
              "      <td>91</td>\n",
              "      <td>92</td>\n",
              "      <td>31</td>\n",
              "      <td>80</td>\n",
              "      <td>85</td>\n",
              "      <td>88</td>\n",
              "    </tr>\n",
              "    <tr>\n",
              "      <th>2</th>\n",
              "      <td>Neymar</td>\n",
              "      <td>25</td>\n",
              "      <td>https://cdn.sofifa.org/sm/18/players/190871.png</td>\n",
              "      <td>Brazil</td>\n",
              "      <td>https://cdn.sofifa.org/flags/54.png</td>\n",
              "      <td>92</td>\n",
              "      <td>93</td>\n",
              "      <td>Paris Saint-Germain</td>\n",
              "      <td>https://cdn.sofifa.org/xs/18/teams/73.png</td>\n",
              "      <td>119500000.0</td>\n",
              "      <td>280000.0</td>\n",
              "      <td>2105</td>\n",
              "      <td>94</td>\n",
              "      <td>56</td>\n",
              "      <td>96</td>\n",
              "      <td>82</td>\n",
              "      <td>95</td>\n",
              "      <td>92</td>\n",
              "      <td>75</td>\n",
              "      <td>82</td>\n",
              "      <td>96</td>\n",
              "      <td>84</td>\n",
              "      <td>88</td>\n",
              "      <td>9</td>\n",
              "      <td>9</td>\n",
              "      <td>15</td>\n",
              "      <td>15</td>\n",
              "      <td>11</td>\n",
              "      <td>62</td>\n",
              "      <td>36</td>\n",
              "      <td>61</td>\n",
              "      <td>75</td>\n",
              "      <td>78</td>\n",
              "      <td>21</td>\n",
              "      <td>81</td>\n",
              "      <td>90</td>\n",
              "      <td>88</td>\n",
              "      <td>82</td>\n",
              "      <td>80</td>\n",
              "      <td>33</td>\n",
              "      <td>90</td>\n",
              "      <td>78</td>\n",
              "      <td>24</td>\n",
              "      <td>53</td>\n",
              "      <td>83</td>\n",
              "      <td>83</td>\n",
              "    </tr>\n",
              "    <tr>\n",
              "      <th>3</th>\n",
              "      <td>L. Suárez</td>\n",
              "      <td>30</td>\n",
              "      <td>https://cdn.sofifa.org/sm/18/players/176580.png</td>\n",
              "      <td>Uruguay</td>\n",
              "      <td>https://cdn.sofifa.org/flags/60.png</td>\n",
              "      <td>92</td>\n",
              "      <td>92</td>\n",
              "      <td>FC Barcelona</td>\n",
              "      <td>https://cdn.sofifa.org/xs/18/teams/241.png</td>\n",
              "      <td>97000000.0</td>\n",
              "      <td>510000.0</td>\n",
              "      <td>2321</td>\n",
              "      <td>88</td>\n",
              "      <td>87</td>\n",
              "      <td>86</td>\n",
              "      <td>78</td>\n",
              "      <td>91</td>\n",
              "      <td>85</td>\n",
              "      <td>77</td>\n",
              "      <td>86</td>\n",
              "      <td>86</td>\n",
              "      <td>84</td>\n",
              "      <td>94</td>\n",
              "      <td>27</td>\n",
              "      <td>25</td>\n",
              "      <td>31</td>\n",
              "      <td>33</td>\n",
              "      <td>37</td>\n",
              "      <td>77</td>\n",
              "      <td>41</td>\n",
              "      <td>69</td>\n",
              "      <td>64</td>\n",
              "      <td>86</td>\n",
              "      <td>30</td>\n",
              "      <td>85</td>\n",
              "      <td>92</td>\n",
              "      <td>93</td>\n",
              "      <td>83</td>\n",
              "      <td>87</td>\n",
              "      <td>38</td>\n",
              "      <td>77</td>\n",
              "      <td>89</td>\n",
              "      <td>45</td>\n",
              "      <td>83</td>\n",
              "      <td>84</td>\n",
              "      <td>88</td>\n",
              "    </tr>\n",
              "    <tr>\n",
              "      <th>4</th>\n",
              "      <td>M. Neuer</td>\n",
              "      <td>31</td>\n",
              "      <td>https://cdn.sofifa.org/sm/18/players/167495.png</td>\n",
              "      <td>Germany</td>\n",
              "      <td>https://cdn.sofifa.org/flags/21.png</td>\n",
              "      <td>92</td>\n",
              "      <td>92</td>\n",
              "      <td>FC Bayern Munich</td>\n",
              "      <td>https://cdn.sofifa.org/xs/18/teams/21.png</td>\n",
              "      <td>61000000.0</td>\n",
              "      <td>230000.0</td>\n",
              "      <td>1487</td>\n",
              "      <td>56</td>\n",
              "      <td>29</td>\n",
              "      <td>51</td>\n",
              "      <td>35</td>\n",
              "      <td>48</td>\n",
              "      <td>70</td>\n",
              "      <td>15</td>\n",
              "      <td>14</td>\n",
              "      <td>30</td>\n",
              "      <td>11</td>\n",
              "      <td>13</td>\n",
              "      <td>91</td>\n",
              "      <td>90</td>\n",
              "      <td>95</td>\n",
              "      <td>91</td>\n",
              "      <td>89</td>\n",
              "      <td>25</td>\n",
              "      <td>30</td>\n",
              "      <td>77</td>\n",
              "      <td>59</td>\n",
              "      <td>16</td>\n",
              "      <td>10</td>\n",
              "      <td>47</td>\n",
              "      <td>12</td>\n",
              "      <td>85</td>\n",
              "      <td>55</td>\n",
              "      <td>25</td>\n",
              "      <td>11</td>\n",
              "      <td>60</td>\n",
              "      <td>43</td>\n",
              "      <td>10</td>\n",
              "      <td>83</td>\n",
              "      <td>70</td>\n",
              "      <td>11</td>\n",
              "    </tr>\n",
              "    <tr>\n",
              "      <th>5</th>\n",
              "      <td>De Gea</td>\n",
              "      <td>26</td>\n",
              "      <td>https://cdn.sofifa.org/sm/18/players/193080.png</td>\n",
              "      <td>Spain</td>\n",
              "      <td>https://cdn.sofifa.org/flags/45.png</td>\n",
              "      <td>91</td>\n",
              "      <td>93</td>\n",
              "      <td>Manchester United</td>\n",
              "      <td>https://cdn.sofifa.org/xs/18/teams/11.png</td>\n",
              "      <td>74500000.0</td>\n",
              "      <td>295000.0</td>\n",
              "      <td>1465</td>\n",
              "      <td>57</td>\n",
              "      <td>38</td>\n",
              "      <td>60</td>\n",
              "      <td>43</td>\n",
              "      <td>42</td>\n",
              "      <td>64</td>\n",
              "      <td>17</td>\n",
              "      <td>21</td>\n",
              "      <td>18</td>\n",
              "      <td>19</td>\n",
              "      <td>13</td>\n",
              "      <td>90</td>\n",
              "      <td>85</td>\n",
              "      <td>87</td>\n",
              "      <td>88</td>\n",
              "      <td>93</td>\n",
              "      <td>21</td>\n",
              "      <td>30</td>\n",
              "      <td>67</td>\n",
              "      <td>51</td>\n",
              "      <td>12</td>\n",
              "      <td>13</td>\n",
              "      <td>40</td>\n",
              "      <td>12</td>\n",
              "      <td>90</td>\n",
              "      <td>50</td>\n",
              "      <td>31</td>\n",
              "      <td>13</td>\n",
              "      <td>58</td>\n",
              "      <td>40</td>\n",
              "      <td>21</td>\n",
              "      <td>64</td>\n",
              "      <td>68</td>\n",
              "      <td>13</td>\n",
              "    </tr>\n",
              "    <tr>\n",
              "      <th>6</th>\n",
              "      <td>K. De Bruyne</td>\n",
              "      <td>26</td>\n",
              "      <td>https://cdn.sofifa.org/sm/18/players/192985.png</td>\n",
              "      <td>Belgium</td>\n",
              "      <td>https://cdn.sofifa.org/flags/7.png</td>\n",
              "      <td>91</td>\n",
              "      <td>92</td>\n",
              "      <td>Manchester City</td>\n",
              "      <td>https://cdn.sofifa.org/xs/18/teams/10.png</td>\n",
              "      <td>104500000.0</td>\n",
              "      <td>395000.0</td>\n",
              "      <td>2234</td>\n",
              "      <td>78</td>\n",
              "      <td>73</td>\n",
              "      <td>82</td>\n",
              "      <td>79</td>\n",
              "      <td>90</td>\n",
              "      <td>86</td>\n",
              "      <td>92</td>\n",
              "      <td>85</td>\n",
              "      <td>86</td>\n",
              "      <td>83</td>\n",
              "      <td>83</td>\n",
              "      <td>15</td>\n",
              "      <td>13</td>\n",
              "      <td>5</td>\n",
              "      <td>10</td>\n",
              "      <td>13</td>\n",
              "      <td>54</td>\n",
              "      <td>60</td>\n",
              "      <td>65</td>\n",
              "      <td>87</td>\n",
              "      <td>88</td>\n",
              "      <td>40</td>\n",
              "      <td>77</td>\n",
              "      <td>86</td>\n",
              "      <td>90</td>\n",
              "      <td>91</td>\n",
              "      <td>89</td>\n",
              "      <td>51</td>\n",
              "      <td>76</td>\n",
              "      <td>88</td>\n",
              "      <td>58</td>\n",
              "      <td>73</td>\n",
              "      <td>92</td>\n",
              "      <td>82</td>\n",
              "    </tr>\n",
              "    <tr>\n",
              "      <th>7</th>\n",
              "      <td>R. Lewandowski</td>\n",
              "      <td>28</td>\n",
              "      <td>https://cdn.sofifa.org/sm/18/players/188545.png</td>\n",
              "      <td>Poland</td>\n",
              "      <td>https://cdn.sofifa.org/flags/37.png</td>\n",
              "      <td>91</td>\n",
              "      <td>91</td>\n",
              "      <td>FC Bayern Munich</td>\n",
              "      <td>https://cdn.sofifa.org/xs/18/teams/21.png</td>\n",
              "      <td>92000000.0</td>\n",
              "      <td>355000.0</td>\n",
              "      <td>2151</td>\n",
              "      <td>79</td>\n",
              "      <td>80</td>\n",
              "      <td>78</td>\n",
              "      <td>80</td>\n",
              "      <td>89</td>\n",
              "      <td>87</td>\n",
              "      <td>62</td>\n",
              "      <td>77</td>\n",
              "      <td>85</td>\n",
              "      <td>84</td>\n",
              "      <td>91</td>\n",
              "      <td>15</td>\n",
              "      <td>6</td>\n",
              "      <td>12</td>\n",
              "      <td>8</td>\n",
              "      <td>10</td>\n",
              "      <td>85</td>\n",
              "      <td>39</td>\n",
              "      <td>84</td>\n",
              "      <td>65</td>\n",
              "      <td>84</td>\n",
              "      <td>25</td>\n",
              "      <td>88</td>\n",
              "      <td>91</td>\n",
              "      <td>91</td>\n",
              "      <td>85</td>\n",
              "      <td>88</td>\n",
              "      <td>19</td>\n",
              "      <td>79</td>\n",
              "      <td>79</td>\n",
              "      <td>42</td>\n",
              "      <td>84</td>\n",
              "      <td>78</td>\n",
              "      <td>89</td>\n",
              "    </tr>\n",
              "    <tr>\n",
              "      <th>8</th>\n",
              "      <td>E. Hazard</td>\n",
              "      <td>26</td>\n",
              "      <td>https://cdn.sofifa.org/sm/18/players/183277.png</td>\n",
              "      <td>Belgium</td>\n",
              "      <td>https://cdn.sofifa.org/flags/7.png</td>\n",
              "      <td>91</td>\n",
              "      <td>91</td>\n",
              "      <td>Chelsea</td>\n",
              "      <td>https://cdn.sofifa.org/xs/18/teams/5.png</td>\n",
              "      <td>95500000.0</td>\n",
              "      <td>405000.0</td>\n",
              "      <td>2122</td>\n",
              "      <td>93</td>\n",
              "      <td>54</td>\n",
              "      <td>93</td>\n",
              "      <td>93</td>\n",
              "      <td>93</td>\n",
              "      <td>89</td>\n",
              "      <td>81</td>\n",
              "      <td>83</td>\n",
              "      <td>94</td>\n",
              "      <td>79</td>\n",
              "      <td>84</td>\n",
              "      <td>11</td>\n",
              "      <td>12</td>\n",
              "      <td>6</td>\n",
              "      <td>8</td>\n",
              "      <td>8</td>\n",
              "      <td>60</td>\n",
              "      <td>41</td>\n",
              "      <td>59</td>\n",
              "      <td>83</td>\n",
              "      <td>80</td>\n",
              "      <td>25</td>\n",
              "      <td>86</td>\n",
              "      <td>87</td>\n",
              "      <td>87</td>\n",
              "      <td>89</td>\n",
              "      <td>79</td>\n",
              "      <td>22</td>\n",
              "      <td>88</td>\n",
              "      <td>81</td>\n",
              "      <td>27</td>\n",
              "      <td>67</td>\n",
              "      <td>89</td>\n",
              "      <td>80</td>\n",
              "    </tr>\n",
              "    <tr>\n",
              "      <th>9</th>\n",
              "      <td>T. Kroos</td>\n",
              "      <td>27</td>\n",
              "      <td>https://cdn.sofifa.org/sm/18/players/182521.png</td>\n",
              "      <td>Germany</td>\n",
              "      <td>https://cdn.sofifa.org/flags/21.png</td>\n",
              "      <td>90</td>\n",
              "      <td>90</td>\n",
              "      <td>Real Madrid CF</td>\n",
              "      <td>https://cdn.sofifa.org/xs/18/teams/243.png</td>\n",
              "      <td>79000000.0</td>\n",
              "      <td>340000.0</td>\n",
              "      <td>2189</td>\n",
              "      <td>65</td>\n",
              "      <td>60</td>\n",
              "      <td>71</td>\n",
              "      <td>71</td>\n",
              "      <td>89</td>\n",
              "      <td>85</td>\n",
              "      <td>85</td>\n",
              "      <td>85</td>\n",
              "      <td>79</td>\n",
              "      <td>84</td>\n",
              "      <td>76</td>\n",
              "      <td>10</td>\n",
              "      <td>11</td>\n",
              "      <td>13</td>\n",
              "      <td>7</td>\n",
              "      <td>10</td>\n",
              "      <td>54</td>\n",
              "      <td>81</td>\n",
              "      <td>32</td>\n",
              "      <td>93</td>\n",
              "      <td>90</td>\n",
              "      <td>67</td>\n",
              "      <td>73</td>\n",
              "      <td>79</td>\n",
              "      <td>89</td>\n",
              "      <td>90</td>\n",
              "      <td>87</td>\n",
              "      <td>69</td>\n",
              "      <td>66</td>\n",
              "      <td>77</td>\n",
              "      <td>82</td>\n",
              "      <td>74</td>\n",
              "      <td>88</td>\n",
              "      <td>82</td>\n",
              "    </tr>\n",
              "  </tbody>\n",
              "</table>\n",
              "</div>"
            ],
            "text/plain": [
              "                Name  Age  ... Vision Volleys\n",
              "0           L. Messi   30  ...     92      86\n",
              "1  Cristiano Ronaldo   32  ...     85      88\n",
              "2             Neymar   25  ...     83      83\n",
              "3          L. Suárez   30  ...     84      88\n",
              "4           M. Neuer   31  ...     70      11\n",
              "5             De Gea   26  ...     68      13\n",
              "6       K. De Bruyne   26  ...     92      82\n",
              "7     R. Lewandowski   28  ...     78      89\n",
              "8          E. Hazard   26  ...     89      80\n",
              "9           T. Kroos   27  ...     88      82\n",
              "\n",
              "[10 rows x 46 columns]"
            ]
          },
          "metadata": {
            "tags": []
          },
          "execution_count": 3
        }
      ]
    },
    {
      "cell_type": "code",
      "metadata": {
        "id": "hxm9Jem0wVAh",
        "colab": {
          "base_uri": "https://localhost:8080/",
          "height": 265
        },
        "outputId": "aef47cbb-8f35-4abd-b947-6c7263f822f2"
      },
      "source": [
        "plt.scatter(df['Overall'],df['Potential'])\n",
        "plt.show()"
      ],
      "execution_count": null,
      "outputs": [
        {
          "output_type": "display_data",
          "data": {
            "image/png": "[encoded data removed]",
            "text/plain": [
              "<Figure size 432x288 with 1 Axes>"
            ]
          },
          "metadata": {
            "tags": [],
            "needs_background": "light"
          }
        }
      ]
    },
    {
      "cell_type": "code",
      "metadata": {
        "id": "oz4AQfqGwVBN",
        "colab": {
          "base_uri": "https://localhost:8080/",
          "height": 276
        },
        "outputId": "d5a05800-9a11-4106-c56b-78a4a783627a"
      },
      "source": [
        "plt.scatter(df['Overall'],df['Value'])\n",
        "plt.show()"
      ],
      "execution_count": null,
      "outputs": [
        {
          "output_type": "display_data",
          "data": {
            "image/png": "[encoded data removed]",
            "text/plain": [
              "<Figure size 432x288 with 1 Axes>"
            ]
          },
          "metadata": {
            "tags": [],
            "needs_background": "light"
          }
        }
      ]
    },
    {
      "cell_type": "code",
      "metadata": {
        "id": "LPTayLRZwVBr",
        "colab": {
          "base_uri": "https://localhost:8080/",
          "height": 265
        },
        "outputId": "c02e20b8-8cd3-432a-ccca-cc362d6827d6"
      },
      "source": [
        "plt.scatter(df['Overall'],df['Wage'])\n",
        "plt.show()"
      ],
      "execution_count": null,
      "outputs": [
        {
          "output_type": "display_data",
          "data": {
            "image/png": "[encoded data removed]",
            "text/plain": [
              "<Figure size 432x288 with 1 Axes>"
            ]
          },
          "metadata": {
            "tags": [],
            "needs_background": "light"
          }
        }
      ]
    },
    {
      "cell_type": "code",
      "metadata": {
        "id": "Eczrt10BwVCD",
        "colab": {
          "base_uri": "https://localhost:8080/",
          "height": 265
        },
        "outputId": "489b3620-109e-4f15-b790-3fa063c0bf53"
      },
      "source": [
        "plt.scatter(df['Overall'],df['Special'])\n",
        "plt.show()"
      ],
      "execution_count": null,
      "outputs": [
        {
          "output_type": "display_data",
          "data": {
            "image/png": "[encoded data removed]",
            "text/plain": [
              "<Figure size 432x288 with 1 Axes>"
            ]
          },
          "metadata": {
            "tags": [],
            "needs_background": "light"
          }
        }
      ]
    },
    {
      "cell_type": "code",
      "metadata": {
        "id": "IM0zcPsIwVDR",
        "colab": {
          "base_uri": "https://localhost:8080/",
          "height": 269
        },
        "outputId": "f4b50777-56b6-40ec-a432-d5c46e8e7ac0"
      },
      "source": [
        "plt.scatter(df['Overall'],df['Acceleration'])\n",
        "plt.show()"
      ],
      "execution_count": null,
      "outputs": [
        {
          "output_type": "display_data",
          "data": {
            "image/png": "[encoded data removed]",
            "text/plain": [
              "<Figure size 432x288 with 1 Axes>"
            ]
          },
          "metadata": {
            "tags": [],
            "needs_background": "light"
          }
        }
      ]
    },
    {
      "cell_type": "code",
      "metadata": {
        "id": "Cwv_nKX8wVDY",
        "colab": {
          "base_uri": "https://localhost:8080/",
          "height": 268
        },
        "outputId": "6d086660-273c-4369-e9ef-61c411f46e98"
      },
      "source": [
        "plt.scatter(df['Crossing'],df['Ball Control'])\n",
        "plt.show()"
      ],
      "execution_count": null,
      "outputs": [
        {
          "output_type": "display_data",
          "data": {
            "image/png": "[encoded data removed]",
            "text/plain": [
              "<Figure size 432x288 with 1 Axes>"
            ]
          },
          "metadata": {
            "tags": [],
            "needs_background": "light"
          }
        }
      ]
    },
    {
      "cell_type": "code",
      "metadata": {
        "id": "U3XWGNOHwVDm",
        "colab": {
          "base_uri": "https://localhost:8080/",
          "height": 268
        },
        "outputId": "36af9680-1ff4-4c0e-a37e-50f9e526314c"
      },
      "source": [
        "plt.scatter(df['Overall'],df['Ball Control'])\n",
        "plt.show()"
      ],
      "execution_count": null,
      "outputs": [
        {
          "output_type": "display_data",
          "data": {
            "image/png": "[encoded data removed]",
            "text/plain": [
              "<Figure size 432x288 with 1 Axes>"
            ]
          },
          "metadata": {
            "tags": [],
            "needs_background": "light"
          }
        }
      ]
    },
    {
      "cell_type": "code",
      "metadata": {
        "id": "xDU84WR0wVDz",
        "colab": {
          "base_uri": "https://localhost:8080/",
          "height": 676
        },
        "outputId": "753c24e5-9c8c-4615-bdc1-30953761fdf2"
      },
      "source": [
        "cdf=df[['Overall','Potential','Special','Acceleration','Balance','Ball Control','Crossing','Dribbling','Finishing','Heading Accuracy','Long Passing','Long Shots','Penalties','Short Passing','Shot Power','Sliding Tackle','Sprint Speed','Stamina','Strength','Volleys']]\n",
        "cdf.head(20)"
      ],
      "execution_count": null,
      "outputs": [
        {
          "output_type": "execute_result",
          "data": {
            "text/html": [
              "<div>\n",
              "<style scoped>\n",
              "    .dataframe tbody tr th:only-of-type {\n",
              "        vertical-align: middle;\n",
              "    }\n",
              "\n",
              "    .dataframe tbody tr th {\n",
              "        vertical-align: top;\n",
              "    }\n",
              "\n",
              "    .dataframe thead th {\n",
              "        text-align: right;\n",
              "    }\n",
              "</style>\n",
              "<table border=\"1\" class=\"dataframe\">\n",
              "  <thead>\n",
              "    <tr style=\"text-align: right;\">\n",
              "      <th></th>\n",
              "      <th>Overall</th>\n",
              "      <th>Potential</th>\n",
              "      <th>Special</th>\n",
              "      <th>Acceleration</th>\n",
              "      <th>Balance</th>\n",
              "      <th>Ball Control</th>\n",
              "      <th>Crossing</th>\n",
              "      <th>Dribbling</th>\n",
              "      <th>Finishing</th>\n",
              "      <th>Heading Accuracy</th>\n",
              "      <th>Long Passing</th>\n",
              "      <th>Long Shots</th>\n",
              "      <th>Penalties</th>\n",
              "      <th>Short Passing</th>\n",
              "      <th>Shot Power</th>\n",
              "      <th>Sliding Tackle</th>\n",
              "      <th>Sprint Speed</th>\n",
              "      <th>Stamina</th>\n",
              "      <th>Strength</th>\n",
              "      <th>Volleys</th>\n",
              "    </tr>\n",
              "  </thead>\n",
              "  <tbody>\n",
              "    <tr>\n",
              "      <th>0</th>\n",
              "      <td>94</td>\n",
              "      <td>94</td>\n",
              "      <td>2161</td>\n",
              "      <td>92</td>\n",
              "      <td>95</td>\n",
              "      <td>96</td>\n",
              "      <td>77</td>\n",
              "      <td>97</td>\n",
              "      <td>95</td>\n",
              "      <td>71</td>\n",
              "      <td>87</td>\n",
              "      <td>88</td>\n",
              "      <td>75</td>\n",
              "      <td>88</td>\n",
              "      <td>85</td>\n",
              "      <td>26</td>\n",
              "      <td>87</td>\n",
              "      <td>73</td>\n",
              "      <td>59</td>\n",
              "      <td>86</td>\n",
              "    </tr>\n",
              "    <tr>\n",
              "      <th>1</th>\n",
              "      <td>94</td>\n",
              "      <td>94</td>\n",
              "      <td>2228</td>\n",
              "      <td>89</td>\n",
              "      <td>63</td>\n",
              "      <td>93</td>\n",
              "      <td>85</td>\n",
              "      <td>91</td>\n",
              "      <td>94</td>\n",
              "      <td>88</td>\n",
              "      <td>77</td>\n",
              "      <td>92</td>\n",
              "      <td>85</td>\n",
              "      <td>83</td>\n",
              "      <td>94</td>\n",
              "      <td>23</td>\n",
              "      <td>91</td>\n",
              "      <td>92</td>\n",
              "      <td>80</td>\n",
              "      <td>88</td>\n",
              "    </tr>\n",
              "    <tr>\n",
              "      <th>2</th>\n",
              "      <td>92</td>\n",
              "      <td>93</td>\n",
              "      <td>2105</td>\n",
              "      <td>94</td>\n",
              "      <td>82</td>\n",
              "      <td>95</td>\n",
              "      <td>75</td>\n",
              "      <td>96</td>\n",
              "      <td>88</td>\n",
              "      <td>62</td>\n",
              "      <td>75</td>\n",
              "      <td>78</td>\n",
              "      <td>81</td>\n",
              "      <td>82</td>\n",
              "      <td>80</td>\n",
              "      <td>33</td>\n",
              "      <td>90</td>\n",
              "      <td>78</td>\n",
              "      <td>53</td>\n",
              "      <td>83</td>\n",
              "    </tr>\n",
              "    <tr>\n",
              "      <th>3</th>\n",
              "      <td>92</td>\n",
              "      <td>92</td>\n",
              "      <td>2321</td>\n",
              "      <td>88</td>\n",
              "      <td>78</td>\n",
              "      <td>91</td>\n",
              "      <td>77</td>\n",
              "      <td>86</td>\n",
              "      <td>94</td>\n",
              "      <td>77</td>\n",
              "      <td>64</td>\n",
              "      <td>86</td>\n",
              "      <td>85</td>\n",
              "      <td>83</td>\n",
              "      <td>87</td>\n",
              "      <td>38</td>\n",
              "      <td>77</td>\n",
              "      <td>89</td>\n",
              "      <td>83</td>\n",
              "      <td>88</td>\n",
              "    </tr>\n",
              "    <tr>\n",
              "      <th>4</th>\n",
              "      <td>92</td>\n",
              "      <td>92</td>\n",
              "      <td>1487</td>\n",
              "      <td>56</td>\n",
              "      <td>35</td>\n",
              "      <td>48</td>\n",
              "      <td>15</td>\n",
              "      <td>30</td>\n",
              "      <td>13</td>\n",
              "      <td>25</td>\n",
              "      <td>59</td>\n",
              "      <td>16</td>\n",
              "      <td>47</td>\n",
              "      <td>55</td>\n",
              "      <td>25</td>\n",
              "      <td>11</td>\n",
              "      <td>60</td>\n",
              "      <td>43</td>\n",
              "      <td>83</td>\n",
              "      <td>11</td>\n",
              "    </tr>\n",
              "    <tr>\n",
              "      <th>5</th>\n",
              "      <td>91</td>\n",
              "      <td>93</td>\n",
              "      <td>1465</td>\n",
              "      <td>57</td>\n",
              "      <td>43</td>\n",
              "      <td>42</td>\n",
              "      <td>17</td>\n",
              "      <td>18</td>\n",
              "      <td>13</td>\n",
              "      <td>21</td>\n",
              "      <td>51</td>\n",
              "      <td>12</td>\n",
              "      <td>40</td>\n",
              "      <td>50</td>\n",
              "      <td>31</td>\n",
              "      <td>13</td>\n",
              "      <td>58</td>\n",
              "      <td>40</td>\n",
              "      <td>64</td>\n",
              "      <td>13</td>\n",
              "    </tr>\n",
              "    <tr>\n",
              "      <th>6</th>\n",
              "      <td>91</td>\n",
              "      <td>92</td>\n",
              "      <td>2234</td>\n",
              "      <td>78</td>\n",
              "      <td>79</td>\n",
              "      <td>90</td>\n",
              "      <td>92</td>\n",
              "      <td>86</td>\n",
              "      <td>83</td>\n",
              "      <td>54</td>\n",
              "      <td>87</td>\n",
              "      <td>88</td>\n",
              "      <td>77</td>\n",
              "      <td>91</td>\n",
              "      <td>89</td>\n",
              "      <td>51</td>\n",
              "      <td>76</td>\n",
              "      <td>88</td>\n",
              "      <td>73</td>\n",
              "      <td>82</td>\n",
              "    </tr>\n",
              "    <tr>\n",
              "      <th>7</th>\n",
              "      <td>91</td>\n",
              "      <td>91</td>\n",
              "      <td>2151</td>\n",
              "      <td>79</td>\n",
              "      <td>80</td>\n",
              "      <td>89</td>\n",
              "      <td>62</td>\n",
              "      <td>85</td>\n",
              "      <td>91</td>\n",
              "      <td>85</td>\n",
              "      <td>65</td>\n",
              "      <td>84</td>\n",
              "      <td>88</td>\n",
              "      <td>85</td>\n",
              "      <td>88</td>\n",
              "      <td>19</td>\n",
              "      <td>79</td>\n",
              "      <td>79</td>\n",
              "      <td>84</td>\n",
              "      <td>89</td>\n",
              "    </tr>\n",
              "    <tr>\n",
              "      <th>8</th>\n",
              "      <td>91</td>\n",
              "      <td>91</td>\n",
              "      <td>2122</td>\n",
              "      <td>93</td>\n",
              "      <td>93</td>\n",
              "      <td>93</td>\n",
              "      <td>81</td>\n",
              "      <td>94</td>\n",
              "      <td>84</td>\n",
              "      <td>60</td>\n",
              "      <td>83</td>\n",
              "      <td>80</td>\n",
              "      <td>86</td>\n",
              "      <td>89</td>\n",
              "      <td>79</td>\n",
              "      <td>22</td>\n",
              "      <td>88</td>\n",
              "      <td>81</td>\n",
              "      <td>67</td>\n",
              "      <td>80</td>\n",
              "    </tr>\n",
              "    <tr>\n",
              "      <th>9</th>\n",
              "      <td>90</td>\n",
              "      <td>90</td>\n",
              "      <td>2189</td>\n",
              "      <td>65</td>\n",
              "      <td>71</td>\n",
              "      <td>89</td>\n",
              "      <td>85</td>\n",
              "      <td>79</td>\n",
              "      <td>76</td>\n",
              "      <td>54</td>\n",
              "      <td>93</td>\n",
              "      <td>90</td>\n",
              "      <td>73</td>\n",
              "      <td>90</td>\n",
              "      <td>87</td>\n",
              "      <td>69</td>\n",
              "      <td>66</td>\n",
              "      <td>77</td>\n",
              "      <td>74</td>\n",
              "      <td>82</td>\n",
              "    </tr>\n",
              "    <tr>\n",
              "      <th>10</th>\n",
              "      <td>90</td>\n",
              "      <td>90</td>\n",
              "      <td>2063</td>\n",
              "      <td>62</td>\n",
              "      <td>58</td>\n",
              "      <td>81</td>\n",
              "      <td>64</td>\n",
              "      <td>68</td>\n",
              "      <td>55</td>\n",
              "      <td>89</td>\n",
              "      <td>85</td>\n",
              "      <td>51</td>\n",
              "      <td>68</td>\n",
              "      <td>82</td>\n",
              "      <td>71</td>\n",
              "      <td>90</td>\n",
              "      <td>69</td>\n",
              "      <td>66</td>\n",
              "      <td>85</td>\n",
              "      <td>60</td>\n",
              "    </tr>\n",
              "    <tr>\n",
              "      <th>11</th>\n",
              "      <td>90</td>\n",
              "      <td>90</td>\n",
              "      <td>1965</td>\n",
              "      <td>78</td>\n",
              "      <td>69</td>\n",
              "      <td>85</td>\n",
              "      <td>68</td>\n",
              "      <td>84</td>\n",
              "      <td>91</td>\n",
              "      <td>86</td>\n",
              "      <td>59</td>\n",
              "      <td>82</td>\n",
              "      <td>70</td>\n",
              "      <td>75</td>\n",
              "      <td>88</td>\n",
              "      <td>18</td>\n",
              "      <td>80</td>\n",
              "      <td>72</td>\n",
              "      <td>85</td>\n",
              "      <td>88</td>\n",
              "    </tr>\n",
              "    <tr>\n",
              "      <th>12</th>\n",
              "      <td>90</td>\n",
              "      <td>90</td>\n",
              "      <td>2154</td>\n",
              "      <td>75</td>\n",
              "      <td>60</td>\n",
              "      <td>84</td>\n",
              "      <td>66</td>\n",
              "      <td>61</td>\n",
              "      <td>60</td>\n",
              "      <td>91</td>\n",
              "      <td>72</td>\n",
              "      <td>55</td>\n",
              "      <td>68</td>\n",
              "      <td>78</td>\n",
              "      <td>79</td>\n",
              "      <td>91</td>\n",
              "      <td>77</td>\n",
              "      <td>84</td>\n",
              "      <td>81</td>\n",
              "      <td>66</td>\n",
              "    </tr>\n",
              "    <tr>\n",
              "      <th>13</th>\n",
              "      <td>89</td>\n",
              "      <td>94</td>\n",
              "      <td>2086</td>\n",
              "      <td>88</td>\n",
              "      <td>85</td>\n",
              "      <td>93</td>\n",
              "      <td>82</td>\n",
              "      <td>92</td>\n",
              "      <td>84</td>\n",
              "      <td>68</td>\n",
              "      <td>75</td>\n",
              "      <td>88</td>\n",
              "      <td>86</td>\n",
              "      <td>87</td>\n",
              "      <td>82</td>\n",
              "      <td>20</td>\n",
              "      <td>84</td>\n",
              "      <td>83</td>\n",
              "      <td>65</td>\n",
              "      <td>88</td>\n",
              "    </tr>\n",
              "    <tr>\n",
              "      <th>14</th>\n",
              "      <td>89</td>\n",
              "      <td>93</td>\n",
              "      <td>1297</td>\n",
              "      <td>43</td>\n",
              "      <td>49</td>\n",
              "      <td>16</td>\n",
              "      <td>13</td>\n",
              "      <td>12</td>\n",
              "      <td>11</td>\n",
              "      <td>15</td>\n",
              "      <td>26</td>\n",
              "      <td>12</td>\n",
              "      <td>11</td>\n",
              "      <td>29</td>\n",
              "      <td>22</td>\n",
              "      <td>18</td>\n",
              "      <td>60</td>\n",
              "      <td>41</td>\n",
              "      <td>78</td>\n",
              "      <td>13</td>\n",
              "    </tr>\n",
              "    <tr>\n",
              "      <th>15</th>\n",
              "      <td>89</td>\n",
              "      <td>92</td>\n",
              "      <td>1298</td>\n",
              "      <td>46</td>\n",
              "      <td>45</td>\n",
              "      <td>23</td>\n",
              "      <td>14</td>\n",
              "      <td>13</td>\n",
              "      <td>14</td>\n",
              "      <td>13</td>\n",
              "      <td>35</td>\n",
              "      <td>17</td>\n",
              "      <td>27</td>\n",
              "      <td>33</td>\n",
              "      <td>36</td>\n",
              "      <td>16</td>\n",
              "      <td>52</td>\n",
              "      <td>38</td>\n",
              "      <td>70</td>\n",
              "      <td>12</td>\n",
              "    </tr>\n",
              "    <tr>\n",
              "      <th>16</th>\n",
              "      <td>89</td>\n",
              "      <td>89</td>\n",
              "      <td>2231</td>\n",
              "      <td>75</td>\n",
              "      <td>94</td>\n",
              "      <td>92</td>\n",
              "      <td>78</td>\n",
              "      <td>86</td>\n",
              "      <td>71</td>\n",
              "      <td>55</td>\n",
              "      <td>84</td>\n",
              "      <td>82</td>\n",
              "      <td>80</td>\n",
              "      <td>92</td>\n",
              "      <td>73</td>\n",
              "      <td>73</td>\n",
              "      <td>71</td>\n",
              "      <td>82</td>\n",
              "      <td>58</td>\n",
              "      <td>74</td>\n",
              "    </tr>\n",
              "    <tr>\n",
              "      <th>17</th>\n",
              "      <td>89</td>\n",
              "      <td>89</td>\n",
              "      <td>2013</td>\n",
              "      <td>72</td>\n",
              "      <td>89</td>\n",
              "      <td>91</td>\n",
              "      <td>83</td>\n",
              "      <td>87</td>\n",
              "      <td>73</td>\n",
              "      <td>54</td>\n",
              "      <td>81</td>\n",
              "      <td>73</td>\n",
              "      <td>73</td>\n",
              "      <td>92</td>\n",
              "      <td>71</td>\n",
              "      <td>29</td>\n",
              "      <td>65</td>\n",
              "      <td>81</td>\n",
              "      <td>56</td>\n",
              "      <td>80</td>\n",
              "    </tr>\n",
              "    <tr>\n",
              "      <th>18</th>\n",
              "      <td>89</td>\n",
              "      <td>89</td>\n",
              "      <td>2087</td>\n",
              "      <td>90</td>\n",
              "      <td>91</td>\n",
              "      <td>89</td>\n",
              "      <td>70</td>\n",
              "      <td>89</td>\n",
              "      <td>91</td>\n",
              "      <td>74</td>\n",
              "      <td>63</td>\n",
              "      <td>83</td>\n",
              "      <td>83</td>\n",
              "      <td>81</td>\n",
              "      <td>88</td>\n",
              "      <td>12</td>\n",
              "      <td>83</td>\n",
              "      <td>77</td>\n",
              "      <td>76</td>\n",
              "      <td>85</td>\n",
              "    </tr>\n",
              "    <tr>\n",
              "      <th>19</th>\n",
              "      <td>89</td>\n",
              "      <td>89</td>\n",
              "      <td>1867</td>\n",
              "      <td>68</td>\n",
              "      <td>64</td>\n",
              "      <td>57</td>\n",
              "      <td>58</td>\n",
              "      <td>58</td>\n",
              "      <td>33</td>\n",
              "      <td>84</td>\n",
              "      <td>59</td>\n",
              "      <td>49</td>\n",
              "      <td>50</td>\n",
              "      <td>59</td>\n",
              "      <td>78</td>\n",
              "      <td>90</td>\n",
              "      <td>78</td>\n",
              "      <td>68</td>\n",
              "      <td>91</td>\n",
              "      <td>45</td>\n",
              "    </tr>\n",
              "  </tbody>\n",
              "</table>\n",
              "</div>"
            ],
            "text/plain": [
              "    Overall  Potential  Special  ...  Stamina  Strength  Volleys\n",
              "0        94         94     2161  ...       73        59       86\n",
              "1        94         94     2228  ...       92        80       88\n",
              "2        92         93     2105  ...       78        53       83\n",
              "3        92         92     2321  ...       89        83       88\n",
              "4        92         92     1487  ...       43        83       11\n",
              "5        91         93     1465  ...       40        64       13\n",
              "6        91         92     2234  ...       88        73       82\n",
              "7        91         91     2151  ...       79        84       89\n",
              "8        91         91     2122  ...       81        67       80\n",
              "9        90         90     2189  ...       77        74       82\n",
              "10       90         90     2063  ...       66        85       60\n",
              "11       90         90     1965  ...       72        85       88\n",
              "12       90         90     2154  ...       84        81       66\n",
              "13       89         94     2086  ...       83        65       88\n",
              "14       89         93     1297  ...       41        78       13\n",
              "15       89         92     1298  ...       38        70       12\n",
              "16       89         89     2231  ...       82        58       74\n",
              "17       89         89     2013  ...       81        56       80\n",
              "18       89         89     2087  ...       77        76       85\n",
              "19       89         89     1867  ...       68        91       45\n",
              "\n",
              "[20 rows x 20 columns]"
            ]
          },
          "metadata": {
            "tags": []
          },
          "execution_count": 11
        }
      ]
    },
    {
      "cell_type": "code",
      "metadata": {
        "id": "2pHosRP0wVER",
        "colab": {
          "base_uri": "https://localhost:8080/",
          "height": 34
        },
        "outputId": "e3c603d9-e45d-4bf9-a137-5bec5cde9103"
      },
      "source": [
        "rows, cols=cdf.shape\n",
        "print(rows, cols)"
      ],
      "execution_count": null,
      "outputs": [
        {
          "output_type": "stream",
          "text": [
            "18000 20\n"
          ],
          "name": "stdout"
        }
      ]
    },
    {
      "cell_type": "code",
      "metadata": {
        "id": "EVUq_a1SwVEX",
        "colab": {
          "base_uri": "https://localhost:8080/",
          "height": 232
        },
        "outputId": "2a2e1b39-c1c1-4459-d2c0-ddbfcbffa667"
      },
      "source": [
        "fdf=cdf.head(10000)\n",
        "fdf.tail()"
      ],
      "execution_count": null,
      "outputs": [
        {
          "output_type": "execute_result",
          "data": {
            "text/html": [
              "<div>\n",
              "<style scoped>\n",
              "    .dataframe tbody tr th:only-of-type {\n",
              "        vertical-align: middle;\n",
              "    }\n",
              "\n",
              "    .dataframe tbody tr th {\n",
              "        vertical-align: top;\n",
              "    }\n",
              "\n",
              "    .dataframe thead th {\n",
              "        text-align: right;\n",
              "    }\n",
              "</style>\n",
              "<table border=\"1\" class=\"dataframe\">\n",
              "  <thead>\n",
              "    <tr style=\"text-align: right;\">\n",
              "      <th></th>\n",
              "      <th>Overall</th>\n",
              "      <th>Potential</th>\n",
              "      <th>Special</th>\n",
              "      <th>Acceleration</th>\n",
              "      <th>Balance</th>\n",
              "      <th>Ball Control</th>\n",
              "      <th>Crossing</th>\n",
              "      <th>Dribbling</th>\n",
              "      <th>Finishing</th>\n",
              "      <th>Heading Accuracy</th>\n",
              "      <th>Long Passing</th>\n",
              "      <th>Long Shots</th>\n",
              "      <th>Penalties</th>\n",
              "      <th>Short Passing</th>\n",
              "      <th>Shot Power</th>\n",
              "      <th>Sliding Tackle</th>\n",
              "      <th>Sprint Speed</th>\n",
              "      <th>Stamina</th>\n",
              "      <th>Strength</th>\n",
              "      <th>Volleys</th>\n",
              "    </tr>\n",
              "  </thead>\n",
              "  <tbody>\n",
              "    <tr>\n",
              "      <th>9995</th>\n",
              "      <td>66</td>\n",
              "      <td>79</td>\n",
              "      <td>1593</td>\n",
              "      <td>71</td>\n",
              "      <td>62</td>\n",
              "      <td>64</td>\n",
              "      <td>41</td>\n",
              "      <td>62</td>\n",
              "      <td>68</td>\n",
              "      <td>65</td>\n",
              "      <td>50</td>\n",
              "      <td>54</td>\n",
              "      <td>64</td>\n",
              "      <td>61</td>\n",
              "      <td>62</td>\n",
              "      <td>17</td>\n",
              "      <td>69</td>\n",
              "      <td>68</td>\n",
              "      <td>67</td>\n",
              "      <td>55</td>\n",
              "    </tr>\n",
              "    <tr>\n",
              "      <th>9996</th>\n",
              "      <td>66</td>\n",
              "      <td>74</td>\n",
              "      <td>1574</td>\n",
              "      <td>69</td>\n",
              "      <td>68</td>\n",
              "      <td>67</td>\n",
              "      <td>35</td>\n",
              "      <td>65</td>\n",
              "      <td>68</td>\n",
              "      <td>71</td>\n",
              "      <td>39</td>\n",
              "      <td>52</td>\n",
              "      <td>58</td>\n",
              "      <td>51</td>\n",
              "      <td>67</td>\n",
              "      <td>23</td>\n",
              "      <td>69</td>\n",
              "      <td>72</td>\n",
              "      <td>70</td>\n",
              "      <td>61</td>\n",
              "    </tr>\n",
              "    <tr>\n",
              "      <th>9997</th>\n",
              "      <td>66</td>\n",
              "      <td>69</td>\n",
              "      <td>1625</td>\n",
              "      <td>82</td>\n",
              "      <td>70</td>\n",
              "      <td>69</td>\n",
              "      <td>56</td>\n",
              "      <td>67</td>\n",
              "      <td>57</td>\n",
              "      <td>34</td>\n",
              "      <td>48</td>\n",
              "      <td>63</td>\n",
              "      <td>58</td>\n",
              "      <td>63</td>\n",
              "      <td>68</td>\n",
              "      <td>23</td>\n",
              "      <td>79</td>\n",
              "      <td>68</td>\n",
              "      <td>51</td>\n",
              "      <td>57</td>\n",
              "    </tr>\n",
              "    <tr>\n",
              "      <th>9998</th>\n",
              "      <td>66</td>\n",
              "      <td>78</td>\n",
              "      <td>1552</td>\n",
              "      <td>71</td>\n",
              "      <td>75</td>\n",
              "      <td>64</td>\n",
              "      <td>59</td>\n",
              "      <td>68</td>\n",
              "      <td>60</td>\n",
              "      <td>46</td>\n",
              "      <td>60</td>\n",
              "      <td>55</td>\n",
              "      <td>51</td>\n",
              "      <td>66</td>\n",
              "      <td>63</td>\n",
              "      <td>30</td>\n",
              "      <td>74</td>\n",
              "      <td>64</td>\n",
              "      <td>43</td>\n",
              "      <td>41</td>\n",
              "    </tr>\n",
              "    <tr>\n",
              "      <th>9999</th>\n",
              "      <td>66</td>\n",
              "      <td>67</td>\n",
              "      <td>1727</td>\n",
              "      <td>77</td>\n",
              "      <td>65</td>\n",
              "      <td>59</td>\n",
              "      <td>58</td>\n",
              "      <td>57</td>\n",
              "      <td>41</td>\n",
              "      <td>52</td>\n",
              "      <td>54</td>\n",
              "      <td>40</td>\n",
              "      <td>54</td>\n",
              "      <td>61</td>\n",
              "      <td>51</td>\n",
              "      <td>64</td>\n",
              "      <td>85</td>\n",
              "      <td>81</td>\n",
              "      <td>61</td>\n",
              "      <td>40</td>\n",
              "    </tr>\n",
              "  </tbody>\n",
              "</table>\n",
              "</div>"
            ],
            "text/plain": [
              "      Overall  Potential  Special  ...  Stamina  Strength  Volleys\n",
              "9995       66         79     1593  ...       68        67       55\n",
              "9996       66         74     1574  ...       72        70       61\n",
              "9997       66         69     1625  ...       68        51       57\n",
              "9998       66         78     1552  ...       64        43       41\n",
              "9999       66         67     1727  ...       81        61       40\n",
              "\n",
              "[5 rows x 20 columns]"
            ]
          },
          "metadata": {
            "tags": []
          },
          "execution_count": 13
        }
      ]
    },
    {
      "cell_type": "code",
      "metadata": {
        "id": "Mo5AIYecwVEj",
        "colab": {
          "base_uri": "https://localhost:8080/",
          "height": 269
        },
        "outputId": "076f8f71-ea80-4e3f-8af0-3875e15e540e"
      },
      "source": [
        "plt.scatter(fdf['Acceleration'],fdf['Balance'])\n",
        "plt.show()"
      ],
      "execution_count": null,
      "outputs": [
        {
          "output_type": "display_data",
          "data": {
            "image/png": "[encoded data removed]",
            "text/plain": [
              "<Figure size 432x288 with 1 Axes>"
            ]
          },
          "metadata": {
            "tags": [],
            "needs_background": "light"
          }
        }
      ]
    },
    {
      "cell_type": "code",
      "metadata": {
        "scrolled": true,
        "id": "5sBlcXSvwVEz",
        "colab": {
          "base_uri": "https://localhost:8080/",
          "height": 268
        },
        "outputId": "e2307c16-895b-4a8d-cf58-2ec7d4d69548"
      },
      "source": [
        "plt.scatter(fdf['Balance'],fdf['Ball Control'])\n",
        "plt.show()"
      ],
      "execution_count": null,
      "outputs": [
        {
          "output_type": "display_data",
          "data": {
            "image/png": "[encoded data removed]",
            "text/plain": [
              "<Figure size 432x288 with 1 Axes>"
            ]
          },
          "metadata": {
            "tags": [],
            "needs_background": "light"
          }
        }
      ]
    },
    {
      "cell_type": "code",
      "metadata": {
        "scrolled": true,
        "id": "D7wA1LsXwVE9",
        "colab": {
          "base_uri": "https://localhost:8080/",
          "height": 265
        },
        "outputId": "6291760f-e75e-49d4-aaeb-36eb2d361b23"
      },
      "source": [
        "plt.scatter(fdf['Ball Control'],fdf['Crossing'])\n",
        "plt.show()"
      ],
      "execution_count": null,
      "outputs": [
        {
          "output_type": "display_data",
          "data": {
            "image/png": "[encoded data removed]",
            "text/plain": [
              "<Figure size 432x288 with 1 Axes>"
            ]
          },
          "metadata": {
            "tags": [],
            "needs_background": "light"
          }
        }
      ]
    },
    {
      "cell_type": "code",
      "metadata": {
        "id": "TR3ddNPAwVFI",
        "colab": {
          "base_uri": "https://localhost:8080/",
          "height": 266
        },
        "outputId": "e103d433-4049-4102-ccbe-b7d8f38013e8"
      },
      "source": [
        "plt.scatter(fdf['Ball Control'],fdf['Dribbling'])\n",
        "plt.show()"
      ],
      "execution_count": null,
      "outputs": [
        {
          "output_type": "display_data",
          "data": {
            "image/png": "[encoded data removed]",
            "text/plain": [
              "<Figure size 432x288 with 1 Axes>"
            ]
          },
          "metadata": {
            "tags": [],
            "needs_background": "light"
          }
        }
      ]
    },
    {
      "cell_type": "code",
      "metadata": {
        "id": "D7hKUbKuwVFO",
        "colab": {
          "base_uri": "https://localhost:8080/",
          "height": 265
        },
        "outputId": "b5fd1875-f8ff-474f-94b0-2c6317f7ce18"
      },
      "source": [
        "plt.scatter(fdf['Ball Control'],fdf['Finishing'])\n",
        "plt.show()"
      ],
      "execution_count": null,
      "outputs": [
        {
          "output_type": "display_data",
          "data": {
            "image/png": "[encoded data removed]",
            "text/plain": [
              "<Figure size 432x288 with 1 Axes>"
            ]
          },
          "metadata": {
            "tags": [],
            "needs_background": "light"
          }
        }
      ]
    },
    {
      "cell_type": "code",
      "metadata": {
        "id": "KeosxgvDwVFj",
        "colab": {
          "base_uri": "https://localhost:8080/",
          "height": 265
        },
        "outputId": "be5746e9-046b-4124-a5fe-4a82894ba9d8"
      },
      "source": [
        "plt.scatter(fdf['Ball Control'],fdf['Heading Accuracy'])\n",
        "plt.show()"
      ],
      "execution_count": null,
      "outputs": [
        {
          "output_type": "display_data",
          "data": {
            "image/png": "[encoded data removed]",
            "text/plain": [
              "<Figure size 432x288 with 1 Axes>"
            ]
          },
          "metadata": {
            "tags": [],
            "needs_background": "light"
          }
        }
      ]
    },
    {
      "cell_type": "code",
      "metadata": {
        "id": "FBuW2H3uwVFu",
        "colab": {
          "base_uri": "https://localhost:8080/",
          "height": 269
        },
        "outputId": "de940909-8a59-499e-e2da-befa20fa9053"
      },
      "source": [
        "plt.scatter(fdf['Ball Control'],fdf['Acceleration'])\n",
        "plt.show()"
      ],
      "execution_count": null,
      "outputs": [
        {
          "output_type": "display_data",
          "data": {
            "image/png": "[encoded data removed]",
            "text/plain": [
              "<Figure size 432x288 with 1 Axes>"
            ]
          },
          "metadata": {
            "tags": [],
            "needs_background": "light"
          }
        }
      ]
    },
    {
      "cell_type": "code",
      "metadata": {
        "id": "pnw53UsnwVF8",
        "colab": {
          "base_uri": "https://localhost:8080/",
          "height": 265
        },
        "outputId": "0ab60577-528f-43ee-874f-ce882185c10c"
      },
      "source": [
        "plt.scatter(fdf['Ball Control'],fdf['Long Passing'])\n",
        "plt.show()"
      ],
      "execution_count": null,
      "outputs": [
        {
          "output_type": "display_data",
          "data": {
            "image/png": "[encoded data removed]",
            "text/plain": [
              "<Figure size 432x288 with 1 Axes>"
            ]
          },
          "metadata": {
            "tags": [],
            "needs_background": "light"
          }
        }
      ]
    },
    {
      "cell_type": "code",
      "metadata": {
        "id": "gVPtuF6_wVGE",
        "colab": {
          "base_uri": "https://localhost:8080/",
          "height": 265
        },
        "outputId": "169ddc0c-b6e2-4181-8fb4-fd301f9a3d9d"
      },
      "source": [
        "plt.scatter(fdf['Ball Control'],fdf['Long Shots'])\n",
        "plt.show()"
      ],
      "execution_count": null,
      "outputs": [
        {
          "output_type": "display_data",
          "data": {
            "image/png": "[encoded data removed]",
            "text/plain": [
              "<Figure size 432x288 with 1 Axes>"
            ]
          },
          "metadata": {
            "tags": [],
            "needs_background": "light"
          }
        }
      ]
    },
    {
      "cell_type": "code",
      "metadata": {
        "id": "X3fw1rmwwVGQ",
        "colab": {
          "base_uri": "https://localhost:8080/",
          "height": 265
        },
        "outputId": "61612f4f-a2ff-452a-808c-3e802dd37c24"
      },
      "source": [
        "plt.scatter(fdf['Ball Control'],fdf['Penalties'])\n",
        "plt.show()"
      ],
      "execution_count": null,
      "outputs": [
        {
          "output_type": "display_data",
          "data": {
            "image/png": "[encoded data removed]",
            "text/plain": [
              "<Figure size 432x288 with 1 Axes>"
            ]
          },
          "metadata": {
            "tags": [],
            "needs_background": "light"
          }
        }
      ]
    },
    {
      "cell_type": "code",
      "metadata": {
        "id": "9X5P67jywVGY",
        "colab": {
          "base_uri": "https://localhost:8080/",
          "height": 265
        },
        "outputId": "66f66cef-5806-43bf-8cee-6cea04837f9c"
      },
      "source": [
        "plt.scatter(fdf['Ball Control'],fdf['Short Passing'])\n",
        "plt.show()"
      ],
      "execution_count": null,
      "outputs": [
        {
          "output_type": "display_data",
          "data": {
            "image/png": "[encoded data removed]",
            "text/plain": [
              "<Figure size 432x288 with 1 Axes>"
            ]
          },
          "metadata": {
            "tags": [],
            "needs_background": "light"
          }
        }
      ]
    },
    {
      "cell_type": "code",
      "metadata": {
        "scrolled": true,
        "id": "8kbq3Xq-wVGd",
        "colab": {
          "base_uri": "https://localhost:8080/",
          "height": 265
        },
        "outputId": "1af5a1f4-cbc2-4648-c522-7bf70546007a"
      },
      "source": [
        "plt.scatter(fdf['Ball Control'],fdf['Shot Power'])\n",
        "plt.show()"
      ],
      "execution_count": null,
      "outputs": [
        {
          "output_type": "display_data",
          "data": {
            "image/png": "[encoded data removed]",
            "text/plain": [
              "<Figure size 432x288 with 1 Axes>"
            ]
          },
          "metadata": {
            "tags": [],
            "needs_background": "light"
          }
        }
      ]
    },
    {
      "cell_type": "code",
      "metadata": {
        "scrolled": true,
        "id": "ukKQIEokwVGo",
        "colab": {
          "base_uri": "https://localhost:8080/",
          "height": 265
        },
        "outputId": "b0eccbd9-0fa8-4724-d39a-c2d00e4f0d20"
      },
      "source": [
        "plt.scatter(fdf['Ball Control'],fdf['Sliding Tackle'])\n",
        "plt.show()"
      ],
      "execution_count": null,
      "outputs": [
        {
          "output_type": "display_data",
          "data": {
            "image/png": "[encoded data removed]",
            "text/plain": [
              "<Figure size 432x288 with 1 Axes>"
            ]
          },
          "metadata": {
            "tags": [],
            "needs_background": "light"
          }
        }
      ]
    },
    {
      "cell_type": "code",
      "metadata": {
        "scrolled": true,
        "id": "PJi-QlW1wVGv",
        "colab": {
          "base_uri": "https://localhost:8080/",
          "height": 269
        },
        "outputId": "159cecc4-20e1-46fa-a59b-8fe436d8d6d1"
      },
      "source": [
        "plt.scatter(fdf['Acceleration'],fdf['Sprint Speed'])\n",
        "plt.show()"
      ],
      "execution_count": null,
      "outputs": [
        {
          "output_type": "display_data",
          "data": {
            "image/png": "[encoded data removed]",
            "text/plain": [
              "<Figure size 432x288 with 1 Axes>"
            ]
          },
          "metadata": {
            "tags": [],
            "needs_background": "light"
          }
        }
      ]
    },
    {
      "cell_type": "code",
      "metadata": {
        "id": "PsLjXvrVwVG7",
        "colab": {
          "base_uri": "https://localhost:8080/",
          "height": 269
        },
        "outputId": "ec396773-4455-4522-dee3-aa2d297baf34"
      },
      "source": [
        "plt.scatter(fdf['Ball Control'],fdf['Sprint Speed'])\n",
        "plt.show()"
      ],
      "execution_count": null,
      "outputs": [
        {
          "output_type": "display_data",
          "data": {
            "image/png": "[encoded data removed]",
            "text/plain": [
              "<Figure size 432x288 with 1 Axes>"
            ]
          },
          "metadata": {
            "tags": [],
            "needs_background": "light"
          }
        }
      ]
    },
    {
      "cell_type": "code",
      "metadata": {
        "id": "jSI_0vJLwVHA",
        "colab": {
          "base_uri": "https://localhost:8080/",
          "height": 265
        },
        "outputId": "0625a85a-fc6b-41d8-dbc6-ba7ea9b2e1ff"
      },
      "source": [
        "plt.scatter(fdf['Ball Control'],fdf['Stamina'])\n",
        "plt.show()"
      ],
      "execution_count": null,
      "outputs": [
        {
          "output_type": "display_data",
          "data": {
            "image/png": "[encoded data removed]",
            "text/plain": [
              "<Figure size 432x288 with 1 Axes>"
            ]
          },
          "metadata": {
            "tags": [],
            "needs_background": "light"
          }
        }
      ]
    },
    {
      "cell_type": "code",
      "metadata": {
        "id": "fLf48OLxwVHN",
        "colab": {
          "base_uri": "https://localhost:8080/",
          "height": 265
        },
        "outputId": "653c4ab2-d8ee-4a1a-af60-5d3798752534"
      },
      "source": [
        "plt.scatter(fdf['Ball Control'],fdf['Strength'])\n",
        "plt.show()"
      ],
      "execution_count": null,
      "outputs": [
        {
          "output_type": "display_data",
          "data": {
            "image/png": "[encoded data removed]",
            "text/plain": [
              "<Figure size 432x288 with 1 Axes>"
            ]
          },
          "metadata": {
            "tags": [],
            "needs_background": "light"
          }
        }
      ]
    },
    {
      "cell_type": "code",
      "metadata": {
        "scrolled": true,
        "id": "s5pJ7ieSwVHS",
        "colab": {
          "base_uri": "https://localhost:8080/",
          "height": 265
        },
        "outputId": "1bcd0374-aaea-4b0d-b355-0593d0112d7d"
      },
      "source": [
        "plt.scatter(fdf['Ball Control'],fdf['Volleys'])\n",
        "plt.show()"
      ],
      "execution_count": null,
      "outputs": [
        {
          "output_type": "display_data",
          "data": {
            "image/png": "[encoded data removed]",
            "text/plain": [
              "<Figure size 432x288 with 1 Axes>"
            ]
          },
          "metadata": {
            "tags": [],
            "needs_background": "light"
          }
        }
      ]
    },
    {
      "cell_type": "code",
      "metadata": {
        "id": "EbskoIRjwVHw",
        "colab": {
          "base_uri": "https://localhost:8080/",
          "height": 760
        },
        "outputId": "69375c7a-0194-4268-d33d-a57cf8ea8e8b"
      },
      "source": [
        "fdf.corr()"
      ],
      "execution_count": null,
      "outputs": [
        {
          "output_type": "execute_result",
          "data": {
            "text/html": [
              "<div>\n",
              "<style scoped>\n",
              "    .dataframe tbody tr th:only-of-type {\n",
              "        vertical-align: middle;\n",
              "    }\n",
              "\n",
              "    .dataframe tbody tr th {\n",
              "        vertical-align: top;\n",
              "    }\n",
              "\n",
              "    .dataframe thead th {\n",
              "        text-align: right;\n",
              "    }\n",
              "</style>\n",
              "<table border=\"1\" class=\"dataframe\">\n",
              "  <thead>\n",
              "    <tr style=\"text-align: right;\">\n",
              "      <th></th>\n",
              "      <th>Overall</th>\n",
              "      <th>Potential</th>\n",
              "      <th>Special</th>\n",
              "      <th>Acceleration</th>\n",
              "      <th>Balance</th>\n",
              "      <th>Ball Control</th>\n",
              "      <th>Crossing</th>\n",
              "      <th>Dribbling</th>\n",
              "      <th>Finishing</th>\n",
              "      <th>Heading Accuracy</th>\n",
              "      <th>Long Passing</th>\n",
              "      <th>Long Shots</th>\n",
              "      <th>Penalties</th>\n",
              "      <th>Short Passing</th>\n",
              "      <th>Shot Power</th>\n",
              "      <th>Sliding Tackle</th>\n",
              "      <th>Sprint Speed</th>\n",
              "      <th>Stamina</th>\n",
              "      <th>Strength</th>\n",
              "      <th>Volleys</th>\n",
              "    </tr>\n",
              "  </thead>\n",
              "  <tbody>\n",
              "    <tr>\n",
              "      <th>Overall</th>\n",
              "      <td>1.000000</td>\n",
              "      <td>0.728646</td>\n",
              "      <td>0.367251</td>\n",
              "      <td>0.101883</td>\n",
              "      <td>0.062873</td>\n",
              "      <td>0.254688</td>\n",
              "      <td>0.184486</td>\n",
              "      <td>0.207331</td>\n",
              "      <td>0.186984</td>\n",
              "      <td>0.155032</td>\n",
              "      <td>0.281935</td>\n",
              "      <td>0.217367</td>\n",
              "      <td>0.203857</td>\n",
              "      <td>0.294555</td>\n",
              "      <td>0.233877</td>\n",
              "      <td>0.088028</td>\n",
              "      <td>0.113269</td>\n",
              "      <td>0.146613</td>\n",
              "      <td>0.139209</td>\n",
              "      <td>0.232057</td>\n",
              "    </tr>\n",
              "    <tr>\n",
              "      <th>Potential</th>\n",
              "      <td>0.728646</td>\n",
              "      <td>1.000000</td>\n",
              "      <td>0.247565</td>\n",
              "      <td>0.197650</td>\n",
              "      <td>0.103818</td>\n",
              "      <td>0.234385</td>\n",
              "      <td>0.120731</td>\n",
              "      <td>0.216569</td>\n",
              "      <td>0.142678</td>\n",
              "      <td>0.073710</td>\n",
              "      <td>0.198259</td>\n",
              "      <td>0.131986</td>\n",
              "      <td>0.090733</td>\n",
              "      <td>0.250051</td>\n",
              "      <td>0.141809</td>\n",
              "      <td>0.052071</td>\n",
              "      <td>0.206262</td>\n",
              "      <td>0.124616</td>\n",
              "      <td>0.003184</td>\n",
              "      <td>0.136456</td>\n",
              "    </tr>\n",
              "    <tr>\n",
              "      <th>Special</th>\n",
              "      <td>0.367251</td>\n",
              "      <td>0.247565</td>\n",
              "      <td>1.000000</td>\n",
              "      <td>0.629897</td>\n",
              "      <td>0.621054</td>\n",
              "      <td>0.896918</td>\n",
              "      <td>0.860172</td>\n",
              "      <td>0.869040</td>\n",
              "      <td>0.695513</td>\n",
              "      <td>0.561915</td>\n",
              "      <td>0.825377</td>\n",
              "      <td>0.824378</td>\n",
              "      <td>0.713667</td>\n",
              "      <td>0.894054</td>\n",
              "      <td>0.818974</td>\n",
              "      <td>0.462953</td>\n",
              "      <td>0.617183</td>\n",
              "      <td>0.778759</td>\n",
              "      <td>0.000105</td>\n",
              "      <td>0.731327</td>\n",
              "    </tr>\n",
              "    <tr>\n",
              "      <th>Acceleration</th>\n",
              "      <td>0.101883</td>\n",
              "      <td>0.197650</td>\n",
              "      <td>0.629897</td>\n",
              "      <td>1.000000</td>\n",
              "      <td>0.710234</td>\n",
              "      <td>0.642179</td>\n",
              "      <td>0.649359</td>\n",
              "      <td>0.730069</td>\n",
              "      <td>0.575433</td>\n",
              "      <td>0.205937</td>\n",
              "      <td>0.387253</td>\n",
              "      <td>0.543584</td>\n",
              "      <td>0.455117</td>\n",
              "      <td>0.528564</td>\n",
              "      <td>0.501066</td>\n",
              "      <td>0.052157</td>\n",
              "      <td>0.917317</td>\n",
              "      <td>0.573325</td>\n",
              "      <td>-0.312222</td>\n",
              "      <td>0.525748</td>\n",
              "    </tr>\n",
              "    <tr>\n",
              "      <th>Balance</th>\n",
              "      <td>0.062873</td>\n",
              "      <td>0.103818</td>\n",
              "      <td>0.621054</td>\n",
              "      <td>0.710234</td>\n",
              "      <td>1.000000</td>\n",
              "      <td>0.607531</td>\n",
              "      <td>0.642118</td>\n",
              "      <td>0.668371</td>\n",
              "      <td>0.517016</td>\n",
              "      <td>0.066021</td>\n",
              "      <td>0.468554</td>\n",
              "      <td>0.544810</td>\n",
              "      <td>0.452686</td>\n",
              "      <td>0.547237</td>\n",
              "      <td>0.453269</td>\n",
              "      <td>0.085776</td>\n",
              "      <td>0.627770</td>\n",
              "      <td>0.475918</td>\n",
              "      <td>-0.497532</td>\n",
              "      <td>0.504085</td>\n",
              "    </tr>\n",
              "    <tr>\n",
              "      <th>Ball Control</th>\n",
              "      <td>0.254688</td>\n",
              "      <td>0.234385</td>\n",
              "      <td>0.896918</td>\n",
              "      <td>0.642179</td>\n",
              "      <td>0.607531</td>\n",
              "      <td>1.000000</td>\n",
              "      <td>0.826925</td>\n",
              "      <td>0.934850</td>\n",
              "      <td>0.765456</td>\n",
              "      <td>0.589575</td>\n",
              "      <td>0.758881</td>\n",
              "      <td>0.812903</td>\n",
              "      <td>0.740273</td>\n",
              "      <td>0.907256</td>\n",
              "      <td>0.811939</td>\n",
              "      <td>0.307372</td>\n",
              "      <td>0.629667</td>\n",
              "      <td>0.716734</td>\n",
              "      <td>-0.067833</td>\n",
              "      <td>0.759993</td>\n",
              "    </tr>\n",
              "    <tr>\n",
              "      <th>Crossing</th>\n",
              "      <td>0.184486</td>\n",
              "      <td>0.120731</td>\n",
              "      <td>0.860172</td>\n",
              "      <td>0.649359</td>\n",
              "      <td>0.642118</td>\n",
              "      <td>0.826925</td>\n",
              "      <td>1.000000</td>\n",
              "      <td>0.846346</td>\n",
              "      <td>0.636237</td>\n",
              "      <td>0.379520</td>\n",
              "      <td>0.731626</td>\n",
              "      <td>0.736305</td>\n",
              "      <td>0.628033</td>\n",
              "      <td>0.795420</td>\n",
              "      <td>0.690469</td>\n",
              "      <td>0.322799</td>\n",
              "      <td>0.623999</td>\n",
              "      <td>0.647509</td>\n",
              "      <td>-0.205826</td>\n",
              "      <td>0.654873</td>\n",
              "    </tr>\n",
              "    <tr>\n",
              "      <th>Dribbling</th>\n",
              "      <td>0.207331</td>\n",
              "      <td>0.216569</td>\n",
              "      <td>0.869040</td>\n",
              "      <td>0.730069</td>\n",
              "      <td>0.668371</td>\n",
              "      <td>0.934850</td>\n",
              "      <td>0.846346</td>\n",
              "      <td>1.000000</td>\n",
              "      <td>0.812025</td>\n",
              "      <td>0.462335</td>\n",
              "      <td>0.688542</td>\n",
              "      <td>0.831312</td>\n",
              "      <td>0.736496</td>\n",
              "      <td>0.838274</td>\n",
              "      <td>0.791604</td>\n",
              "      <td>0.176030</td>\n",
              "      <td>0.705461</td>\n",
              "      <td>0.671527</td>\n",
              "      <td>-0.181409</td>\n",
              "      <td>0.787138</td>\n",
              "    </tr>\n",
              "    <tr>\n",
              "      <th>Finishing</th>\n",
              "      <td>0.186984</td>\n",
              "      <td>0.142678</td>\n",
              "      <td>0.695513</td>\n",
              "      <td>0.575433</td>\n",
              "      <td>0.517016</td>\n",
              "      <td>0.765456</td>\n",
              "      <td>0.636237</td>\n",
              "      <td>0.812025</td>\n",
              "      <td>1.000000</td>\n",
              "      <td>0.382672</td>\n",
              "      <td>0.453865</td>\n",
              "      <td>0.852332</td>\n",
              "      <td>0.809741</td>\n",
              "      <td>0.636134</td>\n",
              "      <td>0.779486</td>\n",
              "      <td>-0.175956</td>\n",
              "      <td>0.551252</td>\n",
              "      <td>0.468563</td>\n",
              "      <td>-0.141880</td>\n",
              "      <td>0.875402</td>\n",
              "    </tr>\n",
              "    <tr>\n",
              "      <th>Heading Accuracy</th>\n",
              "      <td>0.155032</td>\n",
              "      <td>0.073710</td>\n",
              "      <td>0.561915</td>\n",
              "      <td>0.205937</td>\n",
              "      <td>0.066021</td>\n",
              "      <td>0.589575</td>\n",
              "      <td>0.379520</td>\n",
              "      <td>0.462335</td>\n",
              "      <td>0.382672</td>\n",
              "      <td>1.000000</td>\n",
              "      <td>0.450706</td>\n",
              "      <td>0.407102</td>\n",
              "      <td>0.458026</td>\n",
              "      <td>0.583427</td>\n",
              "      <td>0.557490</td>\n",
              "      <td>0.491589</td>\n",
              "      <td>0.279795</td>\n",
              "      <td>0.569908</td>\n",
              "      <td>0.469939</td>\n",
              "      <td>0.408189</td>\n",
              "    </tr>\n",
              "    <tr>\n",
              "      <th>Long Passing</th>\n",
              "      <td>0.281935</td>\n",
              "      <td>0.198259</td>\n",
              "      <td>0.825377</td>\n",
              "      <td>0.387253</td>\n",
              "      <td>0.468554</td>\n",
              "      <td>0.758881</td>\n",
              "      <td>0.731626</td>\n",
              "      <td>0.688542</td>\n",
              "      <td>0.453865</td>\n",
              "      <td>0.450706</td>\n",
              "      <td>1.000000</td>\n",
              "      <td>0.634784</td>\n",
              "      <td>0.511609</td>\n",
              "      <td>0.873441</td>\n",
              "      <td>0.622737</td>\n",
              "      <td>0.543563</td>\n",
              "      <td>0.365345</td>\n",
              "      <td>0.624215</td>\n",
              "      <td>-0.025985</td>\n",
              "      <td>0.492878</td>\n",
              "    </tr>\n",
              "    <tr>\n",
              "      <th>Long Shots</th>\n",
              "      <td>0.217367</td>\n",
              "      <td>0.131986</td>\n",
              "      <td>0.824378</td>\n",
              "      <td>0.543584</td>\n",
              "      <td>0.544810</td>\n",
              "      <td>0.812903</td>\n",
              "      <td>0.736305</td>\n",
              "      <td>0.831312</td>\n",
              "      <td>0.852332</td>\n",
              "      <td>0.407102</td>\n",
              "      <td>0.634784</td>\n",
              "      <td>1.000000</td>\n",
              "      <td>0.785528</td>\n",
              "      <td>0.739999</td>\n",
              "      <td>0.874506</td>\n",
              "      <td>0.060562</td>\n",
              "      <td>0.515983</td>\n",
              "      <td>0.556640</td>\n",
              "      <td>-0.112178</td>\n",
              "      <td>0.841893</td>\n",
              "    </tr>\n",
              "    <tr>\n",
              "      <th>Penalties</th>\n",
              "      <td>0.203857</td>\n",
              "      <td>0.090733</td>\n",
              "      <td>0.713667</td>\n",
              "      <td>0.455117</td>\n",
              "      <td>0.452686</td>\n",
              "      <td>0.740273</td>\n",
              "      <td>0.628033</td>\n",
              "      <td>0.736496</td>\n",
              "      <td>0.809741</td>\n",
              "      <td>0.458026</td>\n",
              "      <td>0.511609</td>\n",
              "      <td>0.785528</td>\n",
              "      <td>1.000000</td>\n",
              "      <td>0.654387</td>\n",
              "      <td>0.763268</td>\n",
              "      <td>-0.013950</td>\n",
              "      <td>0.437859</td>\n",
              "      <td>0.459508</td>\n",
              "      <td>-0.052440</td>\n",
              "      <td>0.804353</td>\n",
              "    </tr>\n",
              "    <tr>\n",
              "      <th>Short Passing</th>\n",
              "      <td>0.294555</td>\n",
              "      <td>0.250051</td>\n",
              "      <td>0.894054</td>\n",
              "      <td>0.528564</td>\n",
              "      <td>0.547237</td>\n",
              "      <td>0.907256</td>\n",
              "      <td>0.795420</td>\n",
              "      <td>0.838274</td>\n",
              "      <td>0.636134</td>\n",
              "      <td>0.583427</td>\n",
              "      <td>0.873441</td>\n",
              "      <td>0.739999</td>\n",
              "      <td>0.654387</td>\n",
              "      <td>1.000000</td>\n",
              "      <td>0.744606</td>\n",
              "      <td>0.455786</td>\n",
              "      <td>0.514339</td>\n",
              "      <td>0.718213</td>\n",
              "      <td>-0.017501</td>\n",
              "      <td>0.651947</td>\n",
              "    </tr>\n",
              "    <tr>\n",
              "      <th>Shot Power</th>\n",
              "      <td>0.233877</td>\n",
              "      <td>0.141809</td>\n",
              "      <td>0.818974</td>\n",
              "      <td>0.501066</td>\n",
              "      <td>0.453269</td>\n",
              "      <td>0.811939</td>\n",
              "      <td>0.690469</td>\n",
              "      <td>0.791604</td>\n",
              "      <td>0.779486</td>\n",
              "      <td>0.557490</td>\n",
              "      <td>0.622737</td>\n",
              "      <td>0.874506</td>\n",
              "      <td>0.763268</td>\n",
              "      <td>0.744606</td>\n",
              "      <td>1.000000</td>\n",
              "      <td>0.169939</td>\n",
              "      <td>0.508800</td>\n",
              "      <td>0.599905</td>\n",
              "      <td>0.058202</td>\n",
              "      <td>0.795047</td>\n",
              "    </tr>\n",
              "    <tr>\n",
              "      <th>Sliding Tackle</th>\n",
              "      <td>0.088028</td>\n",
              "      <td>0.052071</td>\n",
              "      <td>0.462953</td>\n",
              "      <td>0.052157</td>\n",
              "      <td>0.085776</td>\n",
              "      <td>0.307372</td>\n",
              "      <td>0.322799</td>\n",
              "      <td>0.176030</td>\n",
              "      <td>-0.175956</td>\n",
              "      <td>0.491589</td>\n",
              "      <td>0.543563</td>\n",
              "      <td>0.060562</td>\n",
              "      <td>-0.013950</td>\n",
              "      <td>0.455786</td>\n",
              "      <td>0.169939</td>\n",
              "      <td>1.000000</td>\n",
              "      <td>0.084856</td>\n",
              "      <td>0.508087</td>\n",
              "      <td>0.282652</td>\n",
              "      <td>-0.088412</td>\n",
              "    </tr>\n",
              "    <tr>\n",
              "      <th>Sprint Speed</th>\n",
              "      <td>0.113269</td>\n",
              "      <td>0.206262</td>\n",
              "      <td>0.617183</td>\n",
              "      <td>0.917317</td>\n",
              "      <td>0.627770</td>\n",
              "      <td>0.629667</td>\n",
              "      <td>0.623999</td>\n",
              "      <td>0.705461</td>\n",
              "      <td>0.551252</td>\n",
              "      <td>0.279795</td>\n",
              "      <td>0.365345</td>\n",
              "      <td>0.515983</td>\n",
              "      <td>0.437859</td>\n",
              "      <td>0.514339</td>\n",
              "      <td>0.508800</td>\n",
              "      <td>0.084856</td>\n",
              "      <td>1.000000</td>\n",
              "      <td>0.593907</td>\n",
              "      <td>-0.209997</td>\n",
              "      <td>0.504660</td>\n",
              "    </tr>\n",
              "    <tr>\n",
              "      <th>Stamina</th>\n",
              "      <td>0.146613</td>\n",
              "      <td>0.124616</td>\n",
              "      <td>0.778759</td>\n",
              "      <td>0.573325</td>\n",
              "      <td>0.475918</td>\n",
              "      <td>0.716734</td>\n",
              "      <td>0.647509</td>\n",
              "      <td>0.671527</td>\n",
              "      <td>0.468563</td>\n",
              "      <td>0.569908</td>\n",
              "      <td>0.624215</td>\n",
              "      <td>0.556640</td>\n",
              "      <td>0.459508</td>\n",
              "      <td>0.718213</td>\n",
              "      <td>0.599905</td>\n",
              "      <td>0.508087</td>\n",
              "      <td>0.593907</td>\n",
              "      <td>1.000000</td>\n",
              "      <td>0.118544</td>\n",
              "      <td>0.465332</td>\n",
              "    </tr>\n",
              "    <tr>\n",
              "      <th>Strength</th>\n",
              "      <td>0.139209</td>\n",
              "      <td>0.003184</td>\n",
              "      <td>0.000105</td>\n",
              "      <td>-0.312222</td>\n",
              "      <td>-0.497532</td>\n",
              "      <td>-0.067833</td>\n",
              "      <td>-0.205826</td>\n",
              "      <td>-0.181409</td>\n",
              "      <td>-0.141880</td>\n",
              "      <td>0.469939</td>\n",
              "      <td>-0.025985</td>\n",
              "      <td>-0.112178</td>\n",
              "      <td>-0.052440</td>\n",
              "      <td>-0.017501</td>\n",
              "      <td>0.058202</td>\n",
              "      <td>0.282652</td>\n",
              "      <td>-0.209997</td>\n",
              "      <td>0.118544</td>\n",
              "      <td>1.000000</td>\n",
              "      <td>-0.111043</td>\n",
              "    </tr>\n",
              "    <tr>\n",
              "      <th>Volleys</th>\n",
              "      <td>0.232057</td>\n",
              "      <td>0.136456</td>\n",
              "      <td>0.731327</td>\n",
              "      <td>0.525748</td>\n",
              "      <td>0.504085</td>\n",
              "      <td>0.759993</td>\n",
              "      <td>0.654873</td>\n",
              "      <td>0.787138</td>\n",
              "      <td>0.875402</td>\n",
              "      <td>0.408189</td>\n",
              "      <td>0.492878</td>\n",
              "      <td>0.841893</td>\n",
              "      <td>0.804353</td>\n",
              "      <td>0.651947</td>\n",
              "      <td>0.795047</td>\n",
              "      <td>-0.088412</td>\n",
              "      <td>0.504660</td>\n",
              "      <td>0.465332</td>\n",
              "      <td>-0.111043</td>\n",
              "      <td>1.000000</td>\n",
              "    </tr>\n",
              "  </tbody>\n",
              "</table>\n",
              "</div>"
            ],
            "text/plain": [
              "                   Overall  Potential   Special  ...   Stamina  Strength   Volleys\n",
              "Overall           1.000000   0.728646  0.367251  ...  0.146613  0.139209  0.232057\n",
              "Potential         0.728646   1.000000  0.247565  ...  0.124616  0.003184  0.136456\n",
              "Special           0.367251   0.247565  1.000000  ...  0.778759  0.000105  0.731327\n",
              "Acceleration      0.101883   0.197650  0.629897  ...  0.573325 -0.312222  0.525748\n",
              "Balance           0.062873   0.103818  0.621054  ...  0.475918 -0.497532  0.504085\n",
              "Ball Control      0.254688   0.234385  0.896918  ...  0.716734 -0.067833  0.759993\n",
              "Crossing          0.184486   0.120731  0.860172  ...  0.647509 -0.205826  0.654873\n",
              "Dribbling         0.207331   0.216569  0.869040  ...  0.671527 -0.181409  0.787138\n",
              "Finishing         0.186984   0.142678  0.695513  ...  0.468563 -0.141880  0.875402\n",
              "Heading Accuracy  0.155032   0.073710  0.561915  ...  0.569908  0.469939  0.408189\n",
              "Long Passing      0.281935   0.198259  0.825377  ...  0.624215 -0.025985  0.492878\n",
              "Long Shots        0.217367   0.131986  0.824378  ...  0.556640 -0.112178  0.841893\n",
              "Penalties         0.203857   0.090733  0.713667  ...  0.459508 -0.052440  0.804353\n",
              "Short Passing     0.294555   0.250051  0.894054  ...  0.718213 -0.017501  0.651947\n",
              "Shot Power        0.233877   0.141809  0.818974  ...  0.599905  0.058202  0.795047\n",
              "Sliding Tackle    0.088028   0.052071  0.462953  ...  0.508087  0.282652 -0.088412\n",
              "Sprint Speed      0.113269   0.206262  0.617183  ...  0.593907 -0.209997  0.504660\n",
              "Stamina           0.146613   0.124616  0.778759  ...  1.000000  0.118544  0.465332\n",
              "Strength          0.139209   0.003184  0.000105  ...  0.118544  1.000000 -0.111043\n",
              "Volleys           0.232057   0.136456  0.731327  ...  0.465332 -0.111043  1.000000\n",
              "\n",
              "[20 rows x 20 columns]"
            ]
          },
          "metadata": {
            "tags": []
          },
          "execution_count": 32
        }
      ]
    },
    {
      "cell_type": "code",
      "metadata": {
        "id": "WWVOdkRVwVIB",
        "colab": {
          "base_uri": "https://localhost:8080/",
          "height": 344
        },
        "outputId": "36d05301-963f-4a72-d8f4-f9e055aed647"
      },
      "source": [
        "finaldf=fdf[['Ball Control','Special','Short Passing','Dribbling','Long Passing']]\n",
        "import seaborn as sns\n",
        "corr=finaldf.corr()\n",
        "sns.heatmap(corr,annot=True)"
      ],
      "execution_count": null,
      "outputs": [
        {
          "output_type": "execute_result",
          "data": {
            "text/plain": [
              "<matplotlib.axes._subplots.AxesSubplot at 0x7f357876c2b0>"
            ]
          },
          "metadata": {
            "tags": []
          },
          "execution_count": 33
        },
        {
          "output_type": "display_data",
          "data": {
            "image/png": "[encoded data removed]",
            "text/plain": [
              "<Figure size 432x288 with 2 Axes>"
            ]
          },
          "metadata": {
            "tags": [],
            "needs_background": "light"
          }
        }
      ]
    },
    {
      "cell_type": "code",
      "metadata": {
        "id": "IvhZBTTVW9Pz",
        "colab": {
          "base_uri": "https://localhost:8080/",
          "height": 282
        },
        "outputId": "369bfa14-9b5c-4213-c17f-d07db4e89501"
      },
      "source": [
        "finaldf.plot.box()"
      ],
      "execution_count": null,
      "outputs": [
        {
          "output_type": "execute_result",
          "data": {
            "text/plain": [
              "<matplotlib.axes._subplots.AxesSubplot at 0x7f35787d0ef0>"
            ]
          },
          "metadata": {
            "tags": []
          },
          "execution_count": 34
        },
        {
          "output_type": "display_data",
          "data": {
            "image/png": "[encoded data removed]",
            "text/plain": [
              "<Figure size 432x288 with 1 Axes>"
            ]
          },
          "metadata": {
            "tags": [],
            "needs_background": "light"
          }
        }
      ]
    },
    {
      "cell_type": "code",
      "metadata": {
        "id": "WfRsWl62XRW8",
        "colab": {
          "base_uri": "https://localhost:8080/",
          "height": 265
        },
        "outputId": "ae666679-36d9-41af-b29b-eae94d38827c"
      },
      "source": [
        "ax = sns.boxplot(data=finaldf, orient=\"h\", palette=\"Set2\")"
      ],
      "execution_count": null,
      "outputs": [
        {
          "output_type": "display_data",
          "data": {
            "image/png": "[encoded data removed]",
            "text/plain": [
              "<Figure size 432x288 with 1 Axes>"
            ]
          },
          "metadata": {
            "tags": [],
            "needs_background": "light"
          }
        }
      ]
    },
    {
      "cell_type": "code",
      "metadata": {
        "id": "7ddGBQKSYnbF",
        "colab": {
          "base_uri": "https://localhost:8080/",
          "height": 483
        },
        "outputId": "f14c1f67-209b-492e-99c3-f17682b92041"
      },
      "source": [
        "plt.rcParams[\"figure.figsize\"] = (20,7)\n",
        "finaldf.boxplot()\n",
        "plt.xticks(rotation=90)"
      ],
      "execution_count": null,
      "outputs": [
        {
          "output_type": "execute_result",
          "data": {
            "text/plain": [
              "(array([1, 2, 3, 4, 5]), <a list of 5 Text major ticklabel objects>)"
            ]
          },
          "metadata": {
            "tags": []
          },
          "execution_count": 36
        },
        {
          "output_type": "display_data",
          "data": {
            "image/png": "[encoded data removed]",
            "text/plain": [
              "<Figure size 1440x504 with 1 Axes>"
            ]
          },
          "metadata": {
            "tags": [],
            "needs_background": "light"
          }
        }
      ]
    },
    {
      "cell_type": "code",
      "metadata": {
        "id": "uyLszfzPYupI",
        "colab": {
          "base_uri": "https://localhost:8080/",
          "height": 897
        },
        "outputId": "470fe074-9c3c-4340-8457-fac67cfe1b94"
      },
      "source": [
        "ax=finaldf.hist(bins=50,figsize=(20,16))\n",
        "for a in ax.flatten():\n",
        "  a.set_xlabel(\"Value\")\n",
        "  a.set_ylabel(\"Frequency\")"
      ],
      "execution_count": null,
      "outputs": [
        {
          "output_type": "display_data",
          "data": {
            "image/png": "[encoded data removed]",
            "text/plain": [
              "<Figure size 1440x1152 with 6 Axes>"
            ]
          },
          "metadata": {
            "tags": [],
            "needs_background": "light"
          }
        }
      ]
    },
    {
      "cell_type": "code",
      "metadata": {
        "id": "E6LJlYXXs0Cb",
        "colab": {
          "base_uri": "https://localhost:8080/",
          "height": 195
        },
        "outputId": "aea19f9d-d774-4e2f-b02a-24867fce6391"
      },
      "source": [
        "finaldf.head()"
      ],
      "execution_count": null,
      "outputs": [
        {
          "output_type": "execute_result",
          "data": {
            "text/html": [
              "<div>\n",
              "<style scoped>\n",
              "    .dataframe tbody tr th:only-of-type {\n",
              "        vertical-align: middle;\n",
              "    }\n",
              "\n",
              "    .dataframe tbody tr th {\n",
              "        vertical-align: top;\n",
              "    }\n",
              "\n",
              "    .dataframe thead th {\n",
              "        text-align: right;\n",
              "    }\n",
              "</style>\n",
              "<table border=\"1\" class=\"dataframe\">\n",
              "  <thead>\n",
              "    <tr style=\"text-align: right;\">\n",
              "      <th></th>\n",
              "      <th>Ball Control</th>\n",
              "      <th>Special</th>\n",
              "      <th>Short Passing</th>\n",
              "      <th>Dribbling</th>\n",
              "      <th>Long Passing</th>\n",
              "    </tr>\n",
              "  </thead>\n",
              "  <tbody>\n",
              "    <tr>\n",
              "      <th>0</th>\n",
              "      <td>96</td>\n",
              "      <td>2161</td>\n",
              "      <td>88</td>\n",
              "      <td>97</td>\n",
              "      <td>87</td>\n",
              "    </tr>\n",
              "    <tr>\n",
              "      <th>1</th>\n",
              "      <td>93</td>\n",
              "      <td>2228</td>\n",
              "      <td>83</td>\n",
              "      <td>91</td>\n",
              "      <td>77</td>\n",
              "    </tr>\n",
              "    <tr>\n",
              "      <th>2</th>\n",
              "      <td>95</td>\n",
              "      <td>2105</td>\n",
              "      <td>82</td>\n",
              "      <td>96</td>\n",
              "      <td>75</td>\n",
              "    </tr>\n",
              "    <tr>\n",
              "      <th>3</th>\n",
              "      <td>91</td>\n",
              "      <td>2321</td>\n",
              "      <td>83</td>\n",
              "      <td>86</td>\n",
              "      <td>64</td>\n",
              "    </tr>\n",
              "    <tr>\n",
              "      <th>4</th>\n",
              "      <td>48</td>\n",
              "      <td>1487</td>\n",
              "      <td>55</td>\n",
              "      <td>30</td>\n",
              "      <td>59</td>\n",
              "    </tr>\n",
              "  </tbody>\n",
              "</table>\n",
              "</div>"
            ],
            "text/plain": [
              "   Ball Control  Special  Short Passing  Dribbling  Long Passing\n",
              "0            96     2161             88         97            87\n",
              "1            93     2228             83         91            77\n",
              "2            95     2105             82         96            75\n",
              "3            91     2321             83         86            64\n",
              "4            48     1487             55         30            59"
            ]
          },
          "metadata": {
            "tags": []
          },
          "execution_count": 38
        }
      ]
    },
    {
      "cell_type": "code",
      "metadata": {
        "id": "-GWnm7bHxPAL"
      },
      "source": [
        "#import random\n",
        "#Ball_Control =[random.randint(20,60) for i in range(100)]\n",
        "#data = {'Ball_Control':Ball_Control}\n",
        "#new = pd.DataFrame(data)\n",
        "#new.head()"
      ],
      "execution_count": null,
      "outputs": []
    },
    {
      "cell_type": "code",
      "metadata": {
        "id": "-7vpXGiziORw"
      },
      "source": [
        "msk = np.random.rand(len(finaldf)) < 0.8\n",
        "train = finaldf[msk]\n",
        "test = finaldf[~msk]"
      ],
      "execution_count": null,
      "outputs": []
    },
    {
      "cell_type": "code",
      "metadata": {
        "id": "mIR9Cbs8iPoM",
        "colab": {
          "base_uri": "https://localhost:8080/",
          "height": 50
        },
        "outputId": "b6029c8e-543f-44b4-a445-4fd1a22f2911"
      },
      "source": [
        "regr = linear_model.LinearRegression()\n",
        "train_x = np.asanyarray(train[['Ball Control']])\n",
        "train_y = np.asanyarray(train[['Dribbling']])\n",
        "regr.fit(train_x, train_y)\n",
        "# The coefficients\n",
        "print ('Coefficients: ', regr.coef_)\n",
        "print ('Intercept: ',regr.intercept_)"
      ],
      "execution_count": null,
      "outputs": [
        {
          "output_type": "stream",
          "text": [
            "Coefficients:  [[1.09739944]]\n",
            "Intercept:  [-9.8023532]\n"
          ],
          "name": "stdout"
        }
      ]
    },
    {
      "cell_type": "code",
      "metadata": {
        "id": "MzjPsrv5iqwR"
      },
      "source": [
        "test_x = np.asanyarray(test[['Ball Control']])\n",
        "test_y = np.asanyarray(test[['Dribbling']])\n",
        "test_y_hat = regr.predict(test_x).astype(int)"
      ],
      "execution_count": null,
      "outputs": []
    },
    {
      "cell_type": "code",
      "metadata": {
        "id": "pnjRCzT9mJxO",
        "colab": {
          "base_uri": "https://localhost:8080/",
          "height": 134
        },
        "outputId": "551bd7f6-ba89-43e3-e924-e781087aba95"
      },
      "source": [
        "test_y_hat"
      ],
      "execution_count": null,
      "outputs": [
        {
          "output_type": "execute_result",
          "data": {
            "text/plain": [
              "array([[42],\n",
              "       [87],\n",
              "       [76],\n",
              "       ...,\n",
              "       [53],\n",
              "       [70],\n",
              "       [43]])"
            ]
          },
          "metadata": {
            "tags": []
          },
          "execution_count": 43
        }
      ]
    },
    {
      "cell_type": "code",
      "metadata": {
        "id": "baSBegkgmnOf"
      },
      "source": [
        "stdd=np.std(test_y)\n",
        "y_noise = np.random.randint(-int(stdd)/2, int(stdd)/2, size=test_y_hat.size)\n",
        "y_noisse = pd.DataFrame(y_noise)\n",
        "y_noise=np.asanyarray(y_noisse)"
      ],
      "execution_count": null,
      "outputs": []
    },
    {
      "cell_type": "code",
      "metadata": {
        "id": "zjfJ3RUtmvfv",
        "colab": {
          "base_uri": "https://localhost:8080/",
          "height": 134
        },
        "outputId": "39c540ae-5702-4fa7-8eea-6389ce44b80b"
      },
      "source": [
        "new_yhat=test_y_hat+y_noise\n",
        "new_yhat"
      ],
      "execution_count": null,
      "outputs": [
        {
          "output_type": "execute_result",
          "data": {
            "text/plain": [
              "array([[40],\n",
              "       [90],\n",
              "       [82],\n",
              "       ...,\n",
              "       [53],\n",
              "       [77],\n",
              "       [36]])"
            ]
          },
          "metadata": {
            "tags": []
          },
          "execution_count": 45
        }
      ]
    },
    {
      "cell_type": "code",
      "metadata": {
        "id": "icd6Xh2Nm3Li",
        "colab": {
          "base_uri": "https://localhost:8080/",
          "height": 134
        },
        "outputId": "507d6f25-6a16-4903-a444-fb9926f764e2"
      },
      "source": [
        "for i in range(new_yhat.size):\n",
        "    if new_yhat[i]>99:\n",
        "        new_yhat[i]=99\n",
        "        \n",
        "new_yhat"
      ],
      "execution_count": null,
      "outputs": [
        {
          "output_type": "execute_result",
          "data": {
            "text/plain": [
              "array([[40],\n",
              "       [90],\n",
              "       [82],\n",
              "       ...,\n",
              "       [53],\n",
              "       [77],\n",
              "       [36]])"
            ]
          },
          "metadata": {
            "tags": []
          },
          "execution_count": 46
        }
      ]
    },
    {
      "cell_type": "code",
      "metadata": {
        "id": "OBZ68o8hnJui",
        "colab": {
          "base_uri": "https://localhost:8080/",
          "height": 195
        },
        "outputId": "290be2fb-7911-46ad-c16e-6ecb4c010d6f"
      },
      "source": [
        "ans = pd.DataFrame()\n",
        "ans['Ball Control'] = np.squeeze(test_x).tolist()\n",
        "ans['Dribbling'] = np.squeeze(new_yhat).tolist()\n",
        "ans.head()"
      ],
      "execution_count": null,
      "outputs": [
        {
          "output_type": "execute_result",
          "data": {
            "text/html": [
              "<div>\n",
              "<style scoped>\n",
              "    .dataframe tbody tr th:only-of-type {\n",
              "        vertical-align: middle;\n",
              "    }\n",
              "\n",
              "    .dataframe tbody tr th {\n",
              "        vertical-align: top;\n",
              "    }\n",
              "\n",
              "    .dataframe thead th {\n",
              "        text-align: right;\n",
              "    }\n",
              "</style>\n",
              "<table border=\"1\" class=\"dataframe\">\n",
              "  <thead>\n",
              "    <tr style=\"text-align: right;\">\n",
              "      <th></th>\n",
              "      <th>Ball Control</th>\n",
              "      <th>Dribbling</th>\n",
              "    </tr>\n",
              "  </thead>\n",
              "  <tbody>\n",
              "    <tr>\n",
              "      <th>0</th>\n",
              "      <td>48</td>\n",
              "      <td>40</td>\n",
              "    </tr>\n",
              "    <tr>\n",
              "      <th>1</th>\n",
              "      <td>89</td>\n",
              "      <td>90</td>\n",
              "    </tr>\n",
              "    <tr>\n",
              "      <th>2</th>\n",
              "      <td>79</td>\n",
              "      <td>82</td>\n",
              "    </tr>\n",
              "    <tr>\n",
              "      <th>3</th>\n",
              "      <td>86</td>\n",
              "      <td>83</td>\n",
              "    </tr>\n",
              "    <tr>\n",
              "      <th>4</th>\n",
              "      <td>92</td>\n",
              "      <td>82</td>\n",
              "    </tr>\n",
              "  </tbody>\n",
              "</table>\n",
              "</div>"
            ],
            "text/plain": [
              "   Ball Control  Dribbling\n",
              "0            48         40\n",
              "1            89         90\n",
              "2            79         82\n",
              "3            86         83\n",
              "4            92         82"
            ]
          },
          "metadata": {
            "tags": []
          },
          "execution_count": 47
        }
      ]
    },
    {
      "cell_type": "code",
      "metadata": {
        "id": "6-3EwE1Lrfx-",
        "colab": {
          "base_uri": "https://localhost:8080/",
          "height": 50
        },
        "outputId": "d825759a-324a-4b48-fe63-2c54177b912a"
      },
      "source": [
        "regr = linear_model.LinearRegression()\n",
        "train_x = np.asanyarray(train[['Ball Control']])\n",
        "train_y = np.asanyarray(train[['Special']])\n",
        "regr.fit(train_x, train_y)\n",
        "# The coefficients\n",
        "print ('Coefficients: ', regr.coef_)\n",
        "print ('Intercept: ',regr.intercept_)"
      ],
      "execution_count": null,
      "outputs": [
        {
          "output_type": "stream",
          "text": [
            "Coefficients:  [[13.75239285]]\n",
            "Intercept:  [840.09920364]\n"
          ],
          "name": "stdout"
        }
      ]
    },
    {
      "cell_type": "code",
      "metadata": {
        "id": "NvQTwmHLr_zZ",
        "colab": {
          "base_uri": "https://localhost:8080/",
          "height": 426
        },
        "outputId": "b811009c-95ff-4194-c797-76e9b454fdc9"
      },
      "source": [
        "plt.scatter(train[['Ball Control']], train[['Special']],  color='blue')\n",
        "plt.plot(train_x, regr.coef_[0][0]*train_x + regr.intercept_[0], '-r')"
      ],
      "execution_count": null,
      "outputs": [
        {
          "output_type": "execute_result",
          "data": {
            "text/plain": [
              "[<matplotlib.lines.Line2D at 0x7f357502d978>]"
            ]
          },
          "metadata": {
            "tags": []
          },
          "execution_count": 49
        },
        {
          "output_type": "display_data",
          "data": {
            "image/png": "[encoded data removed]",
            "text/plain": [
              "<Figure size 1440x504 with 1 Axes>"
            ]
          },
          "metadata": {
            "tags": [],
            "needs_background": "light"
          }
        }
      ]
    },
    {
      "cell_type": "code",
      "metadata": {
        "id": "Si7PBaQ7sKtr",
        "colab": {
          "base_uri": "https://localhost:8080/",
          "height": 354
        },
        "outputId": "941110ef-83b2-4b46-f390-a6ae2bfa80c9"
      },
      "source": [
        "test_x = np.asanyarray(test[['Ball Control', 'Dribbling']])\n",
        "test_y = np.asanyarray(test[['Special']])\n",
        "test_y_hat = regr.predict(test_x).astype(int)"
      ],
      "execution_count": null,
      "outputs": [
        {
          "output_type": "error",
          "ename": "ValueError",
          "evalue": "ignored",
          "traceback": [
            "\u001b[0;31m---------------------------------------------------------------------------\u001b[0m",
            "\u001b[0;31mValueError\u001b[0m                                Traceback (most recent call last)",
            "\u001b[0;32m<ipython-input-50-6d95573dca55>\u001b[0m in \u001b[0;36m<module>\u001b[0;34m()\u001b[0m\n\u001b[1;32m      1\u001b[0m \u001b[0mtest_x\u001b[0m \u001b[0;34m=\u001b[0m \u001b[0mnp\u001b[0m\u001b[0;34m.\u001b[0m\u001b[0masanyarray\u001b[0m\u001b[0;34m(\u001b[0m\u001b[0mtest\u001b[0m\u001b[0;34m[\u001b[0m\u001b[0;34m[\u001b[0m\u001b[0;34m'Ball Control'\u001b[0m\u001b[0;34m,\u001b[0m \u001b[0;34m'Dribbling'\u001b[0m\u001b[0;34m]\u001b[0m\u001b[0;34m]\u001b[0m\u001b[0;34m)\u001b[0m\u001b[0;34m\u001b[0m\u001b[0;34m\u001b[0m\u001b[0m\n\u001b[1;32m      2\u001b[0m \u001b[0mtest_y\u001b[0m \u001b[0;34m=\u001b[0m \u001b[0mnp\u001b[0m\u001b[0;34m.\u001b[0m\u001b[0masanyarray\u001b[0m\u001b[0;34m(\u001b[0m\u001b[0mtest\u001b[0m\u001b[0;34m[\u001b[0m\u001b[0;34m[\u001b[0m\u001b[0;34m'Special'\u001b[0m\u001b[0;34m]\u001b[0m\u001b[0;34m]\u001b[0m\u001b[0;34m)\u001b[0m\u001b[0;34m\u001b[0m\u001b[0;34m\u001b[0m\u001b[0m\n\u001b[0;32m----> 3\u001b[0;31m \u001b[0mtest_y_hat\u001b[0m \u001b[0;34m=\u001b[0m \u001b[0mregr\u001b[0m\u001b[0;34m.\u001b[0m\u001b[0mpredict\u001b[0m\u001b[0;34m(\u001b[0m\u001b[0mtest_x\u001b[0m\u001b[0;34m)\u001b[0m\u001b[0;34m.\u001b[0m\u001b[0mastype\u001b[0m\u001b[0;34m(\u001b[0m\u001b[0mint\u001b[0m\u001b[0;34m)\u001b[0m\u001b[0;34m\u001b[0m\u001b[0;34m\u001b[0m\u001b[0m\n\u001b[0m",
            "\u001b[0;32m/usr/local/lib/python3.6/dist-packages/sklearn/linear_model/_base.py\u001b[0m in \u001b[0;36mpredict\u001b[0;34m(self, X)\u001b[0m\n\u001b[1;32m    223\u001b[0m             \u001b[0mReturns\u001b[0m \u001b[0mpredicted\u001b[0m \u001b[0mvalues\u001b[0m\u001b[0;34m.\u001b[0m\u001b[0;34m\u001b[0m\u001b[0;34m\u001b[0m\u001b[0m\n\u001b[1;32m    224\u001b[0m         \"\"\"\n\u001b[0;32m--> 225\u001b[0;31m         \u001b[0;32mreturn\u001b[0m \u001b[0mself\u001b[0m\u001b[0;34m.\u001b[0m\u001b[0m_decision_function\u001b[0m\u001b[0;34m(\u001b[0m\u001b[0mX\u001b[0m\u001b[0;34m)\u001b[0m\u001b[0;34m\u001b[0m\u001b[0;34m\u001b[0m\u001b[0m\n\u001b[0m\u001b[1;32m    226\u001b[0m \u001b[0;34m\u001b[0m\u001b[0m\n\u001b[1;32m    227\u001b[0m     \u001b[0m_preprocess_data\u001b[0m \u001b[0;34m=\u001b[0m \u001b[0mstaticmethod\u001b[0m\u001b[0;34m(\u001b[0m\u001b[0m_preprocess_data\u001b[0m\u001b[0;34m)\u001b[0m\u001b[0;34m\u001b[0m\u001b[0;34m\u001b[0m\u001b[0m\n",
            "\u001b[0;32m/usr/local/lib/python3.6/dist-packages/sklearn/linear_model/_base.py\u001b[0m in \u001b[0;36m_decision_function\u001b[0;34m(self, X)\u001b[0m\n\u001b[1;32m    207\u001b[0m         \u001b[0mX\u001b[0m \u001b[0;34m=\u001b[0m \u001b[0mcheck_array\u001b[0m\u001b[0;34m(\u001b[0m\u001b[0mX\u001b[0m\u001b[0;34m,\u001b[0m \u001b[0maccept_sparse\u001b[0m\u001b[0;34m=\u001b[0m\u001b[0;34m[\u001b[0m\u001b[0;34m'csr'\u001b[0m\u001b[0;34m,\u001b[0m \u001b[0;34m'csc'\u001b[0m\u001b[0;34m,\u001b[0m \u001b[0;34m'coo'\u001b[0m\u001b[0;34m]\u001b[0m\u001b[0;34m)\u001b[0m\u001b[0;34m\u001b[0m\u001b[0;34m\u001b[0m\u001b[0m\n\u001b[1;32m    208\u001b[0m         return safe_sparse_dot(X, self.coef_.T,\n\u001b[0;32m--> 209\u001b[0;31m                                dense_output=True) + self.intercept_\n\u001b[0m\u001b[1;32m    210\u001b[0m \u001b[0;34m\u001b[0m\u001b[0m\n\u001b[1;32m    211\u001b[0m     \u001b[0;32mdef\u001b[0m \u001b[0mpredict\u001b[0m\u001b[0;34m(\u001b[0m\u001b[0mself\u001b[0m\u001b[0;34m,\u001b[0m \u001b[0mX\u001b[0m\u001b[0;34m)\u001b[0m\u001b[0;34m:\u001b[0m\u001b[0;34m\u001b[0m\u001b[0;34m\u001b[0m\u001b[0m\n",
            "\u001b[0;32m/usr/local/lib/python3.6/dist-packages/sklearn/utils/extmath.py\u001b[0m in \u001b[0;36msafe_sparse_dot\u001b[0;34m(a, b, dense_output)\u001b[0m\n\u001b[1;32m    149\u001b[0m             \u001b[0mret\u001b[0m \u001b[0;34m=\u001b[0m \u001b[0mnp\u001b[0m\u001b[0;34m.\u001b[0m\u001b[0mdot\u001b[0m\u001b[0;34m(\u001b[0m\u001b[0ma\u001b[0m\u001b[0;34m,\u001b[0m \u001b[0mb\u001b[0m\u001b[0;34m)\u001b[0m\u001b[0;34m\u001b[0m\u001b[0;34m\u001b[0m\u001b[0m\n\u001b[1;32m    150\u001b[0m     \u001b[0;32melse\u001b[0m\u001b[0;34m:\u001b[0m\u001b[0;34m\u001b[0m\u001b[0;34m\u001b[0m\u001b[0m\n\u001b[0;32m--> 151\u001b[0;31m         \u001b[0mret\u001b[0m \u001b[0;34m=\u001b[0m \u001b[0ma\u001b[0m \u001b[0;34m@\u001b[0m \u001b[0mb\u001b[0m\u001b[0;34m\u001b[0m\u001b[0;34m\u001b[0m\u001b[0m\n\u001b[0m\u001b[1;32m    152\u001b[0m \u001b[0;34m\u001b[0m\u001b[0m\n\u001b[1;32m    153\u001b[0m     if (sparse.issparse(a) and sparse.issparse(b)\n",
            "\u001b[0;31mValueError\u001b[0m: matmul: Input operand 1 has a mismatch in its core dimension 0, with gufunc signature (n?,k),(k,m?)->(n?,m?) (size 1 is different from 2)"
          ]
        }
      ]
    },
    {
      "cell_type": "code",
      "metadata": {
        "id": "Dj1-nfY4sXSo"
      },
      "source": [
        "stdd=np.std(test_y)\n",
        "int(stdd)"
      ],
      "execution_count": null,
      "outputs": []
    },
    {
      "cell_type": "code",
      "metadata": {
        "id": "ZRS79I0gscpP"
      },
      "source": [
        "stddd=np.std(train_y)\n",
        "stddd"
      ],
      "execution_count": null,
      "outputs": []
    },
    {
      "cell_type": "code",
      "metadata": {
        "id": "uigP_CkIsXJ4"
      },
      "source": [
        "stdd=np.std(test_y)\n",
        "y_noise = np.random.randint(-int(stdd)/2, int(stdd)/2, size=test_y_hat.size)\n",
        "y_noisse = pd.DataFrame(y_noise)\n",
        "y_noise=np.asanyarray(y_noisse)"
      ],
      "execution_count": null,
      "outputs": []
    },
    {
      "cell_type": "code",
      "metadata": {
        "id": "87Esn4JYsn2E"
      },
      "source": [
        "special=test_y_hat+y_noise\n",
        "special"
      ],
      "execution_count": null,
      "outputs": []
    },
    {
      "cell_type": "markdown",
      "metadata": {
        "id": "jhjPlC8tlqNI"
      },
      "source": [
        ""
      ]
    },
    {
      "cell_type": "code",
      "metadata": {
        "id": "AjtSUxhMs4nD"
      },
      "source": [
        "min(special)"
      ],
      "execution_count": null,
      "outputs": []
    },
    {
      "cell_type": "code",
      "metadata": {
        "id": "x7gYXD--s74O"
      },
      "source": [
        "max(special)"
      ],
      "execution_count": null,
      "outputs": []
    },
    {
      "cell_type": "code",
      "metadata": {
        "id": "O37UtldMs-k8"
      },
      "source": [
        "finaldf.Special.min()"
      ],
      "execution_count": null,
      "outputs": []
    },
    {
      "cell_type": "code",
      "metadata": {
        "id": "f--wRhZ2tDMA"
      },
      "source": [
        "finaldf.Special.max()"
      ],
      "execution_count": null,
      "outputs": []
    },
    {
      "cell_type": "code",
      "metadata": {
        "id": "jpr6MYcKtRqW"
      },
      "source": [
        "ans['Special'] = np.squeeze(special).tolist()\n",
        "ans.head()"
      ],
      "execution_count": null,
      "outputs": []
    },
    {
      "cell_type": "code",
      "metadata": {
        "id": "KYeIiBs1tb3n"
      },
      "source": [
        "regr = linear_model.LinearRegression()\n",
        "train_x = np.asanyarray(train[['Ball Control', 'Dribbling', 'Special']])\n",
        "train_y = np.asanyarray(train[['Short Passing']])\n",
        "regr.fit(train_x, train_y)\n",
        "# The coefficients\n",
        "print ('Coefficients: ', regr.coef_)\n",
        "print ('Intercept: ',regr.intercept_)"
      ],
      "execution_count": null,
      "outputs": []
    },
    {
      "cell_type": "code",
      "metadata": {
        "id": "VZE04EyWm4YQ"
      },
      "source": [
        "test_x.size"
      ],
      "execution_count": null,
      "outputs": []
    },
    {
      "cell_type": "code",
      "metadata": {
        "id": "ebOd92yUttUj"
      },
      "source": [
        "plt.scatter(train[['Ball Control']],train[['Short Passing']],  color='blue')\n",
        "plt.plot(train_x, regr.coef_[0][0]*train_x + regr.intercept_[0], '-r')"
      ],
      "execution_count": null,
      "outputs": []
    },
    {
      "cell_type": "code",
      "metadata": {
        "id": "VbZqSmNCt80G"
      },
      "source": [
        "test_x = np.asanyarray(test[['Ball Control', 'Dribbling', 'Special']])\n",
        "test_y = np.asanyarray(test[['Short Passing']])\n",
        "test_y_hat = regr.predict(test_x).astype(int)"
      ],
      "execution_count": null,
      "outputs": []
    },
    {
      "cell_type": "code",
      "metadata": {
        "id": "VYxaKfmwuNmv"
      },
      "source": [
        "stdd=np.std(test_y)\n",
        "int(stdd)"
      ],
      "execution_count": null,
      "outputs": []
    },
    {
      "cell_type": "code",
      "metadata": {
        "id": "s3ddq5i3uRua"
      },
      "source": [
        "stddd=np.std(train_y)\n",
        "stddd"
      ],
      "execution_count": null,
      "outputs": []
    },
    {
      "cell_type": "code",
      "metadata": {
        "id": "nemqRYRquVl7"
      },
      "source": [
        "stdd=np.std(test_y)\n",
        "y_noise = np.random.randint(-int(stdd)/2, int(stdd)/2, size=test_y_hat.size)\n",
        "y_noisse = pd.DataFrame(y_noise)\n",
        "y_noise=np.asanyarray(y_noisse)"
      ],
      "execution_count": null,
      "outputs": []
    },
    {
      "cell_type": "code",
      "metadata": {
        "id": "RGYEprRSuaS6"
      },
      "source": [
        "ShortPass=test_y_hat+y_noise\n",
        "ShortPass"
      ],
      "execution_count": null,
      "outputs": []
    },
    {
      "cell_type": "code",
      "metadata": {
        "id": "qbg7Pz9wudt2"
      },
      "source": [
        "min(ShortPass) , max(ShortPass)"
      ],
      "execution_count": null,
      "outputs": []
    },
    {
      "cell_type": "code",
      "metadata": {
        "id": "C73meg4zugld"
      },
      "source": [
        "finaldf['Short Passing'].min()  , finaldf['Short Passing'].max()"
      ],
      "execution_count": null,
      "outputs": []
    },
    {
      "cell_type": "code",
      "metadata": {
        "id": "vImOoLWFuwNh"
      },
      "source": [
        "for i in range(ShortPass.size):\n",
        "    if ShortPass[i]>92:\n",
        "        ShortPass[i]=92"
      ],
      "execution_count": null,
      "outputs": []
    },
    {
      "cell_type": "code",
      "metadata": {
        "id": "LLAR3E6NvI7F"
      },
      "source": [
        "ans['Short Passing'] = np.squeeze(ShortPass).tolist()\n",
        "ans.head()"
      ],
      "execution_count": null,
      "outputs": []
    },
    {
      "cell_type": "code",
      "metadata": {
        "id": "LCnKiOyVv633"
      },
      "source": [
        "regr = linear_model.LinearRegression()\n",
        "train_x = np.asanyarray(train[['Ball Control','Dribbling', 'Special', 'Short Passing']])\n",
        "train_y = np.asanyarray(train[['Long Passing']])\n",
        "regr.fit(train_x, train_y)\n",
        "# The coefficients\n",
        "print ('Coefficients: ', regr.coef_)\n",
        "print ('Intercept: ',regr.intercept_)"
      ],
      "execution_count": null,
      "outputs": []
    },
    {
      "cell_type": "code",
      "metadata": {
        "id": "bFZcz5HMwMqX"
      },
      "source": [
        "plt.scatter(train[['Ball Control']],train[['Short Passing']],  color='blue')\n",
        "plt.plot(train_x, regr.coef_[0][0]*train_x + regr.intercept_[0], '-r')"
      ],
      "execution_count": null,
      "outputs": []
    },
    {
      "cell_type": "code",
      "metadata": {
        "id": "RhlAeT7twTI3"
      },
      "source": [
        "test_x = np.asanyarray(test[['Ball Control','Dribbling', 'Special', 'Short Passing']])\n",
        "test_y = np.asanyarray(test[['Long Passing']])\n",
        "test_y_hat = regr.predict(test_x).astype(int)"
      ],
      "execution_count": null,
      "outputs": []
    },
    {
      "cell_type": "code",
      "metadata": {
        "id": "nB8oIcTjwZmD"
      },
      "source": [
        "stdd=np.std(test_y)\n",
        "int(stdd)"
      ],
      "execution_count": null,
      "outputs": []
    },
    {
      "cell_type": "code",
      "metadata": {
        "id": "DwTw3BURwen_"
      },
      "source": [
        "stddd=np.std(train_y)\n",
        "stddd"
      ],
      "execution_count": null,
      "outputs": []
    },
    {
      "cell_type": "code",
      "metadata": {
        "id": "9LbBPX4LwkAU"
      },
      "source": [
        "stdd=np.std(test_y)\n",
        "y_noise = np.random.randint(-int(stdd)/2, int(stdd)/2, size=test_y_hat.size)\n",
        "y_noisse = pd.DataFrame(y_noise)\n",
        "y_noise=np.asanyarray(y_noisse)"
      ],
      "execution_count": null,
      "outputs": []
    },
    {
      "cell_type": "code",
      "metadata": {
        "id": "702l-OsXwoXB"
      },
      "source": [
        "LongPass=test_y_hat+y_noise\n",
        "LongPass"
      ],
      "execution_count": null,
      "outputs": []
    },
    {
      "cell_type": "code",
      "metadata": {
        "id": "Kja6s3d7w2Ke"
      },
      "source": [
        "min(LongPass) , max(LongPass)"
      ],
      "execution_count": null,
      "outputs": []
    },
    {
      "cell_type": "code",
      "metadata": {
        "id": "P_KXTyYew65y"
      },
      "source": [
        "finaldf['Long Passing'].min()  , finaldf['Long Passing'].max()"
      ],
      "execution_count": null,
      "outputs": []
    },
    {
      "cell_type": "code",
      "metadata": {
        "id": "xG63r6zkxIjo"
      },
      "source": [
        "ans['Long Passing'] = np.squeeze(LongPass).tolist()\n",
        "ans.size"
      ],
      "execution_count": null,
      "outputs": []
    },
    {
      "cell_type": "code",
      "metadata": {
        "id": "LntjLm6sxPR7"
      },
      "source": [
        "ans.to_csv(\"Ans.csv\")"
      ],
      "execution_count": null,
      "outputs": []
    },
    {
      "cell_type": "code",
      "metadata": {
        "id": "U7C23xmmncHd"
      },
      "source": [
        "ans.head()"
      ],
      "execution_count": null,
      "outputs": []
    },
    {
      "cell_type": "code",
      "metadata": {
        "id": "Av-Mxb_8y81G"
      },
      "source": [
        "ans.corr()"
      ],
      "execution_count": null,
      "outputs": []
    },
    {
      "cell_type": "code",
      "metadata": {
        "id": "ZuuaORBhnnFv"
      },
      "source": [
        "new_final_df=pd.concat([ans,finaldf],ignore_index=True)\n",
        "finaldf.size"
      ],
      "execution_count": null,
      "outputs": []
    },
    {
      "cell_type": "code",
      "metadata": {
        "id": "B8f4ivYWo1g8"
      },
      "source": [
        "mskk = np.random.rand(len(ans)) < 0.8\n",
        "trainn = ans[mskk]\n",
        "testt = ans[~mskk]"
      ],
      "execution_count": null,
      "outputs": []
    },
    {
      "cell_type": "code",
      "metadata": {
        "id": "XP0m61d6pTxX"
      },
      "source": [
        "regr = linear_model.LinearRegression()\n",
        "trainn_x = np.asanyarray(trainn[['Ball Control','Special','Short Passing','Long Passing']])\n",
        "trainn_y = np.asanyarray(trainn[['Dribbling']])\n",
        "regr.fit(trainn_x, trainn_y)\n",
        "# The coefficients\n",
        "print ('Coefficients: ', regr.coef_)\n",
        "print ('Intercept: ',regr.intercept_)"
      ],
      "execution_count": null,
      "outputs": []
    },
    {
      "cell_type": "code",
      "metadata": {
        "id": "ljADJjAfplT1"
      },
      "source": [
        "test_x = np.asanyarray(testt[['Ball Control','Special','Short Passing','Long Passing']])\n",
        "test_y = np.asanyarray(testt[['Dribbling']])\n",
        "testt_y_hat = regr.predict(test_x).astype(int)"
      ],
      "execution_count": null,
      "outputs": []
    },
    {
      "cell_type": "code",
      "metadata": {
        "id": "dZ4i0FgVpu8j"
      },
      "source": [
        "test_y"
      ],
      "execution_count": null,
      "outputs": []
    },
    {
      "cell_type": "code",
      "metadata": {
        "id": "zyeMwGgUpxvI"
      },
      "source": [
        "testt_y_hat"
      ],
      "execution_count": null,
      "outputs": []
    },
    {
      "cell_type": "code",
      "metadata": {
        "id": "znfS3yV_qS5w"
      },
      "source": [
        "ans.shape"
      ],
      "execution_count": null,
      "outputs": []
    },
    {
      "cell_type": "code",
      "metadata": {
        "id": "fi3JM0AYqfDP"
      },
      "source": [
        "from sklearn.metrics import r2_score\n",
        "\n",
        "test_x = np.asanyarray(testt[['Ball Control','Special','Short Passing','Long Passing']])\n",
        "test_y = np.asanyarray(testt[['Dribbling']])\n",
        "test_y_hat = regr.predict(test_x)\n",
        "\n",
        "print(\"Mean absolute error: %.2f\" % np.mean(np.absolute(test_y_hat - test_y)))\n",
        "print(\"Residual sum of squares (MSE): %.2f\" % np.mean((test_y_hat - test_y) ** 2))\n",
        "print(\"R2-score: %.2f\" % r2_score(test_y_hat , test_y) )"
      ],
      "execution_count": null,
      "outputs": []
    },
    {
      "cell_type": "code",
      "metadata": {
        "id": "tHqmJ1hV7b2H"
      },
      "source": [
        "ans.head(10)"
      ],
      "execution_count": null,
      "outputs": []
    }
  ]
}