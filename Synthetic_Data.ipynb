{
  "nbformat": 4,
  "nbformat_minor": 0,
  "metadata": {
    "colab": {
      "name": "Synthetic_Data.ipynb",
      "provenance": []
    },
    "kernelspec": {
      "name": "python3",
      "display_name": "Python 3"
    }
  },
  "cells": [
    {
      "cell_type": "code",
      "metadata": {
        "id": "HBDbdrRRK-l3"
      },
      "source": [
        "import pandas as pd"
      ],
      "execution_count": null,
      "outputs": []
    },
    {
      "cell_type": "code",
      "metadata": {
        "id": "EHGML_Lzecna",
        "colab": {
          "base_uri": "https://localhost:8080/",
          "height": 377
        },
        "outputId": "57487060-1415-472d-9397-4ae27cb7061f"
      },
      "source": [
        "df = pd.read_csv(\"fifa.csv\")\n",
        "df.head()"
      ],
      "execution_count": null,
      "outputs": [
        {
          "output_type": "execute_result",
          "data": {
            "text/html": [
              "<div>\n",
              "<style scoped>\n",
              "    .dataframe tbody tr th:only-of-type {\n",
              "        vertical-align: middle;\n",
              "    }\n",
              "\n",
              "    .dataframe tbody tr th {\n",
              "        vertical-align: top;\n",
              "    }\n",
              "\n",
              "    .dataframe thead th {\n",
              "        text-align: right;\n",
              "    }\n",
              "</style>\n",
              "<table border=\"1\" class=\"dataframe\">\n",
              "  <thead>\n",
              "    <tr style=\"text-align: right;\">\n",
              "      <th></th>\n",
              "      <th>Name</th>\n",
              "      <th>Age</th>\n",
              "      <th>Photo</th>\n",
              "      <th>Nationality</th>\n",
              "      <th>Flag</th>\n",
              "      <th>Overall</th>\n",
              "      <th>Potential</th>\n",
              "      <th>Club</th>\n",
              "      <th>Club Logo</th>\n",
              "      <th>Value</th>\n",
              "      <th>Wage</th>\n",
              "      <th>Special</th>\n",
              "      <th>Acceleration</th>\n",
              "      <th>Aggression</th>\n",
              "      <th>Agility</th>\n",
              "      <th>Balance</th>\n",
              "      <th>Ball Control</th>\n",
              "      <th>Composure</th>\n",
              "      <th>Crossing</th>\n",
              "      <th>Curve</th>\n",
              "      <th>Dribbling</th>\n",
              "      <th>FK Accuracy</th>\n",
              "      <th>Finishing</th>\n",
              "      <th>GK Diving</th>\n",
              "      <th>GK Handling</th>\n",
              "      <th>GK Kicking</th>\n",
              "      <th>GK Positioning</th>\n",
              "      <th>GK Reflexes</th>\n",
              "      <th>Heading Accuracy</th>\n",
              "      <th>Interceptions</th>\n",
              "      <th>Jumping</th>\n",
              "      <th>Long Passing</th>\n",
              "      <th>Long Shots</th>\n",
              "      <th>Marking</th>\n",
              "      <th>Penalties</th>\n",
              "      <th>Positioning</th>\n",
              "      <th>Reactions</th>\n",
              "      <th>Short Passing</th>\n",
              "      <th>Shot Power</th>\n",
              "      <th>Sliding Tackle</th>\n",
              "      <th>Sprint Speed</th>\n",
              "      <th>Stamina</th>\n",
              "      <th>Standing Tackle</th>\n",
              "      <th>Strength</th>\n",
              "      <th>Vision</th>\n",
              "      <th>Volleys</th>\n",
              "    </tr>\n",
              "  </thead>\n",
              "  <tbody>\n",
              "    <tr>\n",
              "      <th>0</th>\n",
              "      <td>L. Messi</td>\n",
              "      <td>30</td>\n",
              "      <td>https://cdn.sofifa.org/sm/18/players/158023.png</td>\n",
              "      <td>Argentina</td>\n",
              "      <td>https://cdn.sofifa.org/flags/52.png</td>\n",
              "      <td>94</td>\n",
              "      <td>94</td>\n",
              "      <td>FC Barcelona</td>\n",
              "      <td>https://cdn.sofifa.org/xs/18/teams/241.png</td>\n",
              "      <td>118500000.0</td>\n",
              "      <td>565000.0</td>\n",
              "      <td>2161.0</td>\n",
              "      <td>92.0</td>\n",
              "      <td>48.0</td>\n",
              "      <td>90.0</td>\n",
              "      <td>95.0</td>\n",
              "      <td>96.0</td>\n",
              "      <td>97.0</td>\n",
              "      <td>77.0</td>\n",
              "      <td>90.0</td>\n",
              "      <td>97.0</td>\n",
              "      <td>92.0</td>\n",
              "      <td>95.0</td>\n",
              "      <td>6.0</td>\n",
              "      <td>11.0</td>\n",
              "      <td>15.0</td>\n",
              "      <td>14.0</td>\n",
              "      <td>8.0</td>\n",
              "      <td>71.0</td>\n",
              "      <td>22.0</td>\n",
              "      <td>67.0</td>\n",
              "      <td>87.0</td>\n",
              "      <td>88.0</td>\n",
              "      <td>13.0</td>\n",
              "      <td>75.0</td>\n",
              "      <td>93.0</td>\n",
              "      <td>95.0</td>\n",
              "      <td>88.0</td>\n",
              "      <td>85.0</td>\n",
              "      <td>26.0</td>\n",
              "      <td>87.0</td>\n",
              "      <td>73.0</td>\n",
              "      <td>28.0</td>\n",
              "      <td>59.0</td>\n",
              "      <td>92.0</td>\n",
              "      <td>86.0</td>\n",
              "    </tr>\n",
              "    <tr>\n",
              "      <th>1</th>\n",
              "      <td>Cristiano Ronaldo</td>\n",
              "      <td>32</td>\n",
              "      <td>https://cdn.sofifa.org/sm/18/players/20801.png</td>\n",
              "      <td>Portugal</td>\n",
              "      <td>https://cdn.sofifa.org/flags/38.png</td>\n",
              "      <td>94</td>\n",
              "      <td>94</td>\n",
              "      <td>Real Madrid CF</td>\n",
              "      <td>https://cdn.sofifa.org/xs/18/teams/243.png</td>\n",
              "      <td>95500000.0</td>\n",
              "      <td>565000.0</td>\n",
              "      <td>2228.0</td>\n",
              "      <td>89.0</td>\n",
              "      <td>63.0</td>\n",
              "      <td>89.0</td>\n",
              "      <td>63.0</td>\n",
              "      <td>93.0</td>\n",
              "      <td>95.0</td>\n",
              "      <td>85.0</td>\n",
              "      <td>81.0</td>\n",
              "      <td>91.0</td>\n",
              "      <td>76.0</td>\n",
              "      <td>94.0</td>\n",
              "      <td>7.0</td>\n",
              "      <td>11.0</td>\n",
              "      <td>15.0</td>\n",
              "      <td>14.0</td>\n",
              "      <td>11.0</td>\n",
              "      <td>88.0</td>\n",
              "      <td>29.0</td>\n",
              "      <td>95.0</td>\n",
              "      <td>77.0</td>\n",
              "      <td>92.0</td>\n",
              "      <td>22.0</td>\n",
              "      <td>85.0</td>\n",
              "      <td>95.0</td>\n",
              "      <td>96.0</td>\n",
              "      <td>83.0</td>\n",
              "      <td>94.0</td>\n",
              "      <td>23.0</td>\n",
              "      <td>91.0</td>\n",
              "      <td>92.0</td>\n",
              "      <td>31.0</td>\n",
              "      <td>80.0</td>\n",
              "      <td>85.0</td>\n",
              "      <td>88.0</td>\n",
              "    </tr>\n",
              "    <tr>\n",
              "      <th>2</th>\n",
              "      <td>Neymar</td>\n",
              "      <td>25</td>\n",
              "      <td>https://cdn.sofifa.org/sm/18/players/190871.png</td>\n",
              "      <td>Brazil</td>\n",
              "      <td>https://cdn.sofifa.org/flags/54.png</td>\n",
              "      <td>92</td>\n",
              "      <td>93</td>\n",
              "      <td>Paris Saint-Germain</td>\n",
              "      <td>https://cdn.sofifa.org/xs/18/teams/73.png</td>\n",
              "      <td>119500000.0</td>\n",
              "      <td>280000.0</td>\n",
              "      <td>2105.0</td>\n",
              "      <td>94.0</td>\n",
              "      <td>56.0</td>\n",
              "      <td>96.0</td>\n",
              "      <td>82.0</td>\n",
              "      <td>95.0</td>\n",
              "      <td>92.0</td>\n",
              "      <td>75.0</td>\n",
              "      <td>82.0</td>\n",
              "      <td>96.0</td>\n",
              "      <td>84.0</td>\n",
              "      <td>88.0</td>\n",
              "      <td>9.0</td>\n",
              "      <td>9.0</td>\n",
              "      <td>15.0</td>\n",
              "      <td>15.0</td>\n",
              "      <td>11.0</td>\n",
              "      <td>62.0</td>\n",
              "      <td>36.0</td>\n",
              "      <td>61.0</td>\n",
              "      <td>75.0</td>\n",
              "      <td>78.0</td>\n",
              "      <td>21.0</td>\n",
              "      <td>81.0</td>\n",
              "      <td>90.0</td>\n",
              "      <td>88.0</td>\n",
              "      <td>82.0</td>\n",
              "      <td>80.0</td>\n",
              "      <td>33.0</td>\n",
              "      <td>90.0</td>\n",
              "      <td>78.0</td>\n",
              "      <td>24.0</td>\n",
              "      <td>53.0</td>\n",
              "      <td>83.0</td>\n",
              "      <td>83.0</td>\n",
              "    </tr>\n",
              "    <tr>\n",
              "      <th>3</th>\n",
              "      <td>L. Suárez</td>\n",
              "      <td>30</td>\n",
              "      <td>https://cdn.sofifa.org/sm/18/players/176580.png</td>\n",
              "      <td>Uruguay</td>\n",
              "      <td>https://cdn.sofifa.org/flags/60.png</td>\n",
              "      <td>92</td>\n",
              "      <td>92</td>\n",
              "      <td>FC Barcelona</td>\n",
              "      <td>https://cdn.sofifa.org/xs/18/teams/241.png</td>\n",
              "      <td>97000000.0</td>\n",
              "      <td>510000.0</td>\n",
              "      <td>2321.0</td>\n",
              "      <td>88.0</td>\n",
              "      <td>87.0</td>\n",
              "      <td>86.0</td>\n",
              "      <td>78.0</td>\n",
              "      <td>91.0</td>\n",
              "      <td>85.0</td>\n",
              "      <td>77.0</td>\n",
              "      <td>86.0</td>\n",
              "      <td>86.0</td>\n",
              "      <td>84.0</td>\n",
              "      <td>94.0</td>\n",
              "      <td>27.0</td>\n",
              "      <td>25.0</td>\n",
              "      <td>31.0</td>\n",
              "      <td>33.0</td>\n",
              "      <td>37.0</td>\n",
              "      <td>77.0</td>\n",
              "      <td>41.0</td>\n",
              "      <td>69.0</td>\n",
              "      <td>64.0</td>\n",
              "      <td>86.0</td>\n",
              "      <td>30.0</td>\n",
              "      <td>85.0</td>\n",
              "      <td>92.0</td>\n",
              "      <td>93.0</td>\n",
              "      <td>83.0</td>\n",
              "      <td>87.0</td>\n",
              "      <td>38.0</td>\n",
              "      <td>77.0</td>\n",
              "      <td>89.0</td>\n",
              "      <td>45.0</td>\n",
              "      <td>83.0</td>\n",
              "      <td>84.0</td>\n",
              "      <td>88.0</td>\n",
              "    </tr>\n",
              "    <tr>\n",
              "      <th>4</th>\n",
              "      <td>M. Neuer</td>\n",
              "      <td>31</td>\n",
              "      <td>https://cdn.sofifa.org/sm/18/players/167495.png</td>\n",
              "      <td>Germany</td>\n",
              "      <td>https://cdn.sofifa.org/flags/21.png</td>\n",
              "      <td>92</td>\n",
              "      <td>92</td>\n",
              "      <td>FC Bayern Munich</td>\n",
              "      <td>https://cdn.sofifa.org/xs/18/teams/21.png</td>\n",
              "      <td>61000000.0</td>\n",
              "      <td>230000.0</td>\n",
              "      <td>1487.0</td>\n",
              "      <td>56.0</td>\n",
              "      <td>29.0</td>\n",
              "      <td>51.0</td>\n",
              "      <td>35.0</td>\n",
              "      <td>48.0</td>\n",
              "      <td>70.0</td>\n",
              "      <td>15.0</td>\n",
              "      <td>14.0</td>\n",
              "      <td>30.0</td>\n",
              "      <td>11.0</td>\n",
              "      <td>13.0</td>\n",
              "      <td>91.0</td>\n",
              "      <td>90.0</td>\n",
              "      <td>95.0</td>\n",
              "      <td>91.0</td>\n",
              "      <td>89.0</td>\n",
              "      <td>25.0</td>\n",
              "      <td>30.0</td>\n",
              "      <td>77.0</td>\n",
              "      <td>59.0</td>\n",
              "      <td>16.0</td>\n",
              "      <td>10.0</td>\n",
              "      <td>47.0</td>\n",
              "      <td>12.0</td>\n",
              "      <td>85.0</td>\n",
              "      <td>55.0</td>\n",
              "      <td>25.0</td>\n",
              "      <td>11.0</td>\n",
              "      <td>60.0</td>\n",
              "      <td>43.0</td>\n",
              "      <td>10.0</td>\n",
              "      <td>83.0</td>\n",
              "      <td>70.0</td>\n",
              "      <td>11.0</td>\n",
              "    </tr>\n",
              "  </tbody>\n",
              "</table>\n",
              "</div>"
            ],
            "text/plain": [
              "                Name  Age  ... Vision Volleys\n",
              "0           L. Messi   30  ...   92.0    86.0\n",
              "1  Cristiano Ronaldo   32  ...   85.0    88.0\n",
              "2             Neymar   25  ...   83.0    83.0\n",
              "3          L. Suárez   30  ...   84.0    88.0\n",
              "4           M. Neuer   31  ...   70.0    11.0\n",
              "\n",
              "[5 rows x 46 columns]"
            ]
          },
          "metadata": {
            "tags": []
          },
          "execution_count": 3
        }
      ]
    },
    {
      "cell_type": "code",
      "metadata": {
        "id": "PcXvlgttelJl",
        "colab": {
          "base_uri": "https://localhost:8080/",
          "height": 34
        },
        "outputId": "6b0efcd5-c1ab-4179-9910-9a4db231606c"
      },
      "source": [
        "df.duplicated().sum()"
      ],
      "execution_count": null,
      "outputs": [
        {
          "output_type": "execute_result",
          "data": {
            "text/plain": [
              "40"
            ]
          },
          "metadata": {
            "tags": []
          },
          "execution_count": 6
        }
      ]
    },
    {
      "cell_type": "code",
      "metadata": {
        "id": "JXf2FFC-et0J"
      },
      "source": [
        "df = df.drop_duplicates()"
      ],
      "execution_count": null,
      "outputs": []
    },
    {
      "cell_type": "code",
      "metadata": {
        "id": "2rjJ89e8e2cU",
        "colab": {
          "base_uri": "https://localhost:8080/",
          "height": 34
        },
        "outputId": "1999cf72-4a70-4172-ddf7-8392c00cc735"
      },
      "source": [
        "df.duplicated().sum()"
      ],
      "execution_count": null,
      "outputs": [
        {
          "output_type": "execute_result",
          "data": {
            "text/plain": [
              "0"
            ]
          },
          "metadata": {
            "tags": []
          },
          "execution_count": 10
        }
      ]
    },
    {
      "cell_type": "code",
      "metadata": {
        "id": "352EFJLie6nF",
        "colab": {
          "base_uri": "https://localhost:8080/",
          "height": 816
        },
        "outputId": "cf687676-9920-474c-b459-2e8d50e2bc7c"
      },
      "source": [
        "df.dtypes"
      ],
      "execution_count": null,
      "outputs": [
        {
          "output_type": "execute_result",
          "data": {
            "text/plain": [
              "Name                 object\n",
              "Age                   int64\n",
              "Photo                object\n",
              "Nationality          object\n",
              "Flag                 object\n",
              "Overall               int64\n",
              "Potential             int64\n",
              "Club                 object\n",
              "Club Logo            object\n",
              "Value               float64\n",
              "Wage                float64\n",
              "Special             float64\n",
              "Acceleration        float64\n",
              "Aggression          float64\n",
              "Agility             float64\n",
              "Balance             float64\n",
              "Ball Control        float64\n",
              "Composure           float64\n",
              "Crossing            float64\n",
              "Curve               float64\n",
              "Dribbling           float64\n",
              "FK Accuracy         float64\n",
              "Finishing           float64\n",
              "GK Diving           float64\n",
              "GK Handling         float64\n",
              "GK Kicking          float64\n",
              "GK Positioning      float64\n",
              "GK Reflexes         float64\n",
              "Heading Accuracy    float64\n",
              "Interceptions       float64\n",
              "Jumping             float64\n",
              "Long Passing        float64\n",
              "Long Shots          float64\n",
              "Marking             float64\n",
              "Penalties           float64\n",
              "Positioning         float64\n",
              "Reactions           float64\n",
              "Short Passing       float64\n",
              "Shot Power          float64\n",
              "Sliding Tackle      float64\n",
              "Sprint Speed        float64\n",
              "Stamina             float64\n",
              "Standing Tackle     float64\n",
              "Strength            float64\n",
              "Vision              float64\n",
              "Volleys             float64\n",
              "dtype: object"
            ]
          },
          "metadata": {
            "tags": []
          },
          "execution_count": 11
        }
      ]
    },
    {
      "cell_type": "code",
      "metadata": {
        "id": "tuokAqw3fQin",
        "colab": {
          "base_uri": "https://localhost:8080/",
          "height": 34
        },
        "outputId": "2cd8bebe-8a9b-4414-dc3c-08d29a1641e2"
      },
      "source": [
        "df.shape"
      ],
      "execution_count": null,
      "outputs": [
        {
          "output_type": "execute_result",
          "data": {
            "text/plain": [
              "(14244, 46)"
            ]
          },
          "metadata": {
            "tags": []
          },
          "execution_count": 14
        }
      ]
    },
    {
      "cell_type": "code",
      "metadata": {
        "id": "20qX7v6jfJT5",
        "colab": {
          "base_uri": "https://localhost:8080/",
          "height": 816
        },
        "outputId": "4798785f-8047-4aae-eb65-57c627cbca5d"
      },
      "source": [
        "df.isnull().sum()"
      ],
      "execution_count": null,
      "outputs": [
        {
          "output_type": "execute_result",
          "data": {
            "text/plain": [
              "Name                  0\n",
              "Age                   0\n",
              "Photo                 0\n",
              "Nationality           0\n",
              "Flag                  0\n",
              "Overall               0\n",
              "Potential             0\n",
              "Club                207\n",
              "Club Logo             0\n",
              "Value                 1\n",
              "Wage                  1\n",
              "Special               1\n",
              "Acceleration          1\n",
              "Aggression            1\n",
              "Agility               1\n",
              "Balance               1\n",
              "Ball Control          1\n",
              "Composure             1\n",
              "Crossing              1\n",
              "Curve                 1\n",
              "Dribbling             1\n",
              "FK Accuracy           1\n",
              "Finishing             1\n",
              "GK Diving             1\n",
              "GK Handling           1\n",
              "GK Kicking            1\n",
              "GK Positioning        1\n",
              "GK Reflexes           1\n",
              "Heading Accuracy      1\n",
              "Interceptions         1\n",
              "Jumping               1\n",
              "Long Passing          1\n",
              "Long Shots            1\n",
              "Marking               1\n",
              "Penalties             1\n",
              "Positioning           1\n",
              "Reactions             1\n",
              "Short Passing         1\n",
              "Shot Power            1\n",
              "Sliding Tackle        1\n",
              "Sprint Speed          1\n",
              "Stamina               1\n",
              "Standing Tackle       1\n",
              "Strength              1\n",
              "Vision                1\n",
              "Volleys               1\n",
              "dtype: int64"
            ]
          },
          "metadata": {
            "tags": []
          },
          "execution_count": 13
        }
      ]
    },
    {
      "cell_type": "code",
      "metadata": {
        "id": "J9OUuakBOD09",
        "outputId": "25671a4f-29cd-4fd1-b6c8-b477b752b0c6"
      },
      "source": [
        "plt.scatter(df['Overall'],df['Potential'])\n",
        "plt.show()"
      ],
      "execution_count": null,
      "outputs": [
        {
          "output_type": "display_data",
          "data": {
            "image/png": "[encoded data removed]",
            "text/plain": [
              "<Figure size 432x288 with 1 Axes>"
            ]
          },
          "metadata": {
            "tags": [],
            "needs_background": "light"
          }
        }
      ]
    },
    {
      "cell_type": "code",
      "metadata": {
        "id": "pLvJhuIFOD1I",
        "outputId": "5101b653-69d9-4b31-8617-a3eafc3d601a"
      },
      "source": [
        "plt.scatter(df['Overall'],df['Value'])\n",
        "plt.show()"
      ],
      "execution_count": null,
      "outputs": [
        {
          "output_type": "display_data",
          "data": {
            "image/png": "[encoded data removed]",
            "text/plain": [
              "<Figure size 432x288 with 1 Axes>"
            ]
          },
          "metadata": {
            "tags": [],
            "needs_background": "light"
          }
        }
      ]
    },
    {
      "cell_type": "code",
      "metadata": {
        "id": "6uloEwb-OD1U",
        "outputId": "8c9c8962-6ffa-4ed6-f16a-03fbc1c17b88"
      },
      "source": [
        "plt.scatter(df['Overall'],df['Wage'])\n",
        "plt.show()"
      ],
      "execution_count": null,
      "outputs": [
        {
          "output_type": "display_data",
          "data": {
            "image/png": "[encoded data removed]",
            "text/plain": [
              "<Figure size 432x288 with 1 Axes>"
            ]
          },
          "metadata": {
            "tags": [],
            "needs_background": "light"
          }
        }
      ]
    },
    {
      "cell_type": "code",
      "metadata": {
        "id": "JBOpzXoKOD1e",
        "outputId": "11baf46f-8b30-40a3-8bdb-dd045a89f768"
      },
      "source": [
        "plt.scatter(df['Overall'],df['Special'])\n",
        "plt.show()"
      ],
      "execution_count": null,
      "outputs": [
        {
          "output_type": "display_data",
          "data": {
            "image/png": "[encoded data removed]",
            "text/plain": [
              "<Figure size 432x288 with 1 Axes>"
            ]
          },
          "metadata": {
            "tags": [],
            "needs_background": "light"
          }
        }
      ]
    },
    {
      "cell_type": "code",
      "metadata": {
        "id": "DjTPm5JfOD1t",
        "outputId": "76e424f7-ac34-4bdf-ca20-5816268d6b9b"
      },
      "source": [
        "plt.scatter(df['Overall'],df['Acceleration'])\n",
        "plt.show()"
      ],
      "execution_count": null,
      "outputs": [
        {
          "output_type": "display_data",
          "data": {
            "image/png": "[encoded data removed]",
            "text/plain": [
              "<Figure size 432x288 with 1 Axes>"
            ]
          },
          "metadata": {
            "tags": [],
            "needs_background": "light"
          }
        }
      ]
    },
    {
      "cell_type": "code",
      "metadata": {
        "id": "oF_v4HY5OD16",
        "outputId": "f159ee28-4020-46c2-81cb-183d5a5e4ba5"
      },
      "source": [
        "plt.scatter(df['Crossing'],df['Ball Control'])\n",
        "plt.show()"
      ],
      "execution_count": null,
      "outputs": [
        {
          "output_type": "display_data",
          "data": {
            "image/png": "[encoded data removed]",
            "text/plain": [
              "<Figure size 432x288 with 1 Axes>"
            ]
          },
          "metadata": {
            "tags": [],
            "needs_background": "light"
          }
        }
      ]
    },
    {
      "cell_type": "code",
      "metadata": {
        "id": "z43vQI8nOD2E",
        "outputId": "17fba259-6365-4201-e64d-8b598d8e7d60"
      },
      "source": [
        "plt.scatter(df['Overall'],df['Ball Control'])\n",
        "plt.show()"
      ],
      "execution_count": null,
      "outputs": [
        {
          "output_type": "display_data",
          "data": {
            "image/png": "[encoded data removed]",
            "text/plain": [
              "<Figure size 432x288 with 1 Axes>"
            ]
          },
          "metadata": {
            "tags": [],
            "needs_background": "light"
          }
        }
      ]
    },
    {
      "cell_type": "code",
      "metadata": {
        "id": "8jNbU6ElOD2O",
        "outputId": "7525ed5f-ddd8-452f-9950-6fbe8f68719b"
      },
      "source": [
        "cdf=df[['Overall','Potential','Special','Acceleration','Balance','Ball Control','Crossing','Dribbling','Finishing','Heading Accuracy','Long Passing','Long Shots','Penalties','Short Passing','Shot Power','Sliding Tackle','Sprint Speed','Stamina','Strength','Volleys']]\n",
        "cdf.head(20)"
      ],
      "execution_count": null,
      "outputs": [
        {
          "output_type": "execute_result",
          "data": {
            "text/html": [
              "<div>\n",
              "<style scoped>\n",
              "    .dataframe tbody tr th:only-of-type {\n",
              "        vertical-align: middle;\n",
              "    }\n",
              "\n",
              "    .dataframe tbody tr th {\n",
              "        vertical-align: top;\n",
              "    }\n",
              "\n",
              "    .dataframe thead th {\n",
              "        text-align: right;\n",
              "    }\n",
              "</style>\n",
              "<table border=\"1\" class=\"dataframe\">\n",
              "  <thead>\n",
              "    <tr style=\"text-align: right;\">\n",
              "      <th></th>\n",
              "      <th>Overall</th>\n",
              "      <th>Potential</th>\n",
              "      <th>Special</th>\n",
              "      <th>Acceleration</th>\n",
              "      <th>Balance</th>\n",
              "      <th>Ball Control</th>\n",
              "      <th>Crossing</th>\n",
              "      <th>Dribbling</th>\n",
              "      <th>Finishing</th>\n",
              "      <th>Heading Accuracy</th>\n",
              "      <th>Long Passing</th>\n",
              "      <th>Long Shots</th>\n",
              "      <th>Penalties</th>\n",
              "      <th>Short Passing</th>\n",
              "      <th>Shot Power</th>\n",
              "      <th>Sliding Tackle</th>\n",
              "      <th>Sprint Speed</th>\n",
              "      <th>Stamina</th>\n",
              "      <th>Strength</th>\n",
              "      <th>Volleys</th>\n",
              "    </tr>\n",
              "  </thead>\n",
              "  <tbody>\n",
              "    <tr>\n",
              "      <th>0</th>\n",
              "      <td>94</td>\n",
              "      <td>94</td>\n",
              "      <td>2161</td>\n",
              "      <td>92</td>\n",
              "      <td>95</td>\n",
              "      <td>96</td>\n",
              "      <td>77</td>\n",
              "      <td>97</td>\n",
              "      <td>95</td>\n",
              "      <td>71</td>\n",
              "      <td>87</td>\n",
              "      <td>88</td>\n",
              "      <td>75</td>\n",
              "      <td>88</td>\n",
              "      <td>85</td>\n",
              "      <td>26</td>\n",
              "      <td>87</td>\n",
              "      <td>73</td>\n",
              "      <td>59</td>\n",
              "      <td>86</td>\n",
              "    </tr>\n",
              "    <tr>\n",
              "      <th>1</th>\n",
              "      <td>94</td>\n",
              "      <td>94</td>\n",
              "      <td>2228</td>\n",
              "      <td>89</td>\n",
              "      <td>63</td>\n",
              "      <td>93</td>\n",
              "      <td>85</td>\n",
              "      <td>91</td>\n",
              "      <td>94</td>\n",
              "      <td>88</td>\n",
              "      <td>77</td>\n",
              "      <td>92</td>\n",
              "      <td>85</td>\n",
              "      <td>83</td>\n",
              "      <td>94</td>\n",
              "      <td>23</td>\n",
              "      <td>91</td>\n",
              "      <td>92</td>\n",
              "      <td>80</td>\n",
              "      <td>88</td>\n",
              "    </tr>\n",
              "    <tr>\n",
              "      <th>2</th>\n",
              "      <td>92</td>\n",
              "      <td>93</td>\n",
              "      <td>2105</td>\n",
              "      <td>94</td>\n",
              "      <td>82</td>\n",
              "      <td>95</td>\n",
              "      <td>75</td>\n",
              "      <td>96</td>\n",
              "      <td>88</td>\n",
              "      <td>62</td>\n",
              "      <td>75</td>\n",
              "      <td>78</td>\n",
              "      <td>81</td>\n",
              "      <td>82</td>\n",
              "      <td>80</td>\n",
              "      <td>33</td>\n",
              "      <td>90</td>\n",
              "      <td>78</td>\n",
              "      <td>53</td>\n",
              "      <td>83</td>\n",
              "    </tr>\n",
              "    <tr>\n",
              "      <th>3</th>\n",
              "      <td>92</td>\n",
              "      <td>92</td>\n",
              "      <td>2321</td>\n",
              "      <td>88</td>\n",
              "      <td>78</td>\n",
              "      <td>91</td>\n",
              "      <td>77</td>\n",
              "      <td>86</td>\n",
              "      <td>94</td>\n",
              "      <td>77</td>\n",
              "      <td>64</td>\n",
              "      <td>86</td>\n",
              "      <td>85</td>\n",
              "      <td>83</td>\n",
              "      <td>87</td>\n",
              "      <td>38</td>\n",
              "      <td>77</td>\n",
              "      <td>89</td>\n",
              "      <td>83</td>\n",
              "      <td>88</td>\n",
              "    </tr>\n",
              "    <tr>\n",
              "      <th>4</th>\n",
              "      <td>92</td>\n",
              "      <td>92</td>\n",
              "      <td>1487</td>\n",
              "      <td>56</td>\n",
              "      <td>35</td>\n",
              "      <td>48</td>\n",
              "      <td>15</td>\n",
              "      <td>30</td>\n",
              "      <td>13</td>\n",
              "      <td>25</td>\n",
              "      <td>59</td>\n",
              "      <td>16</td>\n",
              "      <td>47</td>\n",
              "      <td>55</td>\n",
              "      <td>25</td>\n",
              "      <td>11</td>\n",
              "      <td>60</td>\n",
              "      <td>43</td>\n",
              "      <td>83</td>\n",
              "      <td>11</td>\n",
              "    </tr>\n",
              "    <tr>\n",
              "      <th>5</th>\n",
              "      <td>91</td>\n",
              "      <td>93</td>\n",
              "      <td>1465</td>\n",
              "      <td>57</td>\n",
              "      <td>43</td>\n",
              "      <td>42</td>\n",
              "      <td>17</td>\n",
              "      <td>18</td>\n",
              "      <td>13</td>\n",
              "      <td>21</td>\n",
              "      <td>51</td>\n",
              "      <td>12</td>\n",
              "      <td>40</td>\n",
              "      <td>50</td>\n",
              "      <td>31</td>\n",
              "      <td>13</td>\n",
              "      <td>58</td>\n",
              "      <td>40</td>\n",
              "      <td>64</td>\n",
              "      <td>13</td>\n",
              "    </tr>\n",
              "    <tr>\n",
              "      <th>6</th>\n",
              "      <td>91</td>\n",
              "      <td>92</td>\n",
              "      <td>2234</td>\n",
              "      <td>78</td>\n",
              "      <td>79</td>\n",
              "      <td>90</td>\n",
              "      <td>92</td>\n",
              "      <td>86</td>\n",
              "      <td>83</td>\n",
              "      <td>54</td>\n",
              "      <td>87</td>\n",
              "      <td>88</td>\n",
              "      <td>77</td>\n",
              "      <td>91</td>\n",
              "      <td>89</td>\n",
              "      <td>51</td>\n",
              "      <td>76</td>\n",
              "      <td>88</td>\n",
              "      <td>73</td>\n",
              "      <td>82</td>\n",
              "    </tr>\n",
              "    <tr>\n",
              "      <th>7</th>\n",
              "      <td>91</td>\n",
              "      <td>91</td>\n",
              "      <td>2151</td>\n",
              "      <td>79</td>\n",
              "      <td>80</td>\n",
              "      <td>89</td>\n",
              "      <td>62</td>\n",
              "      <td>85</td>\n",
              "      <td>91</td>\n",
              "      <td>85</td>\n",
              "      <td>65</td>\n",
              "      <td>84</td>\n",
              "      <td>88</td>\n",
              "      <td>85</td>\n",
              "      <td>88</td>\n",
              "      <td>19</td>\n",
              "      <td>79</td>\n",
              "      <td>79</td>\n",
              "      <td>84</td>\n",
              "      <td>89</td>\n",
              "    </tr>\n",
              "    <tr>\n",
              "      <th>8</th>\n",
              "      <td>91</td>\n",
              "      <td>91</td>\n",
              "      <td>2122</td>\n",
              "      <td>93</td>\n",
              "      <td>93</td>\n",
              "      <td>93</td>\n",
              "      <td>81</td>\n",
              "      <td>94</td>\n",
              "      <td>84</td>\n",
              "      <td>60</td>\n",
              "      <td>83</td>\n",
              "      <td>80</td>\n",
              "      <td>86</td>\n",
              "      <td>89</td>\n",
              "      <td>79</td>\n",
              "      <td>22</td>\n",
              "      <td>88</td>\n",
              "      <td>81</td>\n",
              "      <td>67</td>\n",
              "      <td>80</td>\n",
              "    </tr>\n",
              "    <tr>\n",
              "      <th>9</th>\n",
              "      <td>90</td>\n",
              "      <td>90</td>\n",
              "      <td>2189</td>\n",
              "      <td>65</td>\n",
              "      <td>71</td>\n",
              "      <td>89</td>\n",
              "      <td>85</td>\n",
              "      <td>79</td>\n",
              "      <td>76</td>\n",
              "      <td>54</td>\n",
              "      <td>93</td>\n",
              "      <td>90</td>\n",
              "      <td>73</td>\n",
              "      <td>90</td>\n",
              "      <td>87</td>\n",
              "      <td>69</td>\n",
              "      <td>66</td>\n",
              "      <td>77</td>\n",
              "      <td>74</td>\n",
              "      <td>82</td>\n",
              "    </tr>\n",
              "    <tr>\n",
              "      <th>10</th>\n",
              "      <td>90</td>\n",
              "      <td>90</td>\n",
              "      <td>2063</td>\n",
              "      <td>62</td>\n",
              "      <td>58</td>\n",
              "      <td>81</td>\n",
              "      <td>64</td>\n",
              "      <td>68</td>\n",
              "      <td>55</td>\n",
              "      <td>89</td>\n",
              "      <td>85</td>\n",
              "      <td>51</td>\n",
              "      <td>68</td>\n",
              "      <td>82</td>\n",
              "      <td>71</td>\n",
              "      <td>90</td>\n",
              "      <td>69</td>\n",
              "      <td>66</td>\n",
              "      <td>85</td>\n",
              "      <td>60</td>\n",
              "    </tr>\n",
              "    <tr>\n",
              "      <th>11</th>\n",
              "      <td>90</td>\n",
              "      <td>90</td>\n",
              "      <td>1965</td>\n",
              "      <td>78</td>\n",
              "      <td>69</td>\n",
              "      <td>85</td>\n",
              "      <td>68</td>\n",
              "      <td>84</td>\n",
              "      <td>91</td>\n",
              "      <td>86</td>\n",
              "      <td>59</td>\n",
              "      <td>82</td>\n",
              "      <td>70</td>\n",
              "      <td>75</td>\n",
              "      <td>88</td>\n",
              "      <td>18</td>\n",
              "      <td>80</td>\n",
              "      <td>72</td>\n",
              "      <td>85</td>\n",
              "      <td>88</td>\n",
              "    </tr>\n",
              "    <tr>\n",
              "      <th>12</th>\n",
              "      <td>90</td>\n",
              "      <td>90</td>\n",
              "      <td>2154</td>\n",
              "      <td>75</td>\n",
              "      <td>60</td>\n",
              "      <td>84</td>\n",
              "      <td>66</td>\n",
              "      <td>61</td>\n",
              "      <td>60</td>\n",
              "      <td>91</td>\n",
              "      <td>72</td>\n",
              "      <td>55</td>\n",
              "      <td>68</td>\n",
              "      <td>78</td>\n",
              "      <td>79</td>\n",
              "      <td>91</td>\n",
              "      <td>77</td>\n",
              "      <td>84</td>\n",
              "      <td>81</td>\n",
              "      <td>66</td>\n",
              "    </tr>\n",
              "    <tr>\n",
              "      <th>13</th>\n",
              "      <td>89</td>\n",
              "      <td>94</td>\n",
              "      <td>2086</td>\n",
              "      <td>88</td>\n",
              "      <td>85</td>\n",
              "      <td>93</td>\n",
              "      <td>82</td>\n",
              "      <td>92</td>\n",
              "      <td>84</td>\n",
              "      <td>68</td>\n",
              "      <td>75</td>\n",
              "      <td>88</td>\n",
              "      <td>86</td>\n",
              "      <td>87</td>\n",
              "      <td>82</td>\n",
              "      <td>20</td>\n",
              "      <td>84</td>\n",
              "      <td>83</td>\n",
              "      <td>65</td>\n",
              "      <td>88</td>\n",
              "    </tr>\n",
              "    <tr>\n",
              "      <th>14</th>\n",
              "      <td>89</td>\n",
              "      <td>93</td>\n",
              "      <td>1297</td>\n",
              "      <td>43</td>\n",
              "      <td>49</td>\n",
              "      <td>16</td>\n",
              "      <td>13</td>\n",
              "      <td>12</td>\n",
              "      <td>11</td>\n",
              "      <td>15</td>\n",
              "      <td>26</td>\n",
              "      <td>12</td>\n",
              "      <td>11</td>\n",
              "      <td>29</td>\n",
              "      <td>22</td>\n",
              "      <td>18</td>\n",
              "      <td>60</td>\n",
              "      <td>41</td>\n",
              "      <td>78</td>\n",
              "      <td>13</td>\n",
              "    </tr>\n",
              "    <tr>\n",
              "      <th>15</th>\n",
              "      <td>89</td>\n",
              "      <td>92</td>\n",
              "      <td>1298</td>\n",
              "      <td>46</td>\n",
              "      <td>45</td>\n",
              "      <td>23</td>\n",
              "      <td>14</td>\n",
              "      <td>13</td>\n",
              "      <td>14</td>\n",
              "      <td>13</td>\n",
              "      <td>35</td>\n",
              "      <td>17</td>\n",
              "      <td>27</td>\n",
              "      <td>33</td>\n",
              "      <td>36</td>\n",
              "      <td>16</td>\n",
              "      <td>52</td>\n",
              "      <td>38</td>\n",
              "      <td>70</td>\n",
              "      <td>12</td>\n",
              "    </tr>\n",
              "    <tr>\n",
              "      <th>16</th>\n",
              "      <td>89</td>\n",
              "      <td>89</td>\n",
              "      <td>2231</td>\n",
              "      <td>75</td>\n",
              "      <td>94</td>\n",
              "      <td>92</td>\n",
              "      <td>78</td>\n",
              "      <td>86</td>\n",
              "      <td>71</td>\n",
              "      <td>55</td>\n",
              "      <td>84</td>\n",
              "      <td>82</td>\n",
              "      <td>80</td>\n",
              "      <td>92</td>\n",
              "      <td>73</td>\n",
              "      <td>73</td>\n",
              "      <td>71</td>\n",
              "      <td>82</td>\n",
              "      <td>58</td>\n",
              "      <td>74</td>\n",
              "    </tr>\n",
              "    <tr>\n",
              "      <th>17</th>\n",
              "      <td>89</td>\n",
              "      <td>89</td>\n",
              "      <td>2013</td>\n",
              "      <td>72</td>\n",
              "      <td>89</td>\n",
              "      <td>91</td>\n",
              "      <td>83</td>\n",
              "      <td>87</td>\n",
              "      <td>73</td>\n",
              "      <td>54</td>\n",
              "      <td>81</td>\n",
              "      <td>73</td>\n",
              "      <td>73</td>\n",
              "      <td>92</td>\n",
              "      <td>71</td>\n",
              "      <td>29</td>\n",
              "      <td>65</td>\n",
              "      <td>81</td>\n",
              "      <td>56</td>\n",
              "      <td>80</td>\n",
              "    </tr>\n",
              "    <tr>\n",
              "      <th>18</th>\n",
              "      <td>89</td>\n",
              "      <td>89</td>\n",
              "      <td>2087</td>\n",
              "      <td>90</td>\n",
              "      <td>91</td>\n",
              "      <td>89</td>\n",
              "      <td>70</td>\n",
              "      <td>89</td>\n",
              "      <td>91</td>\n",
              "      <td>74</td>\n",
              "      <td>63</td>\n",
              "      <td>83</td>\n",
              "      <td>83</td>\n",
              "      <td>81</td>\n",
              "      <td>88</td>\n",
              "      <td>12</td>\n",
              "      <td>83</td>\n",
              "      <td>77</td>\n",
              "      <td>76</td>\n",
              "      <td>85</td>\n",
              "    </tr>\n",
              "    <tr>\n",
              "      <th>19</th>\n",
              "      <td>89</td>\n",
              "      <td>89</td>\n",
              "      <td>1867</td>\n",
              "      <td>68</td>\n",
              "      <td>64</td>\n",
              "      <td>57</td>\n",
              "      <td>58</td>\n",
              "      <td>58</td>\n",
              "      <td>33</td>\n",
              "      <td>84</td>\n",
              "      <td>59</td>\n",
              "      <td>49</td>\n",
              "      <td>50</td>\n",
              "      <td>59</td>\n",
              "      <td>78</td>\n",
              "      <td>90</td>\n",
              "      <td>78</td>\n",
              "      <td>68</td>\n",
              "      <td>91</td>\n",
              "      <td>45</td>\n",
              "    </tr>\n",
              "  </tbody>\n",
              "</table>\n",
              "</div>"
            ],
            "text/plain": [
              "    Overall  Potential  Special  Acceleration  Balance  Ball Control  \\\n",
              "0        94         94     2161            92       95            96   \n",
              "1        94         94     2228            89       63            93   \n",
              "2        92         93     2105            94       82            95   \n",
              "3        92         92     2321            88       78            91   \n",
              "4        92         92     1487            56       35            48   \n",
              "5        91         93     1465            57       43            42   \n",
              "6        91         92     2234            78       79            90   \n",
              "7        91         91     2151            79       80            89   \n",
              "8        91         91     2122            93       93            93   \n",
              "9        90         90     2189            65       71            89   \n",
              "10       90         90     2063            62       58            81   \n",
              "11       90         90     1965            78       69            85   \n",
              "12       90         90     2154            75       60            84   \n",
              "13       89         94     2086            88       85            93   \n",
              "14       89         93     1297            43       49            16   \n",
              "15       89         92     1298            46       45            23   \n",
              "16       89         89     2231            75       94            92   \n",
              "17       89         89     2013            72       89            91   \n",
              "18       89         89     2087            90       91            89   \n",
              "19       89         89     1867            68       64            57   \n",
              "\n",
              "    Crossing  Dribbling  Finishing  Heading Accuracy  Long Passing  \\\n",
              "0         77         97         95                71            87   \n",
              "1         85         91         94                88            77   \n",
              "2         75         96         88                62            75   \n",
              "3         77         86         94                77            64   \n",
              "4         15         30         13                25            59   \n",
              "5         17         18         13                21            51   \n",
              "6         92         86         83                54            87   \n",
              "7         62         85         91                85            65   \n",
              "8         81         94         84                60            83   \n",
              "9         85         79         76                54            93   \n",
              "10        64         68         55                89            85   \n",
              "11        68         84         91                86            59   \n",
              "12        66         61         60                91            72   \n",
              "13        82         92         84                68            75   \n",
              "14        13         12         11                15            26   \n",
              "15        14         13         14                13            35   \n",
              "16        78         86         71                55            84   \n",
              "17        83         87         73                54            81   \n",
              "18        70         89         91                74            63   \n",
              "19        58         58         33                84            59   \n",
              "\n",
              "    Long Shots  Penalties  Short Passing  Shot Power  Sliding Tackle  \\\n",
              "0           88         75             88          85              26   \n",
              "1           92         85             83          94              23   \n",
              "2           78         81             82          80              33   \n",
              "3           86         85             83          87              38   \n",
              "4           16         47             55          25              11   \n",
              "5           12         40             50          31              13   \n",
              "6           88         77             91          89              51   \n",
              "7           84         88             85          88              19   \n",
              "8           80         86             89          79              22   \n",
              "9           90         73             90          87              69   \n",
              "10          51         68             82          71              90   \n",
              "11          82         70             75          88              18   \n",
              "12          55         68             78          79              91   \n",
              "13          88         86             87          82              20   \n",
              "14          12         11             29          22              18   \n",
              "15          17         27             33          36              16   \n",
              "16          82         80             92          73              73   \n",
              "17          73         73             92          71              29   \n",
              "18          83         83             81          88              12   \n",
              "19          49         50             59          78              90   \n",
              "\n",
              "    Sprint Speed  Stamina  Strength  Volleys  \n",
              "0             87       73        59       86  \n",
              "1             91       92        80       88  \n",
              "2             90       78        53       83  \n",
              "3             77       89        83       88  \n",
              "4             60       43        83       11  \n",
              "5             58       40        64       13  \n",
              "6             76       88        73       82  \n",
              "7             79       79        84       89  \n",
              "8             88       81        67       80  \n",
              "9             66       77        74       82  \n",
              "10            69       66        85       60  \n",
              "11            80       72        85       88  \n",
              "12            77       84        81       66  \n",
              "13            84       83        65       88  \n",
              "14            60       41        78       13  \n",
              "15            52       38        70       12  \n",
              "16            71       82        58       74  \n",
              "17            65       81        56       80  \n",
              "18            83       77        76       85  \n",
              "19            78       68        91       45  "
            ]
          },
          "metadata": {
            "tags": []
          },
          "execution_count": 4
        }
      ]
    },
    {
      "cell_type": "code",
      "metadata": {
        "id": "aGiKiTQdOD2Y",
        "outputId": "4f684e0e-32bd-4bb9-ac53-8220d26b321a"
      },
      "source": [
        "rows, cols=cdf.shape\n",
        "print(rows, cols)"
      ],
      "execution_count": null,
      "outputs": [
        {
          "output_type": "stream",
          "text": [
            "18000 20\n"
          ],
          "name": "stdout"
        }
      ]
    },
    {
      "cell_type": "code",
      "metadata": {
        "id": "vw_gs1iROD2l",
        "outputId": "f5967a55-f5cb-467b-e1a1-7b34551f887c"
      },
      "source": [
        "fdf=cdf.head(10000)\n",
        "fdf.tail()"
      ],
      "execution_count": null,
      "outputs": [
        {
          "output_type": "execute_result",
          "data": {
            "text/html": [
              "<div>\n",
              "<style scoped>\n",
              "    .dataframe tbody tr th:only-of-type {\n",
              "        vertical-align: middle;\n",
              "    }\n",
              "\n",
              "    .dataframe tbody tr th {\n",
              "        vertical-align: top;\n",
              "    }\n",
              "\n",
              "    .dataframe thead th {\n",
              "        text-align: right;\n",
              "    }\n",
              "</style>\n",
              "<table border=\"1\" class=\"dataframe\">\n",
              "  <thead>\n",
              "    <tr style=\"text-align: right;\">\n",
              "      <th></th>\n",
              "      <th>Overall</th>\n",
              "      <th>Potential</th>\n",
              "      <th>Special</th>\n",
              "      <th>Acceleration</th>\n",
              "      <th>Balance</th>\n",
              "      <th>Ball Control</th>\n",
              "      <th>Crossing</th>\n",
              "      <th>Dribbling</th>\n",
              "      <th>Finishing</th>\n",
              "      <th>Heading Accuracy</th>\n",
              "      <th>Long Passing</th>\n",
              "      <th>Long Shots</th>\n",
              "      <th>Penalties</th>\n",
              "      <th>Short Passing</th>\n",
              "      <th>Shot Power</th>\n",
              "      <th>Sliding Tackle</th>\n",
              "      <th>Sprint Speed</th>\n",
              "      <th>Stamina</th>\n",
              "      <th>Strength</th>\n",
              "      <th>Volleys</th>\n",
              "    </tr>\n",
              "  </thead>\n",
              "  <tbody>\n",
              "    <tr>\n",
              "      <th>9995</th>\n",
              "      <td>66</td>\n",
              "      <td>79</td>\n",
              "      <td>1593</td>\n",
              "      <td>71</td>\n",
              "      <td>62</td>\n",
              "      <td>64</td>\n",
              "      <td>41</td>\n",
              "      <td>62</td>\n",
              "      <td>68</td>\n",
              "      <td>65</td>\n",
              "      <td>50</td>\n",
              "      <td>54</td>\n",
              "      <td>64</td>\n",
              "      <td>61</td>\n",
              "      <td>62</td>\n",
              "      <td>17</td>\n",
              "      <td>69</td>\n",
              "      <td>68</td>\n",
              "      <td>67</td>\n",
              "      <td>55</td>\n",
              "    </tr>\n",
              "    <tr>\n",
              "      <th>9996</th>\n",
              "      <td>66</td>\n",
              "      <td>74</td>\n",
              "      <td>1574</td>\n",
              "      <td>69</td>\n",
              "      <td>68</td>\n",
              "      <td>67</td>\n",
              "      <td>35</td>\n",
              "      <td>65</td>\n",
              "      <td>68</td>\n",
              "      <td>71</td>\n",
              "      <td>39</td>\n",
              "      <td>52</td>\n",
              "      <td>58</td>\n",
              "      <td>51</td>\n",
              "      <td>67</td>\n",
              "      <td>23</td>\n",
              "      <td>69</td>\n",
              "      <td>72</td>\n",
              "      <td>70</td>\n",
              "      <td>61</td>\n",
              "    </tr>\n",
              "    <tr>\n",
              "      <th>9997</th>\n",
              "      <td>66</td>\n",
              "      <td>69</td>\n",
              "      <td>1625</td>\n",
              "      <td>82</td>\n",
              "      <td>70</td>\n",
              "      <td>69</td>\n",
              "      <td>56</td>\n",
              "      <td>67</td>\n",
              "      <td>57</td>\n",
              "      <td>34</td>\n",
              "      <td>48</td>\n",
              "      <td>63</td>\n",
              "      <td>58</td>\n",
              "      <td>63</td>\n",
              "      <td>68</td>\n",
              "      <td>23</td>\n",
              "      <td>79</td>\n",
              "      <td>68</td>\n",
              "      <td>51</td>\n",
              "      <td>57</td>\n",
              "    </tr>\n",
              "    <tr>\n",
              "      <th>9998</th>\n",
              "      <td>66</td>\n",
              "      <td>78</td>\n",
              "      <td>1552</td>\n",
              "      <td>71</td>\n",
              "      <td>75</td>\n",
              "      <td>64</td>\n",
              "      <td>59</td>\n",
              "      <td>68</td>\n",
              "      <td>60</td>\n",
              "      <td>46</td>\n",
              "      <td>60</td>\n",
              "      <td>55</td>\n",
              "      <td>51</td>\n",
              "      <td>66</td>\n",
              "      <td>63</td>\n",
              "      <td>30</td>\n",
              "      <td>74</td>\n",
              "      <td>64</td>\n",
              "      <td>43</td>\n",
              "      <td>41</td>\n",
              "    </tr>\n",
              "    <tr>\n",
              "      <th>9999</th>\n",
              "      <td>66</td>\n",
              "      <td>67</td>\n",
              "      <td>1727</td>\n",
              "      <td>77</td>\n",
              "      <td>65</td>\n",
              "      <td>59</td>\n",
              "      <td>58</td>\n",
              "      <td>57</td>\n",
              "      <td>41</td>\n",
              "      <td>52</td>\n",
              "      <td>54</td>\n",
              "      <td>40</td>\n",
              "      <td>54</td>\n",
              "      <td>61</td>\n",
              "      <td>51</td>\n",
              "      <td>64</td>\n",
              "      <td>85</td>\n",
              "      <td>81</td>\n",
              "      <td>61</td>\n",
              "      <td>40</td>\n",
              "    </tr>\n",
              "  </tbody>\n",
              "</table>\n",
              "</div>"
            ],
            "text/plain": [
              "      Overall  Potential  Special  Acceleration  Balance  Ball Control  \\\n",
              "9995       66         79     1593            71       62            64   \n",
              "9996       66         74     1574            69       68            67   \n",
              "9997       66         69     1625            82       70            69   \n",
              "9998       66         78     1552            71       75            64   \n",
              "9999       66         67     1727            77       65            59   \n",
              "\n",
              "      Crossing  Dribbling  Finishing  Heading Accuracy  Long Passing  \\\n",
              "9995        41         62         68                65            50   \n",
              "9996        35         65         68                71            39   \n",
              "9997        56         67         57                34            48   \n",
              "9998        59         68         60                46            60   \n",
              "9999        58         57         41                52            54   \n",
              "\n",
              "      Long Shots  Penalties  Short Passing  Shot Power  Sliding Tackle  \\\n",
              "9995          54         64             61          62              17   \n",
              "9996          52         58             51          67              23   \n",
              "9997          63         58             63          68              23   \n",
              "9998          55         51             66          63              30   \n",
              "9999          40         54             61          51              64   \n",
              "\n",
              "      Sprint Speed  Stamina  Strength  Volleys  \n",
              "9995            69       68        67       55  \n",
              "9996            69       72        70       61  \n",
              "9997            79       68        51       57  \n",
              "9998            74       64        43       41  \n",
              "9999            85       81        61       40  "
            ]
          },
          "metadata": {
            "tags": []
          },
          "execution_count": 5
        }
      ]
    },
    {
      "cell_type": "code",
      "metadata": {
        "id": "uOReibnOOD2x",
        "outputId": "506417ff-74c6-4ec7-898a-3bc407370a27"
      },
      "source": [
        "plt.scatter(fdf['Acceleration'],fdf['Balance'])\n",
        "plt.show()"
      ],
      "execution_count": null,
      "outputs": [
        {
          "output_type": "display_data",
          "data": {
            "image/png": "[encoded data removed]",
            "text/plain": [
              "<Figure size 432x288 with 1 Axes>"
            ]
          },
          "metadata": {
            "tags": [],
            "needs_background": "light"
          }
        }
      ]
    },
    {
      "cell_type": "code",
      "metadata": {
        "scrolled": true,
        "id": "W7OIkcv8OD26",
        "outputId": "001919d9-81e4-4bf4-eaaf-132826daf19e"
      },
      "source": [
        "plt.scatter(fdf['Balance'],fdf['Ball Control'])\n",
        "plt.show()"
      ],
      "execution_count": null,
      "outputs": [
        {
          "output_type": "display_data",
          "data": {
            "image/png": "[encoded data removed]",
            "text/plain": [
              "<Figure size 432x288 with 1 Axes>"
            ]
          },
          "metadata": {
            "tags": [],
            "needs_background": "light"
          }
        }
      ]
    },
    {
      "cell_type": "code",
      "metadata": {
        "scrolled": true,
        "id": "nbiHAgH7OD3C",
        "outputId": "9281aab8-4e82-4e42-d083-873ffe96a460"
      },
      "source": [
        "plt.scatter(fdf['Ball Control'],fdf['Crossing'])\n",
        "plt.show()"
      ],
      "execution_count": null,
      "outputs": [
        {
          "output_type": "display_data",
          "data": {
            "image/png": "[encoded data removed]",
            "text/plain": [
              "<Figure size 432x288 with 1 Axes>"
            ]
          },
          "metadata": {
            "tags": [],
            "needs_background": "light"
          }
        }
      ]
    },
    {
      "cell_type": "code",
      "metadata": {
        "id": "aSKBntzkOD3K",
        "outputId": "2d4fa859-510b-4ce0-b331-16df34597fd8"
      },
      "source": [
        "plt.scatter(fdf['Ball Control'],fdf['Dribbling'])\n",
        "plt.show()"
      ],
      "execution_count": null,
      "outputs": [
        {
          "output_type": "display_data",
          "data": {
            "image/png": "[encoded data removed]",
            "text/plain": [
              "<Figure size 432x288 with 1 Axes>"
            ]
          },
          "metadata": {
            "tags": [],
            "needs_background": "light"
          }
        }
      ]
    },
    {
      "cell_type": "code",
      "metadata": {
        "id": "Ht3r98S1OD3W",
        "outputId": "ac5cf3c3-553c-492a-b002-34d11fbf6d6b"
      },
      "source": [
        "plt.scatter(fdf['Ball Control'],fdf['Finishing'])\n",
        "plt.show()"
      ],
      "execution_count": null,
      "outputs": [
        {
          "output_type": "display_data",
          "data": {
            "image/png": "[encoded data removed]",
            "text/plain": [
              "<Figure size 432x288 with 1 Axes>"
            ]
          },
          "metadata": {
            "tags": [],
            "needs_background": "light"
          }
        }
      ]
    },
    {
      "cell_type": "code",
      "metadata": {
        "id": "8k4UMjpLOD3i",
        "outputId": "25875ec4-c165-43ee-e862-83325c337dba"
      },
      "source": [
        "plt.scatter(fdf['Ball Control'],fdf['Heading Accuracy'])\n",
        "plt.show()"
      ],
      "execution_count": null,
      "outputs": [
        {
          "output_type": "display_data",
          "data": {
            "image/png": "[encoded data removed]",
            "text/plain": [
              "<Figure size 432x288 with 1 Axes>"
            ]
          },
          "metadata": {
            "tags": [],
            "needs_background": "light"
          }
        }
      ]
    },
    {
      "cell_type": "code",
      "metadata": {
        "id": "6BtwBMrJOD3r",
        "outputId": "359c1601-e8d3-4955-ed58-52668e39f140"
      },
      "source": [
        "plt.scatter(fdf['Ball Control'],fdf['Acceleration'])\n",
        "plt.show()"
      ],
      "execution_count": null,
      "outputs": [
        {
          "output_type": "display_data",
          "data": {
            "image/png": "[encoded data removed]",
            "text/plain": [
              "<Figure size 432x288 with 1 Axes>"
            ]
          },
          "metadata": {
            "tags": [],
            "needs_background": "light"
          }
        }
      ]
    },
    {
      "cell_type": "code",
      "metadata": {
        "id": "r85t20l8OD3z",
        "outputId": "d0e82c3e-9e4d-4d16-cb2c-e4520a077003"
      },
      "source": [
        "plt.scatter(fdf['Ball Control'],fdf['Long Passing'])\n",
        "plt.show()"
      ],
      "execution_count": null,
      "outputs": [
        {
          "output_type": "display_data",
          "data": {
            "image/png": "[encoded data removed]",
            "text/plain": [
              "<Figure size 432x288 with 1 Axes>"
            ]
          },
          "metadata": {
            "tags": [],
            "needs_background": "light"
          }
        }
      ]
    },
    {
      "cell_type": "code",
      "metadata": {
        "id": "OqWWqSIEOD37",
        "outputId": "5ecfedf7-1652-48ff-859c-05d74c55a262"
      },
      "source": [
        "plt.scatter(fdf['Ball Control'],fdf['Long Shots'])\n",
        "plt.show()"
      ],
      "execution_count": null,
      "outputs": [
        {
          "output_type": "display_data",
          "data": {
            "image/png": "[encoded data removed]",
            "text/plain": [
              "<Figure size 432x288 with 1 Axes>"
            ]
          },
          "metadata": {
            "tags": [],
            "needs_background": "light"
          }
        }
      ]
    },
    {
      "cell_type": "code",
      "metadata": {
        "id": "chP44SX2OD4C",
        "outputId": "61b42fda-a19d-4323-83e6-c859eaff2f1f"
      },
      "source": [
        "plt.scatter(fdf['Ball Control'],fdf['Penalties'])\n",
        "plt.show()"
      ],
      "execution_count": null,
      "outputs": [
        {
          "output_type": "display_data",
          "data": {
            "image/png": "[encoded data removed]",
            "text/plain": [
              "<Figure size 432x288 with 1 Axes>"
            ]
          },
          "metadata": {
            "tags": [],
            "needs_background": "light"
          }
        }
      ]
    },
    {
      "cell_type": "code",
      "metadata": {
        "id": "_ftOgehEOD4K",
        "outputId": "6b69a821-1b42-4b1f-875e-4f09c3888858"
      },
      "source": [
        "plt.scatter(fdf['Ball Control'],fdf['Short Passing'])\n",
        "plt.show()"
      ],
      "execution_count": null,
      "outputs": [
        {
          "output_type": "display_data",
          "data": {
            "image/png": "[encoded data removed]",
            "text/plain": [
              "<Figure size 432x288 with 1 Axes>"
            ]
          },
          "metadata": {
            "tags": [],
            "needs_background": "light"
          }
        }
      ]
    },
    {
      "cell_type": "code",
      "metadata": {
        "scrolled": true,
        "id": "T_vO2fFvOD4Y",
        "outputId": "2ed20b30-9646-43c0-ba11-e5859395ca3c"
      },
      "source": [
        "plt.scatter(fdf['Ball Control'],fdf['Shot Power'])\n",
        "plt.show()"
      ],
      "execution_count": null,
      "outputs": [
        {
          "output_type": "display_data",
          "data": {
            "image/png": "[encoded data removed]",
            "text/plain": [
              "<Figure size 432x288 with 1 Axes>"
            ]
          },
          "metadata": {
            "tags": [],
            "needs_background": "light"
          }
        }
      ]
    },
    {
      "cell_type": "code",
      "metadata": {
        "scrolled": true,
        "id": "v1BX87brOD4k",
        "outputId": "3f6485bd-a4cf-4224-c222-af6f83b574e3"
      },
      "source": [
        "plt.scatter(fdf['Ball Control'],fdf['Sliding Tackle'])\n",
        "plt.show()"
      ],
      "execution_count": null,
      "outputs": [
        {
          "output_type": "display_data",
          "data": {
            "image/png": "[encoded data removed]",
            "text/plain": [
              "<Figure size 432x288 with 1 Axes>"
            ]
          },
          "metadata": {
            "tags": [],
            "needs_background": "light"
          }
        }
      ]
    },
    {
      "cell_type": "code",
      "metadata": {
        "scrolled": true,
        "id": "wOr06lDdOD4w",
        "outputId": "991eb2a2-6dd1-4f62-caa5-092d8170fb0d"
      },
      "source": [
        "plt.scatter(fdf['Acceleration'],fdf['Sprint Speed'])\n",
        "plt.show()"
      ],
      "execution_count": null,
      "outputs": [
        {
          "output_type": "display_data",
          "data": {
            "image/png": "[encoded data removed]",
            "text/plain": [
              "<Figure size 432x288 with 1 Axes>"
            ]
          },
          "metadata": {
            "tags": [],
            "needs_background": "light"
          }
        }
      ]
    },
    {
      "cell_type": "code",
      "metadata": {
        "id": "QIvbKaj3OD4-",
        "outputId": "4552e853-40de-48ba-f779-a88594e46015"
      },
      "source": [
        "plt.scatter(fdf['Ball Control'],fdf['Sprint Speed'])\n",
        "plt.show()"
      ],
      "execution_count": null,
      "outputs": [
        {
          "output_type": "display_data",
          "data": {
            "image/png": "[encoded data removed]",
            "text/plain": [
              "<Figure size 432x288 with 1 Axes>"
            ]
          },
          "metadata": {
            "tags": [],
            "needs_background": "light"
          }
        }
      ]
    },
    {
      "cell_type": "code",
      "metadata": {
        "id": "v67L_E7oOD5L",
        "outputId": "0eb6a1be-546b-4033-ee5f-6ab3ffe76916"
      },
      "source": [
        "plt.scatter(fdf['Ball Control'],fdf['Stamina'])\n",
        "plt.show()"
      ],
      "execution_count": null,
      "outputs": [
        {
          "output_type": "display_data",
          "data": {
            "image/png": "[encoded data removed]",
            "text/plain": [
              "<Figure size 432x288 with 1 Axes>"
            ]
          },
          "metadata": {
            "tags": [],
            "needs_background": "light"
          }
        }
      ]
    },
    {
      "cell_type": "code",
      "metadata": {
        "id": "L5RNSr0yOD5V",
        "outputId": "76e6cc00-b078-4fa2-f42e-fa44fd3ef24b"
      },
      "source": [
        "plt.scatter(fdf['Ball Control'],fdf['Strength'])\n",
        "plt.show()"
      ],
      "execution_count": null,
      "outputs": [
        {
          "output_type": "display_data",
          "data": {
            "image/png": "[encoded data removed]",
            "text/plain": [
              "<Figure size 432x288 with 1 Axes>"
            ]
          },
          "metadata": {
            "tags": [],
            "needs_background": "light"
          }
        }
      ]
    },
    {
      "cell_type": "code",
      "metadata": {
        "scrolled": true,
        "id": "TOcXTSBTOD5d",
        "outputId": "f0ae816d-af3c-48a3-ac56-fdb9a30a16d5"
      },
      "source": [
        "plt.scatter(fdf['Ball Control'],fdf['Volleys'])\n",
        "plt.show()"
      ],
      "execution_count": null,
      "outputs": [
        {
          "output_type": "display_data",
          "data": {
            "image/png": "[encoded data removed]",
            "text/plain": [
              "<Figure size 432x288 with 1 Axes>"
            ]
          },
          "metadata": {
            "tags": [],
            "needs_background": "light"
          }
        }
      ]
    },
    {
      "cell_type": "code",
      "metadata": {
        "id": "7we4oerBOD5w",
        "outputId": "53bb333c-e96e-4ca2-bae3-5040a6457cf0"
      },
      "source": [
        "fdf.corr()"
      ],
      "execution_count": null,
      "outputs": [
        {
          "output_type": "execute_result",
          "data": {
            "text/html": [
              "<div>\n",
              "<style scoped>\n",
              "    .dataframe tbody tr th:only-of-type {\n",
              "        vertical-align: middle;\n",
              "    }\n",
              "\n",
              "    .dataframe tbody tr th {\n",
              "        vertical-align: top;\n",
              "    }\n",
              "\n",
              "    .dataframe thead th {\n",
              "        text-align: right;\n",
              "    }\n",
              "</style>\n",
              "<table border=\"1\" class=\"dataframe\">\n",
              "  <thead>\n",
              "    <tr style=\"text-align: right;\">\n",
              "      <th></th>\n",
              "      <th>Overall</th>\n",
              "      <th>Potential</th>\n",
              "      <th>Special</th>\n",
              "      <th>Acceleration</th>\n",
              "      <th>Balance</th>\n",
              "      <th>Ball Control</th>\n",
              "      <th>Crossing</th>\n",
              "      <th>Dribbling</th>\n",
              "      <th>Finishing</th>\n",
              "      <th>Heading Accuracy</th>\n",
              "      <th>Long Passing</th>\n",
              "      <th>Long Shots</th>\n",
              "      <th>Penalties</th>\n",
              "      <th>Short Passing</th>\n",
              "      <th>Shot Power</th>\n",
              "      <th>Sliding Tackle</th>\n",
              "      <th>Sprint Speed</th>\n",
              "      <th>Stamina</th>\n",
              "      <th>Strength</th>\n",
              "      <th>Volleys</th>\n",
              "    </tr>\n",
              "  </thead>\n",
              "  <tbody>\n",
              "    <tr>\n",
              "      <th>Overall</th>\n",
              "      <td>1.000000</td>\n",
              "      <td>0.728646</td>\n",
              "      <td>0.367251</td>\n",
              "      <td>0.101883</td>\n",
              "      <td>0.062873</td>\n",
              "      <td>0.254688</td>\n",
              "      <td>0.184486</td>\n",
              "      <td>0.207331</td>\n",
              "      <td>0.186984</td>\n",
              "      <td>0.155032</td>\n",
              "      <td>0.281935</td>\n",
              "      <td>0.217367</td>\n",
              "      <td>0.203857</td>\n",
              "      <td>0.294555</td>\n",
              "      <td>0.233877</td>\n",
              "      <td>0.088028</td>\n",
              "      <td>0.113269</td>\n",
              "      <td>0.146613</td>\n",
              "      <td>0.139209</td>\n",
              "      <td>0.232057</td>\n",
              "    </tr>\n",
              "    <tr>\n",
              "      <th>Potential</th>\n",
              "      <td>0.728646</td>\n",
              "      <td>1.000000</td>\n",
              "      <td>0.247565</td>\n",
              "      <td>0.197650</td>\n",
              "      <td>0.103818</td>\n",
              "      <td>0.234385</td>\n",
              "      <td>0.120731</td>\n",
              "      <td>0.216569</td>\n",
              "      <td>0.142678</td>\n",
              "      <td>0.073710</td>\n",
              "      <td>0.198259</td>\n",
              "      <td>0.131986</td>\n",
              "      <td>0.090733</td>\n",
              "      <td>0.250051</td>\n",
              "      <td>0.141809</td>\n",
              "      <td>0.052071</td>\n",
              "      <td>0.206262</td>\n",
              "      <td>0.124616</td>\n",
              "      <td>0.003184</td>\n",
              "      <td>0.136456</td>\n",
              "    </tr>\n",
              "    <tr>\n",
              "      <th>Special</th>\n",
              "      <td>0.367251</td>\n",
              "      <td>0.247565</td>\n",
              "      <td>1.000000</td>\n",
              "      <td>0.629897</td>\n",
              "      <td>0.621054</td>\n",
              "      <td>0.896918</td>\n",
              "      <td>0.860172</td>\n",
              "      <td>0.869040</td>\n",
              "      <td>0.695513</td>\n",
              "      <td>0.561915</td>\n",
              "      <td>0.825377</td>\n",
              "      <td>0.824378</td>\n",
              "      <td>0.713667</td>\n",
              "      <td>0.894054</td>\n",
              "      <td>0.818974</td>\n",
              "      <td>0.462953</td>\n",
              "      <td>0.617183</td>\n",
              "      <td>0.778759</td>\n",
              "      <td>0.000105</td>\n",
              "      <td>0.731327</td>\n",
              "    </tr>\n",
              "    <tr>\n",
              "      <th>Acceleration</th>\n",
              "      <td>0.101883</td>\n",
              "      <td>0.197650</td>\n",
              "      <td>0.629897</td>\n",
              "      <td>1.000000</td>\n",
              "      <td>0.710234</td>\n",
              "      <td>0.642179</td>\n",
              "      <td>0.649359</td>\n",
              "      <td>0.730069</td>\n",
              "      <td>0.575433</td>\n",
              "      <td>0.205937</td>\n",
              "      <td>0.387253</td>\n",
              "      <td>0.543584</td>\n",
              "      <td>0.455117</td>\n",
              "      <td>0.528564</td>\n",
              "      <td>0.501066</td>\n",
              "      <td>0.052157</td>\n",
              "      <td>0.917317</td>\n",
              "      <td>0.573325</td>\n",
              "      <td>-0.312222</td>\n",
              "      <td>0.525748</td>\n",
              "    </tr>\n",
              "    <tr>\n",
              "      <th>Balance</th>\n",
              "      <td>0.062873</td>\n",
              "      <td>0.103818</td>\n",
              "      <td>0.621054</td>\n",
              "      <td>0.710234</td>\n",
              "      <td>1.000000</td>\n",
              "      <td>0.607531</td>\n",
              "      <td>0.642118</td>\n",
              "      <td>0.668371</td>\n",
              "      <td>0.517016</td>\n",
              "      <td>0.066021</td>\n",
              "      <td>0.468554</td>\n",
              "      <td>0.544810</td>\n",
              "      <td>0.452686</td>\n",
              "      <td>0.547237</td>\n",
              "      <td>0.453269</td>\n",
              "      <td>0.085776</td>\n",
              "      <td>0.627770</td>\n",
              "      <td>0.475918</td>\n",
              "      <td>-0.497532</td>\n",
              "      <td>0.504085</td>\n",
              "    </tr>\n",
              "    <tr>\n",
              "      <th>Ball Control</th>\n",
              "      <td>0.254688</td>\n",
              "      <td>0.234385</td>\n",
              "      <td>0.896918</td>\n",
              "      <td>0.642179</td>\n",
              "      <td>0.607531</td>\n",
              "      <td>1.000000</td>\n",
              "      <td>0.826925</td>\n",
              "      <td>0.934850</td>\n",
              "      <td>0.765456</td>\n",
              "      <td>0.589575</td>\n",
              "      <td>0.758881</td>\n",
              "      <td>0.812903</td>\n",
              "      <td>0.740273</td>\n",
              "      <td>0.907256</td>\n",
              "      <td>0.811939</td>\n",
              "      <td>0.307372</td>\n",
              "      <td>0.629667</td>\n",
              "      <td>0.716734</td>\n",
              "      <td>-0.067833</td>\n",
              "      <td>0.759993</td>\n",
              "    </tr>\n",
              "    <tr>\n",
              "      <th>Crossing</th>\n",
              "      <td>0.184486</td>\n",
              "      <td>0.120731</td>\n",
              "      <td>0.860172</td>\n",
              "      <td>0.649359</td>\n",
              "      <td>0.642118</td>\n",
              "      <td>0.826925</td>\n",
              "      <td>1.000000</td>\n",
              "      <td>0.846346</td>\n",
              "      <td>0.636237</td>\n",
              "      <td>0.379520</td>\n",
              "      <td>0.731626</td>\n",
              "      <td>0.736305</td>\n",
              "      <td>0.628033</td>\n",
              "      <td>0.795420</td>\n",
              "      <td>0.690469</td>\n",
              "      <td>0.322799</td>\n",
              "      <td>0.623999</td>\n",
              "      <td>0.647509</td>\n",
              "      <td>-0.205826</td>\n",
              "      <td>0.654873</td>\n",
              "    </tr>\n",
              "    <tr>\n",
              "      <th>Dribbling</th>\n",
              "      <td>0.207331</td>\n",
              "      <td>0.216569</td>\n",
              "      <td>0.869040</td>\n",
              "      <td>0.730069</td>\n",
              "      <td>0.668371</td>\n",
              "      <td>0.934850</td>\n",
              "      <td>0.846346</td>\n",
              "      <td>1.000000</td>\n",
              "      <td>0.812025</td>\n",
              "      <td>0.462335</td>\n",
              "      <td>0.688542</td>\n",
              "      <td>0.831312</td>\n",
              "      <td>0.736496</td>\n",
              "      <td>0.838274</td>\n",
              "      <td>0.791604</td>\n",
              "      <td>0.176030</td>\n",
              "      <td>0.705461</td>\n",
              "      <td>0.671527</td>\n",
              "      <td>-0.181409</td>\n",
              "      <td>0.787138</td>\n",
              "    </tr>\n",
              "    <tr>\n",
              "      <th>Finishing</th>\n",
              "      <td>0.186984</td>\n",
              "      <td>0.142678</td>\n",
              "      <td>0.695513</td>\n",
              "      <td>0.575433</td>\n",
              "      <td>0.517016</td>\n",
              "      <td>0.765456</td>\n",
              "      <td>0.636237</td>\n",
              "      <td>0.812025</td>\n",
              "      <td>1.000000</td>\n",
              "      <td>0.382672</td>\n",
              "      <td>0.453865</td>\n",
              "      <td>0.852332</td>\n",
              "      <td>0.809741</td>\n",
              "      <td>0.636134</td>\n",
              "      <td>0.779486</td>\n",
              "      <td>-0.175956</td>\n",
              "      <td>0.551252</td>\n",
              "      <td>0.468563</td>\n",
              "      <td>-0.141880</td>\n",
              "      <td>0.875402</td>\n",
              "    </tr>\n",
              "    <tr>\n",
              "      <th>Heading Accuracy</th>\n",
              "      <td>0.155032</td>\n",
              "      <td>0.073710</td>\n",
              "      <td>0.561915</td>\n",
              "      <td>0.205937</td>\n",
              "      <td>0.066021</td>\n",
              "      <td>0.589575</td>\n",
              "      <td>0.379520</td>\n",
              "      <td>0.462335</td>\n",
              "      <td>0.382672</td>\n",
              "      <td>1.000000</td>\n",
              "      <td>0.450706</td>\n",
              "      <td>0.407102</td>\n",
              "      <td>0.458026</td>\n",
              "      <td>0.583427</td>\n",
              "      <td>0.557490</td>\n",
              "      <td>0.491589</td>\n",
              "      <td>0.279795</td>\n",
              "      <td>0.569908</td>\n",
              "      <td>0.469939</td>\n",
              "      <td>0.408189</td>\n",
              "    </tr>\n",
              "    <tr>\n",
              "      <th>Long Passing</th>\n",
              "      <td>0.281935</td>\n",
              "      <td>0.198259</td>\n",
              "      <td>0.825377</td>\n",
              "      <td>0.387253</td>\n",
              "      <td>0.468554</td>\n",
              "      <td>0.758881</td>\n",
              "      <td>0.731626</td>\n",
              "      <td>0.688542</td>\n",
              "      <td>0.453865</td>\n",
              "      <td>0.450706</td>\n",
              "      <td>1.000000</td>\n",
              "      <td>0.634784</td>\n",
              "      <td>0.511609</td>\n",
              "      <td>0.873441</td>\n",
              "      <td>0.622737</td>\n",
              "      <td>0.543563</td>\n",
              "      <td>0.365345</td>\n",
              "      <td>0.624215</td>\n",
              "      <td>-0.025985</td>\n",
              "      <td>0.492878</td>\n",
              "    </tr>\n",
              "    <tr>\n",
              "      <th>Long Shots</th>\n",
              "      <td>0.217367</td>\n",
              "      <td>0.131986</td>\n",
              "      <td>0.824378</td>\n",
              "      <td>0.543584</td>\n",
              "      <td>0.544810</td>\n",
              "      <td>0.812903</td>\n",
              "      <td>0.736305</td>\n",
              "      <td>0.831312</td>\n",
              "      <td>0.852332</td>\n",
              "      <td>0.407102</td>\n",
              "      <td>0.634784</td>\n",
              "      <td>1.000000</td>\n",
              "      <td>0.785528</td>\n",
              "      <td>0.739999</td>\n",
              "      <td>0.874506</td>\n",
              "      <td>0.060562</td>\n",
              "      <td>0.515983</td>\n",
              "      <td>0.556640</td>\n",
              "      <td>-0.112178</td>\n",
              "      <td>0.841893</td>\n",
              "    </tr>\n",
              "    <tr>\n",
              "      <th>Penalties</th>\n",
              "      <td>0.203857</td>\n",
              "      <td>0.090733</td>\n",
              "      <td>0.713667</td>\n",
              "      <td>0.455117</td>\n",
              "      <td>0.452686</td>\n",
              "      <td>0.740273</td>\n",
              "      <td>0.628033</td>\n",
              "      <td>0.736496</td>\n",
              "      <td>0.809741</td>\n",
              "      <td>0.458026</td>\n",
              "      <td>0.511609</td>\n",
              "      <td>0.785528</td>\n",
              "      <td>1.000000</td>\n",
              "      <td>0.654387</td>\n",
              "      <td>0.763268</td>\n",
              "      <td>-0.013950</td>\n",
              "      <td>0.437859</td>\n",
              "      <td>0.459508</td>\n",
              "      <td>-0.052440</td>\n",
              "      <td>0.804353</td>\n",
              "    </tr>\n",
              "    <tr>\n",
              "      <th>Short Passing</th>\n",
              "      <td>0.294555</td>\n",
              "      <td>0.250051</td>\n",
              "      <td>0.894054</td>\n",
              "      <td>0.528564</td>\n",
              "      <td>0.547237</td>\n",
              "      <td>0.907256</td>\n",
              "      <td>0.795420</td>\n",
              "      <td>0.838274</td>\n",
              "      <td>0.636134</td>\n",
              "      <td>0.583427</td>\n",
              "      <td>0.873441</td>\n",
              "      <td>0.739999</td>\n",
              "      <td>0.654387</td>\n",
              "      <td>1.000000</td>\n",
              "      <td>0.744606</td>\n",
              "      <td>0.455786</td>\n",
              "      <td>0.514339</td>\n",
              "      <td>0.718213</td>\n",
              "      <td>-0.017501</td>\n",
              "      <td>0.651947</td>\n",
              "    </tr>\n",
              "    <tr>\n",
              "      <th>Shot Power</th>\n",
              "      <td>0.233877</td>\n",
              "      <td>0.141809</td>\n",
              "      <td>0.818974</td>\n",
              "      <td>0.501066</td>\n",
              "      <td>0.453269</td>\n",
              "      <td>0.811939</td>\n",
              "      <td>0.690469</td>\n",
              "      <td>0.791604</td>\n",
              "      <td>0.779486</td>\n",
              "      <td>0.557490</td>\n",
              "      <td>0.622737</td>\n",
              "      <td>0.874506</td>\n",
              "      <td>0.763268</td>\n",
              "      <td>0.744606</td>\n",
              "      <td>1.000000</td>\n",
              "      <td>0.169939</td>\n",
              "      <td>0.508800</td>\n",
              "      <td>0.599905</td>\n",
              "      <td>0.058202</td>\n",
              "      <td>0.795047</td>\n",
              "    </tr>\n",
              "    <tr>\n",
              "      <th>Sliding Tackle</th>\n",
              "      <td>0.088028</td>\n",
              "      <td>0.052071</td>\n",
              "      <td>0.462953</td>\n",
              "      <td>0.052157</td>\n",
              "      <td>0.085776</td>\n",
              "      <td>0.307372</td>\n",
              "      <td>0.322799</td>\n",
              "      <td>0.176030</td>\n",
              "      <td>-0.175956</td>\n",
              "      <td>0.491589</td>\n",
              "      <td>0.543563</td>\n",
              "      <td>0.060562</td>\n",
              "      <td>-0.013950</td>\n",
              "      <td>0.455786</td>\n",
              "      <td>0.169939</td>\n",
              "      <td>1.000000</td>\n",
              "      <td>0.084856</td>\n",
              "      <td>0.508087</td>\n",
              "      <td>0.282652</td>\n",
              "      <td>-0.088412</td>\n",
              "    </tr>\n",
              "    <tr>\n",
              "      <th>Sprint Speed</th>\n",
              "      <td>0.113269</td>\n",
              "      <td>0.206262</td>\n",
              "      <td>0.617183</td>\n",
              "      <td>0.917317</td>\n",
              "      <td>0.627770</td>\n",
              "      <td>0.629667</td>\n",
              "      <td>0.623999</td>\n",
              "      <td>0.705461</td>\n",
              "      <td>0.551252</td>\n",
              "      <td>0.279795</td>\n",
              "      <td>0.365345</td>\n",
              "      <td>0.515983</td>\n",
              "      <td>0.437859</td>\n",
              "      <td>0.514339</td>\n",
              "      <td>0.508800</td>\n",
              "      <td>0.084856</td>\n",
              "      <td>1.000000</td>\n",
              "      <td>0.593907</td>\n",
              "      <td>-0.209997</td>\n",
              "      <td>0.504660</td>\n",
              "    </tr>\n",
              "    <tr>\n",
              "      <th>Stamina</th>\n",
              "      <td>0.146613</td>\n",
              "      <td>0.124616</td>\n",
              "      <td>0.778759</td>\n",
              "      <td>0.573325</td>\n",
              "      <td>0.475918</td>\n",
              "      <td>0.716734</td>\n",
              "      <td>0.647509</td>\n",
              "      <td>0.671527</td>\n",
              "      <td>0.468563</td>\n",
              "      <td>0.569908</td>\n",
              "      <td>0.624215</td>\n",
              "      <td>0.556640</td>\n",
              "      <td>0.459508</td>\n",
              "      <td>0.718213</td>\n",
              "      <td>0.599905</td>\n",
              "      <td>0.508087</td>\n",
              "      <td>0.593907</td>\n",
              "      <td>1.000000</td>\n",
              "      <td>0.118544</td>\n",
              "      <td>0.465332</td>\n",
              "    </tr>\n",
              "    <tr>\n",
              "      <th>Strength</th>\n",
              "      <td>0.139209</td>\n",
              "      <td>0.003184</td>\n",
              "      <td>0.000105</td>\n",
              "      <td>-0.312222</td>\n",
              "      <td>-0.497532</td>\n",
              "      <td>-0.067833</td>\n",
              "      <td>-0.205826</td>\n",
              "      <td>-0.181409</td>\n",
              "      <td>-0.141880</td>\n",
              "      <td>0.469939</td>\n",
              "      <td>-0.025985</td>\n",
              "      <td>-0.112178</td>\n",
              "      <td>-0.052440</td>\n",
              "      <td>-0.017501</td>\n",
              "      <td>0.058202</td>\n",
              "      <td>0.282652</td>\n",
              "      <td>-0.209997</td>\n",
              "      <td>0.118544</td>\n",
              "      <td>1.000000</td>\n",
              "      <td>-0.111043</td>\n",
              "    </tr>\n",
              "    <tr>\n",
              "      <th>Volleys</th>\n",
              "      <td>0.232057</td>\n",
              "      <td>0.136456</td>\n",
              "      <td>0.731327</td>\n",
              "      <td>0.525748</td>\n",
              "      <td>0.504085</td>\n",
              "      <td>0.759993</td>\n",
              "      <td>0.654873</td>\n",
              "      <td>0.787138</td>\n",
              "      <td>0.875402</td>\n",
              "      <td>0.408189</td>\n",
              "      <td>0.492878</td>\n",
              "      <td>0.841893</td>\n",
              "      <td>0.804353</td>\n",
              "      <td>0.651947</td>\n",
              "      <td>0.795047</td>\n",
              "      <td>-0.088412</td>\n",
              "      <td>0.504660</td>\n",
              "      <td>0.465332</td>\n",
              "      <td>-0.111043</td>\n",
              "      <td>1.000000</td>\n",
              "    </tr>\n",
              "  </tbody>\n",
              "</table>\n",
              "</div>"
            ],
            "text/plain": [
              "                   Overall  Potential   Special  Acceleration   Balance  \\\n",
              "Overall           1.000000   0.728646  0.367251      0.101883  0.062873   \n",
              "Potential         0.728646   1.000000  0.247565      0.197650  0.103818   \n",
              "Special           0.367251   0.247565  1.000000      0.629897  0.621054   \n",
              "Acceleration      0.101883   0.197650  0.629897      1.000000  0.710234   \n",
              "Balance           0.062873   0.103818  0.621054      0.710234  1.000000   \n",
              "Ball Control      0.254688   0.234385  0.896918      0.642179  0.607531   \n",
              "Crossing          0.184486   0.120731  0.860172      0.649359  0.642118   \n",
              "Dribbling         0.207331   0.216569  0.869040      0.730069  0.668371   \n",
              "Finishing         0.186984   0.142678  0.695513      0.575433  0.517016   \n",
              "Heading Accuracy  0.155032   0.073710  0.561915      0.205937  0.066021   \n",
              "Long Passing      0.281935   0.198259  0.825377      0.387253  0.468554   \n",
              "Long Shots        0.217367   0.131986  0.824378      0.543584  0.544810   \n",
              "Penalties         0.203857   0.090733  0.713667      0.455117  0.452686   \n",
              "Short Passing     0.294555   0.250051  0.894054      0.528564  0.547237   \n",
              "Shot Power        0.233877   0.141809  0.818974      0.501066  0.453269   \n",
              "Sliding Tackle    0.088028   0.052071  0.462953      0.052157  0.085776   \n",
              "Sprint Speed      0.113269   0.206262  0.617183      0.917317  0.627770   \n",
              "Stamina           0.146613   0.124616  0.778759      0.573325  0.475918   \n",
              "Strength          0.139209   0.003184  0.000105     -0.312222 -0.497532   \n",
              "Volleys           0.232057   0.136456  0.731327      0.525748  0.504085   \n",
              "\n",
              "                  Ball Control  Crossing  Dribbling  Finishing  \\\n",
              "Overall               0.254688  0.184486   0.207331   0.186984   \n",
              "Potential             0.234385  0.120731   0.216569   0.142678   \n",
              "Special               0.896918  0.860172   0.869040   0.695513   \n",
              "Acceleration          0.642179  0.649359   0.730069   0.575433   \n",
              "Balance               0.607531  0.642118   0.668371   0.517016   \n",
              "Ball Control          1.000000  0.826925   0.934850   0.765456   \n",
              "Crossing              0.826925  1.000000   0.846346   0.636237   \n",
              "Dribbling             0.934850  0.846346   1.000000   0.812025   \n",
              "Finishing             0.765456  0.636237   0.812025   1.000000   \n",
              "Heading Accuracy      0.589575  0.379520   0.462335   0.382672   \n",
              "Long Passing          0.758881  0.731626   0.688542   0.453865   \n",
              "Long Shots            0.812903  0.736305   0.831312   0.852332   \n",
              "Penalties             0.740273  0.628033   0.736496   0.809741   \n",
              "Short Passing         0.907256  0.795420   0.838274   0.636134   \n",
              "Shot Power            0.811939  0.690469   0.791604   0.779486   \n",
              "Sliding Tackle        0.307372  0.322799   0.176030  -0.175956   \n",
              "Sprint Speed          0.629667  0.623999   0.705461   0.551252   \n",
              "Stamina               0.716734  0.647509   0.671527   0.468563   \n",
              "Strength             -0.067833 -0.205826  -0.181409  -0.141880   \n",
              "Volleys               0.759993  0.654873   0.787138   0.875402   \n",
              "\n",
              "                  Heading Accuracy  Long Passing  Long Shots  Penalties  \\\n",
              "Overall                   0.155032      0.281935    0.217367   0.203857   \n",
              "Potential                 0.073710      0.198259    0.131986   0.090733   \n",
              "Special                   0.561915      0.825377    0.824378   0.713667   \n",
              "Acceleration              0.205937      0.387253    0.543584   0.455117   \n",
              "Balance                   0.066021      0.468554    0.544810   0.452686   \n",
              "Ball Control              0.589575      0.758881    0.812903   0.740273   \n",
              "Crossing                  0.379520      0.731626    0.736305   0.628033   \n",
              "Dribbling                 0.462335      0.688542    0.831312   0.736496   \n",
              "Finishing                 0.382672      0.453865    0.852332   0.809741   \n",
              "Heading Accuracy          1.000000      0.450706    0.407102   0.458026   \n",
              "Long Passing              0.450706      1.000000    0.634784   0.511609   \n",
              "Long Shots                0.407102      0.634784    1.000000   0.785528   \n",
              "Penalties                 0.458026      0.511609    0.785528   1.000000   \n",
              "Short Passing             0.583427      0.873441    0.739999   0.654387   \n",
              "Shot Power                0.557490      0.622737    0.874506   0.763268   \n",
              "Sliding Tackle            0.491589      0.543563    0.060562  -0.013950   \n",
              "Sprint Speed              0.279795      0.365345    0.515983   0.437859   \n",
              "Stamina                   0.569908      0.624215    0.556640   0.459508   \n",
              "Strength                  0.469939     -0.025985   -0.112178  -0.052440   \n",
              "Volleys                   0.408189      0.492878    0.841893   0.804353   \n",
              "\n",
              "                  Short Passing  Shot Power  Sliding Tackle  Sprint Speed  \\\n",
              "Overall                0.294555    0.233877        0.088028      0.113269   \n",
              "Potential              0.250051    0.141809        0.052071      0.206262   \n",
              "Special                0.894054    0.818974        0.462953      0.617183   \n",
              "Acceleration           0.528564    0.501066        0.052157      0.917317   \n",
              "Balance                0.547237    0.453269        0.085776      0.627770   \n",
              "Ball Control           0.907256    0.811939        0.307372      0.629667   \n",
              "Crossing               0.795420    0.690469        0.322799      0.623999   \n",
              "Dribbling              0.838274    0.791604        0.176030      0.705461   \n",
              "Finishing              0.636134    0.779486       -0.175956      0.551252   \n",
              "Heading Accuracy       0.583427    0.557490        0.491589      0.279795   \n",
              "Long Passing           0.873441    0.622737        0.543563      0.365345   \n",
              "Long Shots             0.739999    0.874506        0.060562      0.515983   \n",
              "Penalties              0.654387    0.763268       -0.013950      0.437859   \n",
              "Short Passing          1.000000    0.744606        0.455786      0.514339   \n",
              "Shot Power             0.744606    1.000000        0.169939      0.508800   \n",
              "Sliding Tackle         0.455786    0.169939        1.000000      0.084856   \n",
              "Sprint Speed           0.514339    0.508800        0.084856      1.000000   \n",
              "Stamina                0.718213    0.599905        0.508087      0.593907   \n",
              "Strength              -0.017501    0.058202        0.282652     -0.209997   \n",
              "Volleys                0.651947    0.795047       -0.088412      0.504660   \n",
              "\n",
              "                   Stamina  Strength   Volleys  \n",
              "Overall           0.146613  0.139209  0.232057  \n",
              "Potential         0.124616  0.003184  0.136456  \n",
              "Special           0.778759  0.000105  0.731327  \n",
              "Acceleration      0.573325 -0.312222  0.525748  \n",
              "Balance           0.475918 -0.497532  0.504085  \n",
              "Ball Control      0.716734 -0.067833  0.759993  \n",
              "Crossing          0.647509 -0.205826  0.654873  \n",
              "Dribbling         0.671527 -0.181409  0.787138  \n",
              "Finishing         0.468563 -0.141880  0.875402  \n",
              "Heading Accuracy  0.569908  0.469939  0.408189  \n",
              "Long Passing      0.624215 -0.025985  0.492878  \n",
              "Long Shots        0.556640 -0.112178  0.841893  \n",
              "Penalties         0.459508 -0.052440  0.804353  \n",
              "Short Passing     0.718213 -0.017501  0.651947  \n",
              "Shot Power        0.599905  0.058202  0.795047  \n",
              "Sliding Tackle    0.508087  0.282652 -0.088412  \n",
              "Sprint Speed      0.593907 -0.209997  0.504660  \n",
              "Stamina           1.000000  0.118544  0.465332  \n",
              "Strength          0.118544  1.000000 -0.111043  \n",
              "Volleys           0.465332 -0.111043  1.000000  "
            ]
          },
          "metadata": {
            "tags": []
          },
          "execution_count": 8
        }
      ]
    },
    {
      "cell_type": "code",
      "metadata": {
        "id": "kzC9o6LOOD54",
        "outputId": "3fdca983-eef4-40dc-8924-1358ecad4638"
      },
      "source": [
        "finaldf=fdf[['Ball Control','Special','Short Passing','Dribbling','Long Passing']]\n",
        "finaldf.corr()"
      ],
      "execution_count": null,
      "outputs": [
        {
          "output_type": "execute_result",
          "data": {
            "text/html": [
              "<div>\n",
              "<style scoped>\n",
              "    .dataframe tbody tr th:only-of-type {\n",
              "        vertical-align: middle;\n",
              "    }\n",
              "\n",
              "    .dataframe tbody tr th {\n",
              "        vertical-align: top;\n",
              "    }\n",
              "\n",
              "    .dataframe thead th {\n",
              "        text-align: right;\n",
              "    }\n",
              "</style>\n",
              "<table border=\"1\" class=\"dataframe\">\n",
              "  <thead>\n",
              "    <tr style=\"text-align: right;\">\n",
              "      <th></th>\n",
              "      <th>Ball Control</th>\n",
              "      <th>Special</th>\n",
              "      <th>Short Passing</th>\n",
              "      <th>Dribbling</th>\n",
              "      <th>Long Passing</th>\n",
              "    </tr>\n",
              "  </thead>\n",
              "  <tbody>\n",
              "    <tr>\n",
              "      <th>Ball Control</th>\n",
              "      <td>1.000000</td>\n",
              "      <td>0.896918</td>\n",
              "      <td>0.907256</td>\n",
              "      <td>0.934850</td>\n",
              "      <td>0.758881</td>\n",
              "    </tr>\n",
              "    <tr>\n",
              "      <th>Special</th>\n",
              "      <td>0.896918</td>\n",
              "      <td>1.000000</td>\n",
              "      <td>0.894054</td>\n",
              "      <td>0.869040</td>\n",
              "      <td>0.825377</td>\n",
              "    </tr>\n",
              "    <tr>\n",
              "      <th>Short Passing</th>\n",
              "      <td>0.907256</td>\n",
              "      <td>0.894054</td>\n",
              "      <td>1.000000</td>\n",
              "      <td>0.838274</td>\n",
              "      <td>0.873441</td>\n",
              "    </tr>\n",
              "    <tr>\n",
              "      <th>Dribbling</th>\n",
              "      <td>0.934850</td>\n",
              "      <td>0.869040</td>\n",
              "      <td>0.838274</td>\n",
              "      <td>1.000000</td>\n",
              "      <td>0.688542</td>\n",
              "    </tr>\n",
              "    <tr>\n",
              "      <th>Long Passing</th>\n",
              "      <td>0.758881</td>\n",
              "      <td>0.825377</td>\n",
              "      <td>0.873441</td>\n",
              "      <td>0.688542</td>\n",
              "      <td>1.000000</td>\n",
              "    </tr>\n",
              "  </tbody>\n",
              "</table>\n",
              "</div>"
            ],
            "text/plain": [
              "               Ball Control   Special  Short Passing  Dribbling  Long Passing\n",
              "Ball Control       1.000000  0.896918       0.907256   0.934850      0.758881\n",
              "Special            0.896918  1.000000       0.894054   0.869040      0.825377\n",
              "Short Passing      0.907256  0.894054       1.000000   0.838274      0.873441\n",
              "Dribbling          0.934850  0.869040       0.838274   1.000000      0.688542\n",
              "Long Passing       0.758881  0.825377       0.873441   0.688542      1.000000"
            ]
          },
          "metadata": {
            "tags": []
          },
          "execution_count": 11
        }
      ]
    },
    {
      "cell_type": "code",
      "metadata": {
        "id": "C6ONF9kFOipk"
      },
      "source": [
        "finaldf.Ball Control.min()"
      ],
      "execution_count": null,
      "outputs": []
    }
  ]
}